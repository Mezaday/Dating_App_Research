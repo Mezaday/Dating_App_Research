{
 "cells": [
  {
   "cell_type": "code",
   "execution_count": 1,
   "metadata": {},
   "outputs": [],
   "source": [
    "import pandas as pd\n",
    "import numpy as np\n",
    "import seaborn as sns\n",
    "import matplotlib.pyplot as plt\n",
    "import plotly.express as px\n",
    "import datetime\n",
    "import scipy\n",
    "from scipy import stats\n",
    "from tqdm.auto import tqdm\n",
    "from scipy.stats import norm, mannwhitneyu\n",
    "import requests \n",
    "from urllib.parse import urlencode \n",
    "from functools import reduce\n",
    "import warnings\n",
    "warnings.filterwarnings('ignore')\n",
    "\n",
    "%matplotlib inline"
   ]
  },
  {
   "cell_type": "markdown",
   "metadata": {},
   "source": [
    "Остроухов Владислав.\n",
    "3 Вариант.\n",
    "\n",
    "Представьте, что вы работаете в крупном дейтинговом приложении.\n",
    "\n",
    "Помимо базовых функций, в приложении также имеется премиум-подписка, которая дает доступ к ряду важных дополнительных возможностей. Был проведен A/B тест, в рамках которого для новых пользователей из нескольких стран была изменена стоимость премиум-подписки* при покупке через две новые платежные системы. При этом стоимость пробного периода оставалась прежней.\n",
    "\n",
    "Проверьте:\n",
    "\n",
    "    1. Был ли эксперимент успешен в целом.\n",
    "    2. Проанализируйте, имеет ли нововведение смысл среди каких-либо конкретных групп пользователей.\n",
    "\n",
    "Деньги за подписку списываются ежемесячно до тех пор, пока пользователь её не отменит.\n",
    "\n",
    "Исходные данные:\n",
    "    \n",
    "    Пользователи тестовой группы B (user_test)\n",
    "    Транзации тестовой группы B (transaction_test)\n",
    "    Пользователи контрольной группы А1 (user_control_1)\n",
    "    Транзации контрольной группы А1 (transaction_control_1)\n",
    "    Пользователи контрольной группы А2 (user_control_2)\n",
    "    Транзации контрольной группы А2 (transaction_control_2)"
   ]
  },
  {
   "cell_type": "code",
   "execution_count": 2,
   "metadata": {},
   "outputs": [],
   "source": [
    "# Функция для извлечения таблиц с яднекс диска.\n",
    "def df (public_key):\n",
    "    \n",
    "    # Используем api \n",
    "    base_url = 'https://cloud-api.yandex.net/v1/disk/public/resources/download?'\n",
    "    \n",
    "    #Получаем url \n",
    "    final_url = base_url + urlencode(dict(public_key=public_key))\n",
    "    response = requests.get(final_url) \n",
    "    download_url = response.json()['href'] \n",
    " \n",
    "    #Загружаем файл в df \n",
    "    download_response = requests.get(download_url) \n",
    "    df = pd.read_csv(download_url, sep=';') \n",
    "    return df"
   ]
  },
  {
   "cell_type": "code",
   "execution_count": 3,
   "metadata": {},
   "outputs": [],
   "source": [
    "# Функция bootstrap тестирования.\n",
    "def get_bootstrap(\n",
    "    data_column_1, # числовые значения первой выборки\n",
    "    data_column_2, # числовые значения второй выборки\n",
    "    boot_it = 1000, # количество бутстрэп-подвыборок\n",
    "    statistic = np.mean, # интересующая нас статистика\n",
    "    bootstrap_conf_level = 0.95 # уровень значимости\n",
    "):\n",
    "    boot_len = max([len(data_column_1), len(data_column_2)])\n",
    "    boot_data = []\n",
    "    for i in range(boot_it): # извлекаем подвыборки\n",
    "        samples_1 = data_column_1.sample(\n",
    "            boot_len, \n",
    "            replace = True # параметр возвращения\n",
    "        ).values\n",
    "        \n",
    "        samples_2 = data_column_2.sample(\n",
    "            boot_len, \n",
    "            replace = True\n",
    "        ).values\n",
    "        \n",
    "        boot_data.append(statistic(samples_1-samples_2)) # mean() - применяем статистику\n",
    "        \n",
    "    pd_boot_data = pd.DataFrame(boot_data)\n",
    "        \n",
    "    left_quant = (1 - bootstrap_conf_level)/2\n",
    "    right_quant = 1 - (1 - bootstrap_conf_level) / 2\n",
    "    ci = pd_boot_data.quantile([left_quant, right_quant])\n",
    "        \n",
    "    p_1 = norm.cdf(\n",
    "        x = 0, \n",
    "        loc = np.mean(boot_data), \n",
    "        scale = np.std(boot_data)\n",
    "    )\n",
    "    p_2 = norm.cdf(\n",
    "        x = 0, \n",
    "        loc = -np.mean(boot_data), \n",
    "        scale = np.std(boot_data)\n",
    "    )\n",
    "    p_value = min(p_1, p_2) * 2\n",
    "\n",
    "       \n",
    "    return {\"boot_data\": boot_data, \n",
    "            \"ci\": ci, \n",
    "            \"p_value\": p_value}"
   ]
  },
  {
   "cell_type": "code",
   "execution_count": 4,
   "metadata": {},
   "outputs": [],
   "source": [
    "# Данные пользователей тестовой группы.\n",
    "user_test = df('https://disk.yandex.ru/d/4XXIME4osGrMRA')\n",
    "# Данные пользователей 1й контрольной группы группы.\n",
    "user_control_1 = df('https://disk.yandex.ru/d/yJFydMNNGkEKfg')\n",
    "# Данные пользователей 2й контрольной группы группы.\n",
    "user_control_2 = df('https://disk.yandex.ru/d/br6KkQupzzTGoQ')\n",
    "# Данные транзакций тестовой группы.\n",
    "transaction_test = df('https://disk.yandex.ru/d/gvCWpZ55ODzs2g')\n",
    "# Данные транзакций 1й контрольной группы группы.\n",
    "transaction_control_1 = df('https://disk.yandex.ru/d/VY5W0keMX5TZBQ')\n",
    "# Данные транзакций 2й контрольной группы группы.\n",
    "transaction_control_2 = df('https://disk.yandex.ru/d/th5GL0mGOc-qzg')"
   ]
  },
  {
   "cell_type": "markdown",
   "metadata": {},
   "source": [
    "# Предобработка данных"
   ]
  },
  {
   "cell_type": "markdown",
   "metadata": {},
   "source": [
    "Для начала нужно выполнить предобработку данных. Проверить на наличее дубликатов/пустых строк. Посмотреть на распределение внутри групп."
   ]
  },
  {
   "cell_type": "markdown",
   "metadata": {},
   "source": [
    "#### Проведем проверку для тестовой группы B."
   ]
  },
  {
   "cell_type": "code",
   "execution_count": 5,
   "metadata": {},
   "outputs": [
    {
     "data": {
      "text/html": [
       "<div>\n",
       "<style scoped>\n",
       "    .dataframe tbody tr th:only-of-type {\n",
       "        vertical-align: middle;\n",
       "    }\n",
       "\n",
       "    .dataframe tbody tr th {\n",
       "        vertical-align: top;\n",
       "    }\n",
       "\n",
       "    .dataframe thead th {\n",
       "        text-align: right;\n",
       "    }\n",
       "</style>\n",
       "<table border=\"1\" class=\"dataframe\">\n",
       "  <thead>\n",
       "    <tr style=\"text-align: right;\">\n",
       "      <th></th>\n",
       "      <th>uid</th>\n",
       "      <th>age</th>\n",
       "      <th>attraction_coeff</th>\n",
       "      <th>coins</th>\n",
       "      <th>country</th>\n",
       "      <th>visit_days</th>\n",
       "      <th>gender</th>\n",
       "      <th>age_filter_start</th>\n",
       "      <th>age_filter_end</th>\n",
       "      <th>views_count</th>\n",
       "      <th>was_premium</th>\n",
       "      <th>is_premium</th>\n",
       "      <th>total_revenue</th>\n",
       "    </tr>\n",
       "  </thead>\n",
       "  <tbody>\n",
       "    <tr>\n",
       "      <th>0</th>\n",
       "      <td>892309896</td>\n",
       "      <td>27</td>\n",
       "      <td>685</td>\n",
       "      <td>NaN</td>\n",
       "      <td>United States of America</td>\n",
       "      <td>1,2,3,4,5,6,7,8,9,10,11,12,16,17</td>\n",
       "      <td>1</td>\n",
       "      <td>24</td>\n",
       "      <td>30</td>\n",
       "      <td>89</td>\n",
       "      <td>NaN</td>\n",
       "      <td>NaN</td>\n",
       "      <td>0</td>\n",
       "    </tr>\n",
       "    <tr>\n",
       "      <th>1</th>\n",
       "      <td>892044516</td>\n",
       "      <td>27</td>\n",
       "      <td>0</td>\n",
       "      <td>NaN</td>\n",
       "      <td>Germany</td>\n",
       "      <td>NaN</td>\n",
       "      <td>1</td>\n",
       "      <td>24</td>\n",
       "      <td>30</td>\n",
       "      <td>0</td>\n",
       "      <td>NaN</td>\n",
       "      <td>NaN</td>\n",
       "      <td>0</td>\n",
       "    </tr>\n",
       "    <tr>\n",
       "      <th>2</th>\n",
       "      <td>892185708</td>\n",
       "      <td>45</td>\n",
       "      <td>44</td>\n",
       "      <td>NaN</td>\n",
       "      <td>Israel</td>\n",
       "      <td>1,3,4,6,7,8,10,11,12,13,14,15,16,17,18,19,20,2...</td>\n",
       "      <td>1</td>\n",
       "      <td>42</td>\n",
       "      <td>48</td>\n",
       "      <td>68</td>\n",
       "      <td>NaN</td>\n",
       "      <td>NaN</td>\n",
       "      <td>0</td>\n",
       "    </tr>\n",
       "    <tr>\n",
       "      <th>3</th>\n",
       "      <td>892130292</td>\n",
       "      <td>32</td>\n",
       "      <td>0</td>\n",
       "      <td>NaN</td>\n",
       "      <td>United States of America</td>\n",
       "      <td>1,2,3,4,5,6,7,8,9,10,11,12</td>\n",
       "      <td>1</td>\n",
       "      <td>29</td>\n",
       "      <td>35</td>\n",
       "      <td>0</td>\n",
       "      <td>NaN</td>\n",
       "      <td>NaN</td>\n",
       "      <td>0</td>\n",
       "    </tr>\n",
       "    <tr>\n",
       "      <th>4</th>\n",
       "      <td>891406035</td>\n",
       "      <td>27</td>\n",
       "      <td>1000</td>\n",
       "      <td>NaN</td>\n",
       "      <td>France</td>\n",
       "      <td>NaN</td>\n",
       "      <td>1</td>\n",
       "      <td>24</td>\n",
       "      <td>30</td>\n",
       "      <td>1</td>\n",
       "      <td>1.0</td>\n",
       "      <td>NaN</td>\n",
       "      <td>0</td>\n",
       "    </tr>\n",
       "  </tbody>\n",
       "</table>\n",
       "</div>"
      ],
      "text/plain": [
       "         uid  age  attraction_coeff  coins                   country  \\\n",
       "0  892309896   27               685    NaN  United States of America   \n",
       "1  892044516   27                 0    NaN                   Germany   \n",
       "2  892185708   45                44    NaN                    Israel   \n",
       "3  892130292   32                 0    NaN  United States of America   \n",
       "4  891406035   27              1000    NaN                    France   \n",
       "\n",
       "                                          visit_days  gender  \\\n",
       "0                   1,2,3,4,5,6,7,8,9,10,11,12,16,17       1   \n",
       "1                                                NaN       1   \n",
       "2  1,3,4,6,7,8,10,11,12,13,14,15,16,17,18,19,20,2...       1   \n",
       "3                         1,2,3,4,5,6,7,8,9,10,11,12       1   \n",
       "4                                                NaN       1   \n",
       "\n",
       "   age_filter_start  age_filter_end  views_count  was_premium  is_premium  \\\n",
       "0                24              30           89          NaN         NaN   \n",
       "1                24              30            0          NaN         NaN   \n",
       "2                42              48           68          NaN         NaN   \n",
       "3                29              35            0          NaN         NaN   \n",
       "4                24              30            1          1.0         NaN   \n",
       "\n",
       "   total_revenue  \n",
       "0              0  \n",
       "1              0  \n",
       "2              0  \n",
       "3              0  \n",
       "4              0  "
      ]
     },
     "execution_count": 5,
     "metadata": {},
     "output_type": "execute_result"
    }
   ],
   "source": [
    "user_test.head(5)"
   ]
  },
  {
   "cell_type": "code",
   "execution_count": 6,
   "metadata": {},
   "outputs": [
    {
     "name": "stdout",
     "output_type": "stream",
     "text": [
      "<class 'pandas.core.frame.DataFrame'>\n",
      "RangeIndex: 4308 entries, 0 to 4307\n",
      "Data columns (total 13 columns):\n",
      " #   Column            Non-Null Count  Dtype  \n",
      "---  ------            --------------  -----  \n",
      " 0   uid               4308 non-null   int64  \n",
      " 1   age               4308 non-null   int64  \n",
      " 2   attraction_coeff  4308 non-null   int64  \n",
      " 3   coins             49 non-null     float64\n",
      " 4   country           4308 non-null   object \n",
      " 5   visit_days        2978 non-null   object \n",
      " 6   gender            4308 non-null   int64  \n",
      " 7   age_filter_start  4308 non-null   int64  \n",
      " 8   age_filter_end    4308 non-null   int64  \n",
      " 9   views_count       4308 non-null   int64  \n",
      " 10  was_premium       408 non-null    float64\n",
      " 11  is_premium        157 non-null    float64\n",
      " 12  total_revenue     4308 non-null   int64  \n",
      "dtypes: float64(3), int64(8), object(2)\n",
      "memory usage: 437.7+ KB\n"
     ]
    }
   ],
   "source": [
    "user_test.info()"
   ]
  },
  {
   "cell_type": "code",
   "execution_count": 7,
   "metadata": {},
   "outputs": [
    {
     "data": {
      "text/plain": [
       "(4308, 13)"
      ]
     },
     "execution_count": 7,
     "metadata": {},
     "output_type": "execute_result"
    }
   ],
   "source": [
    "user_test.shape"
   ]
  },
  {
   "cell_type": "code",
   "execution_count": 8,
   "metadata": {},
   "outputs": [
    {
     "data": {
      "text/plain": [
       "uid                    0\n",
       "age                    0\n",
       "attraction_coeff       0\n",
       "coins               4259\n",
       "country                0\n",
       "visit_days          1330\n",
       "gender                 0\n",
       "age_filter_start       0\n",
       "age_filter_end         0\n",
       "views_count            0\n",
       "was_premium         3900\n",
       "is_premium          4151\n",
       "total_revenue          0\n",
       "dtype: int64"
      ]
     },
     "execution_count": 8,
     "metadata": {},
     "output_type": "execute_result"
    }
   ],
   "source": [
    "# Проверим наличие пустых значений.\n",
    "user_test.isna().sum()"
   ]
  },
  {
   "cell_type": "code",
   "execution_count": 9,
   "metadata": {},
   "outputs": [
    {
     "data": {
      "text/plain": [
       "4308"
      ]
     },
     "execution_count": 9,
     "metadata": {},
     "output_type": "execute_result"
    }
   ],
   "source": [
    "# Проверим уникальность пользователей.\n",
    "user_test.uid.nunique()"
   ]
  },
  {
   "cell_type": "code",
   "execution_count": 10,
   "metadata": {},
   "outputs": [],
   "source": [
    "# Количество уникальных пользователей соотсветвует общему количеству пользователей и строк в таблице.\n",
    "# Проверку на дубликаты можно не проводить."
   ]
  },
  {
   "cell_type": "markdown",
   "metadata": {},
   "source": [
    "#### Проведем проверку для контрольной группы A1."
   ]
  },
  {
   "cell_type": "code",
   "execution_count": 11,
   "metadata": {},
   "outputs": [
    {
     "data": {
      "text/html": [
       "<div>\n",
       "<style scoped>\n",
       "    .dataframe tbody tr th:only-of-type {\n",
       "        vertical-align: middle;\n",
       "    }\n",
       "\n",
       "    .dataframe tbody tr th {\n",
       "        vertical-align: top;\n",
       "    }\n",
       "\n",
       "    .dataframe thead th {\n",
       "        text-align: right;\n",
       "    }\n",
       "</style>\n",
       "<table border=\"1\" class=\"dataframe\">\n",
       "  <thead>\n",
       "    <tr style=\"text-align: right;\">\n",
       "      <th></th>\n",
       "      <th>uid</th>\n",
       "      <th>age</th>\n",
       "      <th>attraction_coeff</th>\n",
       "      <th>coins</th>\n",
       "      <th>country</th>\n",
       "      <th>visit_days</th>\n",
       "      <th>gender</th>\n",
       "      <th>age_filter_start</th>\n",
       "      <th>age_filter_end</th>\n",
       "      <th>views_count</th>\n",
       "      <th>was_premium</th>\n",
       "      <th>is_premium</th>\n",
       "      <th>total_revenue</th>\n",
       "    </tr>\n",
       "  </thead>\n",
       "  <tbody>\n",
       "    <tr>\n",
       "      <th>0</th>\n",
       "      <td>892319115</td>\n",
       "      <td>25</td>\n",
       "      <td>435</td>\n",
       "      <td>NaN</td>\n",
       "      <td>United States of America</td>\n",
       "      <td>1,2,3,4,5,6</td>\n",
       "      <td>0</td>\n",
       "      <td>22</td>\n",
       "      <td>32</td>\n",
       "      <td>982</td>\n",
       "      <td>NaN</td>\n",
       "      <td>NaN</td>\n",
       "      <td>0</td>\n",
       "    </tr>\n",
       "    <tr>\n",
       "      <th>1</th>\n",
       "      <td>891248523</td>\n",
       "      <td>29</td>\n",
       "      <td>500</td>\n",
       "      <td>NaN</td>\n",
       "      <td>United States of America</td>\n",
       "      <td>1,2</td>\n",
       "      <td>1</td>\n",
       "      <td>26</td>\n",
       "      <td>32</td>\n",
       "      <td>12</td>\n",
       "      <td>NaN</td>\n",
       "      <td>NaN</td>\n",
       "      <td>0</td>\n",
       "    </tr>\n",
       "    <tr>\n",
       "      <th>2</th>\n",
       "      <td>891670932</td>\n",
       "      <td>33</td>\n",
       "      <td>800</td>\n",
       "      <td>NaN</td>\n",
       "      <td>France</td>\n",
       "      <td>1,2,3,5,6,8,9,11,13,16</td>\n",
       "      <td>1</td>\n",
       "      <td>30</td>\n",
       "      <td>36</td>\n",
       "      <td>5</td>\n",
       "      <td>NaN</td>\n",
       "      <td>NaN</td>\n",
       "      <td>0</td>\n",
       "    </tr>\n",
       "    <tr>\n",
       "      <th>3</th>\n",
       "      <td>891060786</td>\n",
       "      <td>26</td>\n",
       "      <td>0</td>\n",
       "      <td>NaN</td>\n",
       "      <td>Argentina</td>\n",
       "      <td>1,2,3,4,5</td>\n",
       "      <td>1</td>\n",
       "      <td>23</td>\n",
       "      <td>29</td>\n",
       "      <td>0</td>\n",
       "      <td>NaN</td>\n",
       "      <td>NaN</td>\n",
       "      <td>0</td>\n",
       "    </tr>\n",
       "    <tr>\n",
       "      <th>4</th>\n",
       "      <td>892006554</td>\n",
       "      <td>35</td>\n",
       "      <td>294</td>\n",
       "      <td>NaN</td>\n",
       "      <td>United States of America</td>\n",
       "      <td>1,2,3,5,6,7,8,9,10,12,15,16,17,19</td>\n",
       "      <td>1</td>\n",
       "      <td>30</td>\n",
       "      <td>40</td>\n",
       "      <td>17</td>\n",
       "      <td>NaN</td>\n",
       "      <td>NaN</td>\n",
       "      <td>0</td>\n",
       "    </tr>\n",
       "  </tbody>\n",
       "</table>\n",
       "</div>"
      ],
      "text/plain": [
       "         uid  age  attraction_coeff  coins                   country  \\\n",
       "0  892319115   25               435    NaN  United States of America   \n",
       "1  891248523   29               500    NaN  United States of America   \n",
       "2  891670932   33               800    NaN                    France   \n",
       "3  891060786   26                 0    NaN                 Argentina   \n",
       "4  892006554   35               294    NaN  United States of America   \n",
       "\n",
       "                          visit_days  gender  age_filter_start  \\\n",
       "0                        1,2,3,4,5,6       0                22   \n",
       "1                                1,2       1                26   \n",
       "2             1,2,3,5,6,8,9,11,13,16       1                30   \n",
       "3                          1,2,3,4,5       1                23   \n",
       "4  1,2,3,5,6,7,8,9,10,12,15,16,17,19       1                30   \n",
       "\n",
       "   age_filter_end  views_count  was_premium  is_premium  total_revenue  \n",
       "0              32          982          NaN         NaN              0  \n",
       "1              32           12          NaN         NaN              0  \n",
       "2              36            5          NaN         NaN              0  \n",
       "3              29            0          NaN         NaN              0  \n",
       "4              40           17          NaN         NaN              0  "
      ]
     },
     "execution_count": 11,
     "metadata": {},
     "output_type": "execute_result"
    }
   ],
   "source": [
    "user_control_1.head(5)"
   ]
  },
  {
   "cell_type": "code",
   "execution_count": 12,
   "metadata": {},
   "outputs": [
    {
     "name": "stdout",
     "output_type": "stream",
     "text": [
      "<class 'pandas.core.frame.DataFrame'>\n",
      "RangeIndex: 4340 entries, 0 to 4339\n",
      "Data columns (total 13 columns):\n",
      " #   Column            Non-Null Count  Dtype  \n",
      "---  ------            --------------  -----  \n",
      " 0   uid               4340 non-null   int64  \n",
      " 1   age               4340 non-null   int64  \n",
      " 2   attraction_coeff  4340 non-null   int64  \n",
      " 3   coins             60 non-null     float64\n",
      " 4   country           4340 non-null   object \n",
      " 5   visit_days        3016 non-null   object \n",
      " 6   gender            4340 non-null   int64  \n",
      " 7   age_filter_start  4340 non-null   int64  \n",
      " 8   age_filter_end    4340 non-null   int64  \n",
      " 9   views_count       4340 non-null   int64  \n",
      " 10  was_premium       436 non-null    float64\n",
      " 11  is_premium        192 non-null    float64\n",
      " 12  total_revenue     4340 non-null   int64  \n",
      "dtypes: float64(3), int64(8), object(2)\n",
      "memory usage: 440.9+ KB\n"
     ]
    }
   ],
   "source": [
    "user_control_1.info()"
   ]
  },
  {
   "cell_type": "code",
   "execution_count": 13,
   "metadata": {},
   "outputs": [
    {
     "data": {
      "text/plain": [
       "(4340, 13)"
      ]
     },
     "execution_count": 13,
     "metadata": {},
     "output_type": "execute_result"
    }
   ],
   "source": [
    "user_control_1.shape"
   ]
  },
  {
   "cell_type": "code",
   "execution_count": 14,
   "metadata": {},
   "outputs": [
    {
     "data": {
      "text/plain": [
       "uid                    0\n",
       "age                    0\n",
       "attraction_coeff       0\n",
       "coins               4280\n",
       "country                0\n",
       "visit_days          1324\n",
       "gender                 0\n",
       "age_filter_start       0\n",
       "age_filter_end         0\n",
       "views_count            0\n",
       "was_premium         3904\n",
       "is_premium          4148\n",
       "total_revenue          0\n",
       "dtype: int64"
      ]
     },
     "execution_count": 14,
     "metadata": {},
     "output_type": "execute_result"
    }
   ],
   "source": [
    "# Проверим наличие пустых значений.\n",
    "user_control_1.isna().sum()"
   ]
  },
  {
   "cell_type": "code",
   "execution_count": 15,
   "metadata": {},
   "outputs": [
    {
     "data": {
      "text/plain": [
       "4340"
      ]
     },
     "execution_count": 15,
     "metadata": {},
     "output_type": "execute_result"
    }
   ],
   "source": [
    "# Проверим уникальность пользователей.\n",
    "user_control_1.uid.nunique()"
   ]
  },
  {
   "cell_type": "code",
   "execution_count": 16,
   "metadata": {},
   "outputs": [],
   "source": [
    "# Количество уникальных пользователей соотсветвует общему количеству пользователей и строк в таблице.\n",
    "# Проверку на дубликаты можно не проводить."
   ]
  },
  {
   "cell_type": "markdown",
   "metadata": {},
   "source": [
    "#### Проведем проверку для контрольной группы A2."
   ]
  },
  {
   "cell_type": "code",
   "execution_count": 17,
   "metadata": {},
   "outputs": [
    {
     "data": {
      "text/html": [
       "<div>\n",
       "<style scoped>\n",
       "    .dataframe tbody tr th:only-of-type {\n",
       "        vertical-align: middle;\n",
       "    }\n",
       "\n",
       "    .dataframe tbody tr th {\n",
       "        vertical-align: top;\n",
       "    }\n",
       "\n",
       "    .dataframe thead th {\n",
       "        text-align: right;\n",
       "    }\n",
       "</style>\n",
       "<table border=\"1\" class=\"dataframe\">\n",
       "  <thead>\n",
       "    <tr style=\"text-align: right;\">\n",
       "      <th></th>\n",
       "      <th>uid</th>\n",
       "      <th>age</th>\n",
       "      <th>attraction_coeff</th>\n",
       "      <th>coins</th>\n",
       "      <th>country</th>\n",
       "      <th>visit_days</th>\n",
       "      <th>gender</th>\n",
       "      <th>age_filter_start</th>\n",
       "      <th>age_filter_end</th>\n",
       "      <th>views_count</th>\n",
       "      <th>was_premium</th>\n",
       "      <th>is_premium</th>\n",
       "      <th>total_revenue</th>\n",
       "    </tr>\n",
       "  </thead>\n",
       "  <tbody>\n",
       "    <tr>\n",
       "      <th>0</th>\n",
       "      <td>892035504</td>\n",
       "      <td>37</td>\n",
       "      <td>137</td>\n",
       "      <td>NaN</td>\n",
       "      <td>Israel</td>\n",
       "      <td>1,2,3,4,5,6,7,8,9,11,13</td>\n",
       "      <td>1</td>\n",
       "      <td>30</td>\n",
       "      <td>40</td>\n",
       "      <td>51</td>\n",
       "      <td>NaN</td>\n",
       "      <td>NaN</td>\n",
       "      <td>0</td>\n",
       "    </tr>\n",
       "    <tr>\n",
       "      <th>1</th>\n",
       "      <td>891782112</td>\n",
       "      <td>57</td>\n",
       "      <td>0</td>\n",
       "      <td>NaN</td>\n",
       "      <td>Italy</td>\n",
       "      <td>1</td>\n",
       "      <td>1</td>\n",
       "      <td>54</td>\n",
       "      <td>60</td>\n",
       "      <td>0</td>\n",
       "      <td>NaN</td>\n",
       "      <td>NaN</td>\n",
       "      <td>0</td>\n",
       "    </tr>\n",
       "    <tr>\n",
       "      <th>2</th>\n",
       "      <td>891110337</td>\n",
       "      <td>30</td>\n",
       "      <td>769</td>\n",
       "      <td>NaN</td>\n",
       "      <td>France</td>\n",
       "      <td>1,2,3,4,5</td>\n",
       "      <td>1</td>\n",
       "      <td>27</td>\n",
       "      <td>33</td>\n",
       "      <td>13</td>\n",
       "      <td>NaN</td>\n",
       "      <td>NaN</td>\n",
       "      <td>0</td>\n",
       "    </tr>\n",
       "    <tr>\n",
       "      <th>3</th>\n",
       "      <td>891796320</td>\n",
       "      <td>48</td>\n",
       "      <td>750</td>\n",
       "      <td>NaN</td>\n",
       "      <td>France</td>\n",
       "      <td>1,4,6,8,10,11,12,14,15,16,18</td>\n",
       "      <td>1</td>\n",
       "      <td>45</td>\n",
       "      <td>51</td>\n",
       "      <td>12</td>\n",
       "      <td>NaN</td>\n",
       "      <td>NaN</td>\n",
       "      <td>0</td>\n",
       "    </tr>\n",
       "    <tr>\n",
       "      <th>4</th>\n",
       "      <td>891880212</td>\n",
       "      <td>54</td>\n",
       "      <td>638</td>\n",
       "      <td>NaN</td>\n",
       "      <td>United States of America</td>\n",
       "      <td>1</td>\n",
       "      <td>1</td>\n",
       "      <td>35</td>\n",
       "      <td>53</td>\n",
       "      <td>94</td>\n",
       "      <td>NaN</td>\n",
       "      <td>NaN</td>\n",
       "      <td>0</td>\n",
       "    </tr>\n",
       "  </tbody>\n",
       "</table>\n",
       "</div>"
      ],
      "text/plain": [
       "         uid  age  attraction_coeff  coins                   country  \\\n",
       "0  892035504   37               137    NaN                    Israel   \n",
       "1  891782112   57                 0    NaN                     Italy   \n",
       "2  891110337   30               769    NaN                    France   \n",
       "3  891796320   48               750    NaN                    France   \n",
       "4  891880212   54               638    NaN  United States of America   \n",
       "\n",
       "                     visit_days  gender  age_filter_start  age_filter_end  \\\n",
       "0       1,2,3,4,5,6,7,8,9,11,13       1                30              40   \n",
       "1                             1       1                54              60   \n",
       "2                     1,2,3,4,5       1                27              33   \n",
       "3  1,4,6,8,10,11,12,14,15,16,18       1                45              51   \n",
       "4                             1       1                35              53   \n",
       "\n",
       "   views_count  was_premium  is_premium  total_revenue  \n",
       "0           51          NaN         NaN              0  \n",
       "1            0          NaN         NaN              0  \n",
       "2           13          NaN         NaN              0  \n",
       "3           12          NaN         NaN              0  \n",
       "4           94          NaN         NaN              0  "
      ]
     },
     "execution_count": 17,
     "metadata": {},
     "output_type": "execute_result"
    }
   ],
   "source": [
    "user_control_2.head(5)"
   ]
  },
  {
   "cell_type": "code",
   "execution_count": 18,
   "metadata": {},
   "outputs": [
    {
     "name": "stdout",
     "output_type": "stream",
     "text": [
      "<class 'pandas.core.frame.DataFrame'>\n",
      "RangeIndex: 4264 entries, 0 to 4263\n",
      "Data columns (total 13 columns):\n",
      " #   Column            Non-Null Count  Dtype  \n",
      "---  ------            --------------  -----  \n",
      " 0   uid               4264 non-null   int64  \n",
      " 1   age               4264 non-null   int64  \n",
      " 2   attraction_coeff  4264 non-null   int64  \n",
      " 3   coins             61 non-null     float64\n",
      " 4   country           4264 non-null   object \n",
      " 5   visit_days        2900 non-null   object \n",
      " 6   gender            4264 non-null   int64  \n",
      " 7   age_filter_start  4264 non-null   int64  \n",
      " 8   age_filter_end    4264 non-null   int64  \n",
      " 9   views_count       4264 non-null   int64  \n",
      " 10  was_premium       411 non-null    float64\n",
      " 11  is_premium        191 non-null    float64\n",
      " 12  total_revenue     4264 non-null   int64  \n",
      "dtypes: float64(3), int64(8), object(2)\n",
      "memory usage: 433.2+ KB\n"
     ]
    }
   ],
   "source": [
    "user_control_2.info()"
   ]
  },
  {
   "cell_type": "code",
   "execution_count": 19,
   "metadata": {},
   "outputs": [
    {
     "data": {
      "text/plain": [
       "(4264, 13)"
      ]
     },
     "execution_count": 19,
     "metadata": {},
     "output_type": "execute_result"
    }
   ],
   "source": [
    "user_control_2.shape"
   ]
  },
  {
   "cell_type": "code",
   "execution_count": 20,
   "metadata": {},
   "outputs": [
    {
     "data": {
      "text/plain": [
       "uid                    0\n",
       "age                    0\n",
       "attraction_coeff       0\n",
       "coins               4203\n",
       "country                0\n",
       "visit_days          1364\n",
       "gender                 0\n",
       "age_filter_start       0\n",
       "age_filter_end         0\n",
       "views_count            0\n",
       "was_premium         3853\n",
       "is_premium          4073\n",
       "total_revenue          0\n",
       "dtype: int64"
      ]
     },
     "execution_count": 20,
     "metadata": {},
     "output_type": "execute_result"
    }
   ],
   "source": [
    "# Проверим наличие пустых значений.\n",
    "user_control_2.isna().sum()"
   ]
  },
  {
   "cell_type": "code",
   "execution_count": 21,
   "metadata": {},
   "outputs": [
    {
     "data": {
      "text/plain": [
       "4264"
      ]
     },
     "execution_count": 21,
     "metadata": {},
     "output_type": "execute_result"
    }
   ],
   "source": [
    "# Проверим уникальность пользователей.\n",
    "user_control_2.uid.nunique()"
   ]
  },
  {
   "cell_type": "code",
   "execution_count": 22,
   "metadata": {},
   "outputs": [],
   "source": [
    "# Количество уникальных пользователей соотсветвует общему количеству пользователей и строк в таблице.\n",
    "# Проверку на дубликаты можно не проводить."
   ]
  },
  {
   "cell_type": "markdown",
   "metadata": {},
   "source": [
    "#### Проведем проверку для транзаций тестовой группы B."
   ]
  },
  {
   "cell_type": "code",
   "execution_count": 23,
   "metadata": {},
   "outputs": [
    {
     "data": {
      "text/html": [
       "<div>\n",
       "<style scoped>\n",
       "    .dataframe tbody tr th:only-of-type {\n",
       "        vertical-align: middle;\n",
       "    }\n",
       "\n",
       "    .dataframe tbody tr th {\n",
       "        vertical-align: top;\n",
       "    }\n",
       "\n",
       "    .dataframe thead th {\n",
       "        text-align: right;\n",
       "    }\n",
       "</style>\n",
       "<table border=\"1\" class=\"dataframe\">\n",
       "  <thead>\n",
       "    <tr style=\"text-align: right;\">\n",
       "      <th></th>\n",
       "      <th>uid</th>\n",
       "      <th>country</th>\n",
       "      <th>joined_at</th>\n",
       "      <th>paid_at</th>\n",
       "      <th>revenue</th>\n",
       "      <th>payment_id</th>\n",
       "      <th>from_page</th>\n",
       "      <th>product_type</th>\n",
       "    </tr>\n",
       "  </thead>\n",
       "  <tbody>\n",
       "    <tr>\n",
       "      <th>184</th>\n",
       "      <td>891861594</td>\n",
       "      <td>Chile</td>\n",
       "      <td>2017-10-26 02:25:00</td>\n",
       "      <td>2017-01-11 04:37:00</td>\n",
       "      <td>4004</td>\n",
       "      <td>19</td>\n",
       "      <td>empty_likes</td>\n",
       "      <td>coins</td>\n",
       "    </tr>\n",
       "    <tr>\n",
       "      <th>245</th>\n",
       "      <td>891861048</td>\n",
       "      <td>Canada</td>\n",
       "      <td>2017-10-26 02:55:00</td>\n",
       "      <td>2017-01-11 07:13:00</td>\n",
       "      <td>3523</td>\n",
       "      <td>19</td>\n",
       "      <td>none</td>\n",
       "      <td>coins</td>\n",
       "    </tr>\n",
       "    <tr>\n",
       "      <th>260</th>\n",
       "      <td>892018248</td>\n",
       "      <td>United Kingdom (Great Britain)</td>\n",
       "      <td>2017-10-22 19:50:00</td>\n",
       "      <td>2017-01-11 13:42:00</td>\n",
       "      <td>6032</td>\n",
       "      <td>19</td>\n",
       "      <td>likes</td>\n",
       "      <td>coins</td>\n",
       "    </tr>\n",
       "    <tr>\n",
       "      <th>183</th>\n",
       "      <td>891872313</td>\n",
       "      <td>Switzerland</td>\n",
       "      <td>2017-10-25 21:35:00</td>\n",
       "      <td>2017-01-11 23:36:00</td>\n",
       "      <td>9451</td>\n",
       "      <td>147</td>\n",
       "      <td>trial_vip_popup</td>\n",
       "      <td>trial_premium</td>\n",
       "    </tr>\n",
       "    <tr>\n",
       "      <th>74</th>\n",
       "      <td>892205850</td>\n",
       "      <td>Spain</td>\n",
       "      <td>2017-10-18 19:20:00</td>\n",
       "      <td>2017-02-11 00:13:00</td>\n",
       "      <td>5408</td>\n",
       "      <td>147</td>\n",
       "      <td>promo_09</td>\n",
       "      <td>premium_no_trial</td>\n",
       "    </tr>\n",
       "  </tbody>\n",
       "</table>\n",
       "</div>"
      ],
      "text/plain": [
       "           uid                         country            joined_at  \\\n",
       "184  891861594                           Chile  2017-10-26 02:25:00   \n",
       "245  891861048                          Canada  2017-10-26 02:55:00   \n",
       "260  892018248  United Kingdom (Great Britain)  2017-10-22 19:50:00   \n",
       "183  891872313                     Switzerland  2017-10-25 21:35:00   \n",
       "74   892205850                           Spain  2017-10-18 19:20:00   \n",
       "\n",
       "                 paid_at  revenue  payment_id        from_page  \\\n",
       "184  2017-01-11 04:37:00     4004          19      empty_likes   \n",
       "245  2017-01-11 07:13:00     3523          19             none   \n",
       "260  2017-01-11 13:42:00     6032          19            likes   \n",
       "183  2017-01-11 23:36:00     9451         147  trial_vip_popup   \n",
       "74   2017-02-11 00:13:00     5408         147         promo_09   \n",
       "\n",
       "         product_type  \n",
       "184             coins  \n",
       "245             coins  \n",
       "260             coins  \n",
       "183     trial_premium  \n",
       "74   premium_no_trial  "
      ]
     },
     "execution_count": 23,
     "metadata": {},
     "output_type": "execute_result"
    }
   ],
   "source": [
    "transaction_test.sort_values('paid_at').head(5)"
   ]
  },
  {
   "cell_type": "code",
   "execution_count": 24,
   "metadata": {},
   "outputs": [
    {
     "name": "stdout",
     "output_type": "stream",
     "text": [
      "<class 'pandas.core.frame.DataFrame'>\n",
      "RangeIndex: 273 entries, 0 to 272\n",
      "Data columns (total 8 columns):\n",
      " #   Column        Non-Null Count  Dtype \n",
      "---  ------        --------------  ----- \n",
      " 0   uid           273 non-null    int64 \n",
      " 1   country       273 non-null    object\n",
      " 2   joined_at     273 non-null    object\n",
      " 3   paid_at       273 non-null    object\n",
      " 4   revenue       273 non-null    int64 \n",
      " 5   payment_id    273 non-null    int64 \n",
      " 6   from_page     273 non-null    object\n",
      " 7   product_type  273 non-null    object\n",
      "dtypes: int64(3), object(5)\n",
      "memory usage: 17.2+ KB\n"
     ]
    }
   ],
   "source": [
    "transaction_test.info()"
   ]
  },
  {
   "cell_type": "code",
   "execution_count": 25,
   "metadata": {},
   "outputs": [],
   "source": [
    "# Колонки joined_at и paid_at имеют тип object. Сменим их тип на datetime64[ns].\n",
    "transaction_test['joined_at'] = pd.to_datetime(transaction_test['joined_at'])\n",
    "transaction_test['paid_at'] = pd.to_datetime(transaction_test['paid_at'])"
   ]
  },
  {
   "cell_type": "code",
   "execution_count": 26,
   "metadata": {},
   "outputs": [
    {
     "name": "stdout",
     "output_type": "stream",
     "text": [
      "<class 'pandas.core.frame.DataFrame'>\n",
      "RangeIndex: 273 entries, 0 to 272\n",
      "Data columns (total 8 columns):\n",
      " #   Column        Non-Null Count  Dtype         \n",
      "---  ------        --------------  -----         \n",
      " 0   uid           273 non-null    int64         \n",
      " 1   country       273 non-null    object        \n",
      " 2   joined_at     273 non-null    datetime64[ns]\n",
      " 3   paid_at       273 non-null    datetime64[ns]\n",
      " 4   revenue       273 non-null    int64         \n",
      " 5   payment_id    273 non-null    int64         \n",
      " 6   from_page     273 non-null    object        \n",
      " 7   product_type  273 non-null    object        \n",
      "dtypes: datetime64[ns](2), int64(3), object(3)\n",
      "memory usage: 17.2+ KB\n"
     ]
    }
   ],
   "source": [
    "transaction_test.info()"
   ]
  },
  {
   "cell_type": "code",
   "execution_count": 27,
   "metadata": {},
   "outputs": [
    {
     "data": {
      "text/plain": [
       "uid             0\n",
       "country         0\n",
       "joined_at       0\n",
       "paid_at         0\n",
       "revenue         0\n",
       "payment_id      0\n",
       "from_page       0\n",
       "product_type    0\n",
       "dtype: int64"
      ]
     },
     "execution_count": 27,
     "metadata": {},
     "output_type": "execute_result"
    }
   ],
   "source": [
    "# Проверим наличие пустых значений.\n",
    "transaction_test.isna().sum()"
   ]
  },
  {
   "cell_type": "code",
   "execution_count": 28,
   "metadata": {},
   "outputs": [
    {
     "data": {
      "text/plain": [
       "146"
      ]
     },
     "execution_count": 28,
     "metadata": {},
     "output_type": "execute_result"
    }
   ],
   "source": [
    "# Проверим число уникальных пользователей.\n",
    "transaction_test.uid.nunique()"
   ]
  },
  {
   "cell_type": "code",
   "execution_count": 29,
   "metadata": {},
   "outputs": [
    {
     "data": {
      "text/plain": [
       "892236423    14\n",
       "892065108     9\n",
       "892339626     9\n",
       "892057347     9\n",
       "891174411     6\n",
       "Name: uid, dtype: int64"
      ]
     },
     "execution_count": 29,
     "metadata": {},
     "output_type": "execute_result"
    }
   ],
   "source": [
    "# Число уникальных пользователей не соответствует числу числу транзакций. \n",
    "# Стоит проверить, разные это были транзакции или в таблице присутствуют дубликаты.\n",
    "transaction_test.uid.value_counts().head(5)"
   ]
  },
  {
   "cell_type": "code",
   "execution_count": 30,
   "metadata": {},
   "outputs": [
    {
     "data": {
      "text/html": [
       "<div>\n",
       "<style scoped>\n",
       "    .dataframe tbody tr th:only-of-type {\n",
       "        vertical-align: middle;\n",
       "    }\n",
       "\n",
       "    .dataframe tbody tr th {\n",
       "        vertical-align: top;\n",
       "    }\n",
       "\n",
       "    .dataframe thead th {\n",
       "        text-align: right;\n",
       "    }\n",
       "</style>\n",
       "<table border=\"1\" class=\"dataframe\">\n",
       "  <thead>\n",
       "    <tr style=\"text-align: right;\">\n",
       "      <th></th>\n",
       "      <th>uid</th>\n",
       "      <th>country</th>\n",
       "      <th>joined_at</th>\n",
       "      <th>paid_at</th>\n",
       "      <th>revenue</th>\n",
       "      <th>payment_id</th>\n",
       "      <th>from_page</th>\n",
       "      <th>product_type</th>\n",
       "    </tr>\n",
       "  </thead>\n",
       "  <tbody>\n",
       "    <tr>\n",
       "      <th>125</th>\n",
       "      <td>892236423</td>\n",
       "      <td>United States of America</td>\n",
       "      <td>2017-10-18 01:09:00</td>\n",
       "      <td>2017-10-18 01:15:00</td>\n",
       "      <td>6292</td>\n",
       "      <td>147</td>\n",
       "      <td>left_sidebar_menu</td>\n",
       "      <td>premium_no_trial</td>\n",
       "    </tr>\n",
       "    <tr>\n",
       "      <th>238</th>\n",
       "      <td>892236423</td>\n",
       "      <td>United States of America</td>\n",
       "      <td>2017-10-18 01:09:00</td>\n",
       "      <td>2017-10-18 01:33:00</td>\n",
       "      <td>1261</td>\n",
       "      <td>19</td>\n",
       "      <td>empty_likes</td>\n",
       "      <td>coins</td>\n",
       "    </tr>\n",
       "    <tr>\n",
       "      <th>17</th>\n",
       "      <td>892236423</td>\n",
       "      <td>United States of America</td>\n",
       "      <td>2017-10-18 01:09:00</td>\n",
       "      <td>2017-10-22 22:08:00</td>\n",
       "      <td>1261</td>\n",
       "      <td>19</td>\n",
       "      <td>empty_likes</td>\n",
       "      <td>coins</td>\n",
       "    </tr>\n",
       "    <tr>\n",
       "      <th>139</th>\n",
       "      <td>892236423</td>\n",
       "      <td>United States of America</td>\n",
       "      <td>2017-10-18 01:09:00</td>\n",
       "      <td>2017-10-22 22:08:00</td>\n",
       "      <td>3783</td>\n",
       "      <td>67</td>\n",
       "      <td>empty_likes</td>\n",
       "      <td>other_type</td>\n",
       "    </tr>\n",
       "    <tr>\n",
       "      <th>188</th>\n",
       "      <td>892236423</td>\n",
       "      <td>United States of America</td>\n",
       "      <td>2017-10-18 01:09:00</td>\n",
       "      <td>2017-10-22 22:08:00</td>\n",
       "      <td>1261</td>\n",
       "      <td>19</td>\n",
       "      <td>empty_likes</td>\n",
       "      <td>coins</td>\n",
       "    </tr>\n",
       "    <tr>\n",
       "      <th>214</th>\n",
       "      <td>892236423</td>\n",
       "      <td>United States of America</td>\n",
       "      <td>2017-10-18 01:09:00</td>\n",
       "      <td>2017-10-22 22:08:00</td>\n",
       "      <td>6305</td>\n",
       "      <td>19</td>\n",
       "      <td>empty_likes</td>\n",
       "      <td>coins</td>\n",
       "    </tr>\n",
       "    <tr>\n",
       "      <th>112</th>\n",
       "      <td>892236423</td>\n",
       "      <td>United States of America</td>\n",
       "      <td>2017-10-18 01:09:00</td>\n",
       "      <td>2017-10-22 22:09:00</td>\n",
       "      <td>12610</td>\n",
       "      <td>19</td>\n",
       "      <td>empty_likes</td>\n",
       "      <td>coins</td>\n",
       "    </tr>\n",
       "    <tr>\n",
       "      <th>81</th>\n",
       "      <td>892236423</td>\n",
       "      <td>United States of America</td>\n",
       "      <td>2017-10-18 01:09:00</td>\n",
       "      <td>2017-10-23 00:14:00</td>\n",
       "      <td>31525</td>\n",
       "      <td>19</td>\n",
       "      <td>menu</td>\n",
       "      <td>coins</td>\n",
       "    </tr>\n",
       "    <tr>\n",
       "      <th>98</th>\n",
       "      <td>892236423</td>\n",
       "      <td>United States of America</td>\n",
       "      <td>2017-10-18 01:09:00</td>\n",
       "      <td>2017-10-23 00:14:00</td>\n",
       "      <td>12610</td>\n",
       "      <td>19</td>\n",
       "      <td>menu</td>\n",
       "      <td>coins</td>\n",
       "    </tr>\n",
       "    <tr>\n",
       "      <th>167</th>\n",
       "      <td>892236423</td>\n",
       "      <td>United States of America</td>\n",
       "      <td>2017-10-18 01:09:00</td>\n",
       "      <td>2017-10-23 00:14:00</td>\n",
       "      <td>3783</td>\n",
       "      <td>67</td>\n",
       "      <td>menu</td>\n",
       "      <td>other_type</td>\n",
       "    </tr>\n",
       "    <tr>\n",
       "      <th>2</th>\n",
       "      <td>892236423</td>\n",
       "      <td>United States of America</td>\n",
       "      <td>2017-10-18 01:09:00</td>\n",
       "      <td>2017-10-23 00:15:00</td>\n",
       "      <td>3783</td>\n",
       "      <td>67</td>\n",
       "      <td>menu</td>\n",
       "      <td>other_type</td>\n",
       "    </tr>\n",
       "    <tr>\n",
       "      <th>55</th>\n",
       "      <td>892236423</td>\n",
       "      <td>United States of America</td>\n",
       "      <td>2017-10-18 01:09:00</td>\n",
       "      <td>2017-10-23 00:15:00</td>\n",
       "      <td>3783</td>\n",
       "      <td>67</td>\n",
       "      <td>menu</td>\n",
       "      <td>other_type</td>\n",
       "    </tr>\n",
       "    <tr>\n",
       "      <th>3</th>\n",
       "      <td>892236423</td>\n",
       "      <td>United States of America</td>\n",
       "      <td>2017-10-18 01:09:00</td>\n",
       "      <td>2017-10-27 22:38:00</td>\n",
       "      <td>3783</td>\n",
       "      <td>67</td>\n",
       "      <td>menu</td>\n",
       "      <td>other_type</td>\n",
       "    </tr>\n",
       "    <tr>\n",
       "      <th>127</th>\n",
       "      <td>892236423</td>\n",
       "      <td>United States of America</td>\n",
       "      <td>2017-10-18 01:09:00</td>\n",
       "      <td>2017-10-27 22:38:00</td>\n",
       "      <td>3783</td>\n",
       "      <td>67</td>\n",
       "      <td>menu</td>\n",
       "      <td>other_type</td>\n",
       "    </tr>\n",
       "  </tbody>\n",
       "</table>\n",
       "</div>"
      ],
      "text/plain": [
       "           uid                   country           joined_at  \\\n",
       "125  892236423  United States of America 2017-10-18 01:09:00   \n",
       "238  892236423  United States of America 2017-10-18 01:09:00   \n",
       "17   892236423  United States of America 2017-10-18 01:09:00   \n",
       "139  892236423  United States of America 2017-10-18 01:09:00   \n",
       "188  892236423  United States of America 2017-10-18 01:09:00   \n",
       "214  892236423  United States of America 2017-10-18 01:09:00   \n",
       "112  892236423  United States of America 2017-10-18 01:09:00   \n",
       "81   892236423  United States of America 2017-10-18 01:09:00   \n",
       "98   892236423  United States of America 2017-10-18 01:09:00   \n",
       "167  892236423  United States of America 2017-10-18 01:09:00   \n",
       "2    892236423  United States of America 2017-10-18 01:09:00   \n",
       "55   892236423  United States of America 2017-10-18 01:09:00   \n",
       "3    892236423  United States of America 2017-10-18 01:09:00   \n",
       "127  892236423  United States of America 2017-10-18 01:09:00   \n",
       "\n",
       "                paid_at  revenue  payment_id          from_page  \\\n",
       "125 2017-10-18 01:15:00     6292         147  left_sidebar_menu   \n",
       "238 2017-10-18 01:33:00     1261          19        empty_likes   \n",
       "17  2017-10-22 22:08:00     1261          19        empty_likes   \n",
       "139 2017-10-22 22:08:00     3783          67        empty_likes   \n",
       "188 2017-10-22 22:08:00     1261          19        empty_likes   \n",
       "214 2017-10-22 22:08:00     6305          19        empty_likes   \n",
       "112 2017-10-22 22:09:00    12610          19        empty_likes   \n",
       "81  2017-10-23 00:14:00    31525          19               menu   \n",
       "98  2017-10-23 00:14:00    12610          19               menu   \n",
       "167 2017-10-23 00:14:00     3783          67               menu   \n",
       "2   2017-10-23 00:15:00     3783          67               menu   \n",
       "55  2017-10-23 00:15:00     3783          67               menu   \n",
       "3   2017-10-27 22:38:00     3783          67               menu   \n",
       "127 2017-10-27 22:38:00     3783          67               menu   \n",
       "\n",
       "         product_type  \n",
       "125  premium_no_trial  \n",
       "238             coins  \n",
       "17              coins  \n",
       "139        other_type  \n",
       "188             coins  \n",
       "214             coins  \n",
       "112             coins  \n",
       "81              coins  \n",
       "98              coins  \n",
       "167        other_type  \n",
       "2          other_type  \n",
       "55         other_type  \n",
       "3          other_type  \n",
       "127        other_type  "
      ]
     },
     "execution_count": 30,
     "metadata": {},
     "output_type": "execute_result"
    }
   ],
   "source": [
    "# Более подробнее взглянем на транзакции пользователя.\n",
    "transaction_test.query('uid == 892236423').sort_values('paid_at')"
   ]
  },
  {
   "cell_type": "code",
   "execution_count": 31,
   "metadata": {},
   "outputs": [
    {
     "data": {
      "text/plain": [
       "False    266\n",
       "True       7\n",
       "dtype: int64"
      ]
     },
     "execution_count": 31,
     "metadata": {},
     "output_type": "execute_result"
    }
   ],
   "source": [
    "# Наблюдаем дубликаты таких строк, как 17 и 188, 2 и 55.\n",
    "# Проверим всю таблицу на наличие дубликатов.\n",
    "transaction_test.duplicated().value_counts()"
   ]
  },
  {
   "cell_type": "code",
   "execution_count": 32,
   "metadata": {},
   "outputs": [],
   "source": [
    "# Всего в таблице обнаружено 7 дубликатов, стоит от них избавиться.\n",
    "transaction_test_rd = transaction_test.drop_duplicates()"
   ]
  },
  {
   "cell_type": "markdown",
   "metadata": {},
   "source": [
    "#### Проведем проверку для транзаций контрольной группы A1."
   ]
  },
  {
   "cell_type": "code",
   "execution_count": 33,
   "metadata": {},
   "outputs": [
    {
     "data": {
      "text/html": [
       "<div>\n",
       "<style scoped>\n",
       "    .dataframe tbody tr th:only-of-type {\n",
       "        vertical-align: middle;\n",
       "    }\n",
       "\n",
       "    .dataframe tbody tr th {\n",
       "        vertical-align: top;\n",
       "    }\n",
       "\n",
       "    .dataframe thead th {\n",
       "        text-align: right;\n",
       "    }\n",
       "</style>\n",
       "<table border=\"1\" class=\"dataframe\">\n",
       "  <thead>\n",
       "    <tr style=\"text-align: right;\">\n",
       "      <th></th>\n",
       "      <th>uid</th>\n",
       "      <th>country</th>\n",
       "      <th>joined_at</th>\n",
       "      <th>paid_at</th>\n",
       "      <th>revenue</th>\n",
       "      <th>payment_id</th>\n",
       "      <th>from_page</th>\n",
       "      <th>product_type</th>\n",
       "    </tr>\n",
       "  </thead>\n",
       "  <tbody>\n",
       "    <tr>\n",
       "      <th>224</th>\n",
       "      <td>960936960.0</td>\n",
       "      <td>Russian Federation</td>\n",
       "      <td>2015-01-19 11:49:00</td>\n",
       "      <td>2016-12-14 16:16:00</td>\n",
       "      <td>143.0</td>\n",
       "      <td>0.0</td>\n",
       "      <td>refund_WP</td>\n",
       "      <td>other_type</td>\n",
       "    </tr>\n",
       "    <tr>\n",
       "      <th>65</th>\n",
       "      <td>960936960.0</td>\n",
       "      <td>Russian Federation</td>\n",
       "      <td>2015-01-19 11:49:00</td>\n",
       "      <td>2016-12-14 17:30:00</td>\n",
       "      <td>26.0</td>\n",
       "      <td>0.0</td>\n",
       "      <td>refund_VP</td>\n",
       "      <td>other_type</td>\n",
       "    </tr>\n",
       "    <tr>\n",
       "      <th>101</th>\n",
       "      <td>960936960.0</td>\n",
       "      <td>Russian Federation</td>\n",
       "      <td>2015-01-19 11:49:00</td>\n",
       "      <td>2016-12-14 17:35:00</td>\n",
       "      <td>637.0</td>\n",
       "      <td>0.0</td>\n",
       "      <td>refung_AP</td>\n",
       "      <td>other_type</td>\n",
       "    </tr>\n",
       "    <tr>\n",
       "      <th>374</th>\n",
       "      <td>892145004.0</td>\n",
       "      <td>Chile</td>\n",
       "      <td>2017-10-20 04:25:00</td>\n",
       "      <td>2017-01-11 02:56:00</td>\n",
       "      <td>9919.0</td>\n",
       "      <td>147.0</td>\n",
       "      <td>trial_vip_popup</td>\n",
       "      <td>trial_premium</td>\n",
       "    </tr>\n",
       "    <tr>\n",
       "      <th>124</th>\n",
       "      <td>892136748.0</td>\n",
       "      <td>France</td>\n",
       "      <td>2017-10-20 10:32:00</td>\n",
       "      <td>2017-01-11 04:10:00</td>\n",
       "      <td>2834.0</td>\n",
       "      <td>19.0</td>\n",
       "      <td>none</td>\n",
       "      <td>coins</td>\n",
       "    </tr>\n",
       "  </tbody>\n",
       "</table>\n",
       "</div>"
      ],
      "text/plain": [
       "             uid             country            joined_at  \\\n",
       "224  960936960.0  Russian Federation  2015-01-19 11:49:00   \n",
       "65   960936960.0  Russian Federation  2015-01-19 11:49:00   \n",
       "101  960936960.0  Russian Federation  2015-01-19 11:49:00   \n",
       "374  892145004.0               Chile  2017-10-20 04:25:00   \n",
       "124  892136748.0              France  2017-10-20 10:32:00   \n",
       "\n",
       "                 paid_at  revenue  payment_id        from_page   product_type  \n",
       "224  2016-12-14 16:16:00    143.0         0.0        refund_WP     other_type  \n",
       "65   2016-12-14 17:30:00     26.0         0.0        refund_VP     other_type  \n",
       "101  2016-12-14 17:35:00    637.0         0.0        refung_AP     other_type  \n",
       "374  2017-01-11 02:56:00   9919.0       147.0  trial_vip_popup  trial_premium  \n",
       "124  2017-01-11 04:10:00   2834.0        19.0             none          coins  "
      ]
     },
     "execution_count": 33,
     "metadata": {},
     "output_type": "execute_result"
    }
   ],
   "source": [
    "transaction_control_1.sort_values('paid_at').head(5)"
   ]
  },
  {
   "cell_type": "code",
   "execution_count": 34,
   "metadata": {},
   "outputs": [
    {
     "name": "stdout",
     "output_type": "stream",
     "text": [
      "<class 'pandas.core.frame.DataFrame'>\n",
      "RangeIndex: 1007 entries, 0 to 1006\n",
      "Data columns (total 8 columns):\n",
      " #   Column        Non-Null Count  Dtype  \n",
      "---  ------        --------------  -----  \n",
      " 0   uid           377 non-null    float64\n",
      " 1   country       377 non-null    object \n",
      " 2   joined_at     1007 non-null   object \n",
      " 3   paid_at       1007 non-null   object \n",
      " 4   revenue       377 non-null    float64\n",
      " 5   payment_id    377 non-null    float64\n",
      " 6   from_page     377 non-null    object \n",
      " 7   product_type  377 non-null    object \n",
      "dtypes: float64(3), object(5)\n",
      "memory usage: 63.1+ KB\n"
     ]
    }
   ],
   "source": [
    "transaction_control_1.info()"
   ]
  },
  {
   "cell_type": "code",
   "execution_count": 35,
   "metadata": {},
   "outputs": [],
   "source": [
    "# Колонки joined_at и paid_at имеют тип object. Сменим их тип на datetime64[ns].\n",
    "transaction_control_1['joined_at'] = pd.to_datetime(transaction_control_1['joined_at'])\n",
    "transaction_control_1['paid_at'] = pd.to_datetime(transaction_control_1['paid_at'])"
   ]
  },
  {
   "cell_type": "code",
   "execution_count": 36,
   "metadata": {},
   "outputs": [
    {
     "name": "stdout",
     "output_type": "stream",
     "text": [
      "<class 'pandas.core.frame.DataFrame'>\n",
      "RangeIndex: 1007 entries, 0 to 1006\n",
      "Data columns (total 8 columns):\n",
      " #   Column        Non-Null Count  Dtype         \n",
      "---  ------        --------------  -----         \n",
      " 0   uid           377 non-null    float64       \n",
      " 1   country       377 non-null    object        \n",
      " 2   joined_at     377 non-null    datetime64[ns]\n",
      " 3   paid_at       377 non-null    datetime64[ns]\n",
      " 4   revenue       377 non-null    float64       \n",
      " 5   payment_id    377 non-null    float64       \n",
      " 6   from_page     377 non-null    object        \n",
      " 7   product_type  377 non-null    object        \n",
      "dtypes: datetime64[ns](2), float64(3), object(3)\n",
      "memory usage: 63.1+ KB\n"
     ]
    }
   ],
   "source": [
    "transaction_control_1.info()"
   ]
  },
  {
   "cell_type": "code",
   "execution_count": 37,
   "metadata": {},
   "outputs": [
    {
     "data": {
      "text/plain": [
       "uid             630\n",
       "country         630\n",
       "joined_at       630\n",
       "paid_at         630\n",
       "revenue         630\n",
       "payment_id      630\n",
       "from_page       630\n",
       "product_type    630\n",
       "dtype: int64"
      ]
     },
     "execution_count": 37,
     "metadata": {},
     "output_type": "execute_result"
    }
   ],
   "source": [
    "# Проверим наличие пустых значений.\n",
    "transaction_control_1.isna().sum()"
   ]
  },
  {
   "cell_type": "code",
   "execution_count": 38,
   "metadata": {},
   "outputs": [
    {
     "data": {
      "text/html": [
       "<div>\n",
       "<style scoped>\n",
       "    .dataframe tbody tr th:only-of-type {\n",
       "        vertical-align: middle;\n",
       "    }\n",
       "\n",
       "    .dataframe tbody tr th {\n",
       "        vertical-align: top;\n",
       "    }\n",
       "\n",
       "    .dataframe thead th {\n",
       "        text-align: right;\n",
       "    }\n",
       "</style>\n",
       "<table border=\"1\" class=\"dataframe\">\n",
       "  <thead>\n",
       "    <tr style=\"text-align: right;\">\n",
       "      <th></th>\n",
       "      <th>uid</th>\n",
       "      <th>country</th>\n",
       "      <th>joined_at</th>\n",
       "      <th>paid_at</th>\n",
       "      <th>revenue</th>\n",
       "      <th>payment_id</th>\n",
       "      <th>from_page</th>\n",
       "      <th>product_type</th>\n",
       "    </tr>\n",
       "  </thead>\n",
       "  <tbody>\n",
       "    <tr>\n",
       "      <th>1002</th>\n",
       "      <td>NaN</td>\n",
       "      <td>NaN</td>\n",
       "      <td>NaT</td>\n",
       "      <td>NaT</td>\n",
       "      <td>NaN</td>\n",
       "      <td>NaN</td>\n",
       "      <td>NaN</td>\n",
       "      <td>NaN</td>\n",
       "    </tr>\n",
       "    <tr>\n",
       "      <th>1003</th>\n",
       "      <td>NaN</td>\n",
       "      <td>NaN</td>\n",
       "      <td>NaT</td>\n",
       "      <td>NaT</td>\n",
       "      <td>NaN</td>\n",
       "      <td>NaN</td>\n",
       "      <td>NaN</td>\n",
       "      <td>NaN</td>\n",
       "    </tr>\n",
       "    <tr>\n",
       "      <th>1004</th>\n",
       "      <td>NaN</td>\n",
       "      <td>NaN</td>\n",
       "      <td>NaT</td>\n",
       "      <td>NaT</td>\n",
       "      <td>NaN</td>\n",
       "      <td>NaN</td>\n",
       "      <td>NaN</td>\n",
       "      <td>NaN</td>\n",
       "    </tr>\n",
       "    <tr>\n",
       "      <th>1005</th>\n",
       "      <td>NaN</td>\n",
       "      <td>NaN</td>\n",
       "      <td>NaT</td>\n",
       "      <td>NaT</td>\n",
       "      <td>NaN</td>\n",
       "      <td>NaN</td>\n",
       "      <td>NaN</td>\n",
       "      <td>NaN</td>\n",
       "    </tr>\n",
       "    <tr>\n",
       "      <th>1006</th>\n",
       "      <td>NaN</td>\n",
       "      <td>NaN</td>\n",
       "      <td>NaT</td>\n",
       "      <td>NaT</td>\n",
       "      <td>NaN</td>\n",
       "      <td>NaN</td>\n",
       "      <td>NaN</td>\n",
       "      <td>NaN</td>\n",
       "    </tr>\n",
       "  </tbody>\n",
       "</table>\n",
       "</div>"
      ],
      "text/plain": [
       "      uid country joined_at paid_at  revenue  payment_id from_page  \\\n",
       "1002  NaN     NaN       NaT     NaT      NaN         NaN       NaN   \n",
       "1003  NaN     NaN       NaT     NaT      NaN         NaN       NaN   \n",
       "1004  NaN     NaN       NaT     NaT      NaN         NaN       NaN   \n",
       "1005  NaN     NaN       NaT     NaT      NaN         NaN       NaN   \n",
       "1006  NaN     NaN       NaT     NaT      NaN         NaN       NaN   \n",
       "\n",
       "     product_type  \n",
       "1002          NaN  \n",
       "1003          NaN  \n",
       "1004          NaN  \n",
       "1005          NaN  \n",
       "1006          NaN  "
      ]
     },
     "execution_count": 38,
     "metadata": {},
     "output_type": "execute_result"
    }
   ],
   "source": [
    "# Видим большое количество пустых значений.\n",
    "transaction_control_1.tail(5)"
   ]
  },
  {
   "cell_type": "code",
   "execution_count": 39,
   "metadata": {},
   "outputs": [],
   "source": [
    "# Отчистим таблицу от пустых значений.\n",
    "transaction_control_1 = transaction_control_1.dropna()"
   ]
  },
  {
   "cell_type": "code",
   "execution_count": 40,
   "metadata": {},
   "outputs": [
    {
     "name": "stdout",
     "output_type": "stream",
     "text": [
      "<class 'pandas.core.frame.DataFrame'>\n",
      "Int64Index: 377 entries, 0 to 376\n",
      "Data columns (total 8 columns):\n",
      " #   Column        Non-Null Count  Dtype         \n",
      "---  ------        --------------  -----         \n",
      " 0   uid           377 non-null    float64       \n",
      " 1   country       377 non-null    object        \n",
      " 2   joined_at     377 non-null    datetime64[ns]\n",
      " 3   paid_at       377 non-null    datetime64[ns]\n",
      " 4   revenue       377 non-null    float64       \n",
      " 5   payment_id    377 non-null    float64       \n",
      " 6   from_page     377 non-null    object        \n",
      " 7   product_type  377 non-null    object        \n",
      "dtypes: datetime64[ns](2), float64(3), object(3)\n",
      "memory usage: 26.5+ KB\n"
     ]
    }
   ],
   "source": [
    "transaction_control_1.info()"
   ]
  },
  {
   "cell_type": "code",
   "execution_count": 41,
   "metadata": {},
   "outputs": [
    {
     "data": {
      "text/plain": [
       "193"
      ]
     },
     "execution_count": 41,
     "metadata": {},
     "output_type": "execute_result"
    }
   ],
   "source": [
    "# Проверим число уникальных пользователей.\n",
    "transaction_control_1.uid.nunique()"
   ]
  },
  {
   "cell_type": "code",
   "execution_count": 42,
   "metadata": {},
   "outputs": [
    {
     "data": {
      "text/plain": [
       "892333905.0    27\n",
       "892069554.0    11\n",
       "891707061.0    10\n",
       "892366260.0    10\n",
       "891367521.0    10\n",
       "Name: uid, dtype: int64"
      ]
     },
     "execution_count": 42,
     "metadata": {},
     "output_type": "execute_result"
    }
   ],
   "source": [
    "# Число уникальных пользователей не соответствует числу транзакций. \n",
    "# Стоит проверить, разные это были транзакции или в таблице присутствуют дубликаты.\n",
    "transaction_control_1.uid.value_counts().head(5)"
   ]
  },
  {
   "cell_type": "code",
   "execution_count": 43,
   "metadata": {},
   "outputs": [
    {
     "data": {
      "text/html": [
       "<div>\n",
       "<style scoped>\n",
       "    .dataframe tbody tr th:only-of-type {\n",
       "        vertical-align: middle;\n",
       "    }\n",
       "\n",
       "    .dataframe tbody tr th {\n",
       "        vertical-align: top;\n",
       "    }\n",
       "\n",
       "    .dataframe thead th {\n",
       "        text-align: right;\n",
       "    }\n",
       "</style>\n",
       "<table border=\"1\" class=\"dataframe\">\n",
       "  <thead>\n",
       "    <tr style=\"text-align: right;\">\n",
       "      <th></th>\n",
       "      <th>uid</th>\n",
       "      <th>country</th>\n",
       "      <th>joined_at</th>\n",
       "      <th>paid_at</th>\n",
       "      <th>revenue</th>\n",
       "      <th>payment_id</th>\n",
       "      <th>from_page</th>\n",
       "      <th>product_type</th>\n",
       "    </tr>\n",
       "  </thead>\n",
       "  <tbody>\n",
       "    <tr>\n",
       "      <th>49</th>\n",
       "      <td>892333905.0</td>\n",
       "      <td>Italy</td>\n",
       "      <td>2017-10-16 01:38:00</td>\n",
       "      <td>2017-10-16 01:42:00</td>\n",
       "      <td>3783.0</td>\n",
       "      <td>67.0</td>\n",
       "      <td>menu</td>\n",
       "      <td>other_type</td>\n",
       "    </tr>\n",
       "    <tr>\n",
       "      <th>13</th>\n",
       "      <td>892333905.0</td>\n",
       "      <td>Italy</td>\n",
       "      <td>2017-10-16 01:38:00</td>\n",
       "      <td>2017-10-16 01:44:00</td>\n",
       "      <td>3783.0</td>\n",
       "      <td>67.0</td>\n",
       "      <td>menu</td>\n",
       "      <td>other_type</td>\n",
       "    </tr>\n",
       "    <tr>\n",
       "      <th>47</th>\n",
       "      <td>892333905.0</td>\n",
       "      <td>Italy</td>\n",
       "      <td>2017-10-16 01:38:00</td>\n",
       "      <td>2017-10-16 01:44:00</td>\n",
       "      <td>3783.0</td>\n",
       "      <td>67.0</td>\n",
       "      <td>menu</td>\n",
       "      <td>other_type</td>\n",
       "    </tr>\n",
       "    <tr>\n",
       "      <th>169</th>\n",
       "      <td>892333905.0</td>\n",
       "      <td>Italy</td>\n",
       "      <td>2017-10-16 01:38:00</td>\n",
       "      <td>2017-10-16 01:44:00</td>\n",
       "      <td>3783.0</td>\n",
       "      <td>67.0</td>\n",
       "      <td>menu</td>\n",
       "      <td>other_type</td>\n",
       "    </tr>\n",
       "    <tr>\n",
       "      <th>28</th>\n",
       "      <td>892333905.0</td>\n",
       "      <td>Italy</td>\n",
       "      <td>2017-10-16 01:38:00</td>\n",
       "      <td>2017-10-16 01:57:00</td>\n",
       "      <td>3783.0</td>\n",
       "      <td>67.0</td>\n",
       "      <td>empty_admins</td>\n",
       "      <td>other_type</td>\n",
       "    </tr>\n",
       "    <tr>\n",
       "      <th>296</th>\n",
       "      <td>892333905.0</td>\n",
       "      <td>Italy</td>\n",
       "      <td>2017-10-16 01:38:00</td>\n",
       "      <td>2017-10-16 01:57:00</td>\n",
       "      <td>3783.0</td>\n",
       "      <td>67.0</td>\n",
       "      <td>empty_admins</td>\n",
       "      <td>other_type</td>\n",
       "    </tr>\n",
       "    <tr>\n",
       "      <th>43</th>\n",
       "      <td>892333905.0</td>\n",
       "      <td>Italy</td>\n",
       "      <td>2017-10-16 01:38:00</td>\n",
       "      <td>2017-10-16 01:58:00</td>\n",
       "      <td>3783.0</td>\n",
       "      <td>67.0</td>\n",
       "      <td>empty_admins</td>\n",
       "      <td>other_type</td>\n",
       "    </tr>\n",
       "    <tr>\n",
       "      <th>198</th>\n",
       "      <td>892333905.0</td>\n",
       "      <td>Italy</td>\n",
       "      <td>2017-10-16 01:38:00</td>\n",
       "      <td>2017-10-16 01:58:00</td>\n",
       "      <td>3783.0</td>\n",
       "      <td>67.0</td>\n",
       "      <td>empty_admins</td>\n",
       "      <td>other_type</td>\n",
       "    </tr>\n",
       "    <tr>\n",
       "      <th>88</th>\n",
       "      <td>892333905.0</td>\n",
       "      <td>Italy</td>\n",
       "      <td>2017-10-16 01:38:00</td>\n",
       "      <td>2017-10-16 01:58:00</td>\n",
       "      <td>3783.0</td>\n",
       "      <td>67.0</td>\n",
       "      <td>empty_admins</td>\n",
       "      <td>other_type</td>\n",
       "    </tr>\n",
       "    <tr>\n",
       "      <th>6</th>\n",
       "      <td>892333905.0</td>\n",
       "      <td>Italy</td>\n",
       "      <td>2017-10-16 01:38:00</td>\n",
       "      <td>2017-10-16 02:08:00</td>\n",
       "      <td>12610.0</td>\n",
       "      <td>19.0</td>\n",
       "      <td>gifts</td>\n",
       "      <td>coins</td>\n",
       "    </tr>\n",
       "    <tr>\n",
       "      <th>149</th>\n",
       "      <td>892333905.0</td>\n",
       "      <td>Italy</td>\n",
       "      <td>2017-10-16 01:38:00</td>\n",
       "      <td>2017-10-16 02:08:00</td>\n",
       "      <td>1261.0</td>\n",
       "      <td>19.0</td>\n",
       "      <td>gifts</td>\n",
       "      <td>coins</td>\n",
       "    </tr>\n",
       "    <tr>\n",
       "      <th>289</th>\n",
       "      <td>892333905.0</td>\n",
       "      <td>Italy</td>\n",
       "      <td>2017-10-16 01:38:00</td>\n",
       "      <td>2017-10-16 02:08:00</td>\n",
       "      <td>3783.0</td>\n",
       "      <td>67.0</td>\n",
       "      <td>gifts</td>\n",
       "      <td>other_type</td>\n",
       "    </tr>\n",
       "    <tr>\n",
       "      <th>137</th>\n",
       "      <td>892333905.0</td>\n",
       "      <td>Italy</td>\n",
       "      <td>2017-10-16 01:38:00</td>\n",
       "      <td>2017-10-16 02:08:00</td>\n",
       "      <td>31525.0</td>\n",
       "      <td>19.0</td>\n",
       "      <td>gifts</td>\n",
       "      <td>coins</td>\n",
       "    </tr>\n",
       "    <tr>\n",
       "      <th>274</th>\n",
       "      <td>892333905.0</td>\n",
       "      <td>Italy</td>\n",
       "      <td>2017-10-16 01:38:00</td>\n",
       "      <td>2017-10-16 02:08:00</td>\n",
       "      <td>1261.0</td>\n",
       "      <td>19.0</td>\n",
       "      <td>gifts</td>\n",
       "      <td>coins</td>\n",
       "    </tr>\n",
       "    <tr>\n",
       "      <th>297</th>\n",
       "      <td>892333905.0</td>\n",
       "      <td>Italy</td>\n",
       "      <td>2017-10-16 01:38:00</td>\n",
       "      <td>2017-10-16 02:26:00</td>\n",
       "      <td>31525.0</td>\n",
       "      <td>19.0</td>\n",
       "      <td>menu</td>\n",
       "      <td>coins</td>\n",
       "    </tr>\n",
       "    <tr>\n",
       "      <th>304</th>\n",
       "      <td>892333905.0</td>\n",
       "      <td>Italy</td>\n",
       "      <td>2017-10-16 01:38:00</td>\n",
       "      <td>2017-10-16 02:26:00</td>\n",
       "      <td>31525.0</td>\n",
       "      <td>19.0</td>\n",
       "      <td>menu</td>\n",
       "      <td>coins</td>\n",
       "    </tr>\n",
       "    <tr>\n",
       "      <th>316</th>\n",
       "      <td>892333905.0</td>\n",
       "      <td>Italy</td>\n",
       "      <td>2017-10-16 01:38:00</td>\n",
       "      <td>2017-10-16 02:52:00</td>\n",
       "      <td>31525.0</td>\n",
       "      <td>19.0</td>\n",
       "      <td>menu</td>\n",
       "      <td>coins</td>\n",
       "    </tr>\n",
       "    <tr>\n",
       "      <th>306</th>\n",
       "      <td>892333905.0</td>\n",
       "      <td>Italy</td>\n",
       "      <td>2017-10-16 01:38:00</td>\n",
       "      <td>2017-10-16 10:24:00</td>\n",
       "      <td>31525.0</td>\n",
       "      <td>19.0</td>\n",
       "      <td>menu</td>\n",
       "      <td>coins</td>\n",
       "    </tr>\n",
       "    <tr>\n",
       "      <th>143</th>\n",
       "      <td>892333905.0</td>\n",
       "      <td>Italy</td>\n",
       "      <td>2017-10-16 01:38:00</td>\n",
       "      <td>2017-10-16 13:10:00</td>\n",
       "      <td>63037.0</td>\n",
       "      <td>147.0</td>\n",
       "      <td>no_sympathy</td>\n",
       "      <td>premium_no_trial</td>\n",
       "    </tr>\n",
       "    <tr>\n",
       "      <th>359</th>\n",
       "      <td>892333905.0</td>\n",
       "      <td>Italy</td>\n",
       "      <td>2017-10-16 01:38:00</td>\n",
       "      <td>2017-10-16 18:42:00</td>\n",
       "      <td>31525.0</td>\n",
       "      <td>19.0</td>\n",
       "      <td>fans</td>\n",
       "      <td>coins</td>\n",
       "    </tr>\n",
       "    <tr>\n",
       "      <th>76</th>\n",
       "      <td>892333905.0</td>\n",
       "      <td>Italy</td>\n",
       "      <td>2017-10-16 01:38:00</td>\n",
       "      <td>2017-10-16 18:42:00</td>\n",
       "      <td>31525.0</td>\n",
       "      <td>19.0</td>\n",
       "      <td>fans</td>\n",
       "      <td>coins</td>\n",
       "    </tr>\n",
       "    <tr>\n",
       "      <th>63</th>\n",
       "      <td>892333905.0</td>\n",
       "      <td>Italy</td>\n",
       "      <td>2017-10-16 01:38:00</td>\n",
       "      <td>2017-10-16 22:35:00</td>\n",
       "      <td>31525.0</td>\n",
       "      <td>19.0</td>\n",
       "      <td>menu</td>\n",
       "      <td>coins</td>\n",
       "    </tr>\n",
       "    <tr>\n",
       "      <th>126</th>\n",
       "      <td>892333905.0</td>\n",
       "      <td>Italy</td>\n",
       "      <td>2017-10-16 01:38:00</td>\n",
       "      <td>2017-10-16 22:39:00</td>\n",
       "      <td>19773.0</td>\n",
       "      <td>146.0</td>\n",
       "      <td>menu</td>\n",
       "      <td>coins</td>\n",
       "    </tr>\n",
       "    <tr>\n",
       "      <th>256</th>\n",
       "      <td>892333905.0</td>\n",
       "      <td>Italy</td>\n",
       "      <td>2017-10-16 01:38:00</td>\n",
       "      <td>2017-10-17 00:40:00</td>\n",
       "      <td>31525.0</td>\n",
       "      <td>19.0</td>\n",
       "      <td>menu</td>\n",
       "      <td>coins</td>\n",
       "    </tr>\n",
       "    <tr>\n",
       "      <th>358</th>\n",
       "      <td>892333905.0</td>\n",
       "      <td>Italy</td>\n",
       "      <td>2017-10-16 01:38:00</td>\n",
       "      <td>2017-10-17 02:23:00</td>\n",
       "      <td>3783.0</td>\n",
       "      <td>67.0</td>\n",
       "      <td>menu</td>\n",
       "      <td>other_type</td>\n",
       "    </tr>\n",
       "    <tr>\n",
       "      <th>166</th>\n",
       "      <td>892333905.0</td>\n",
       "      <td>Italy</td>\n",
       "      <td>2017-10-16 01:38:00</td>\n",
       "      <td>2017-10-17 02:23:00</td>\n",
       "      <td>31525.0</td>\n",
       "      <td>19.0</td>\n",
       "      <td>menu</td>\n",
       "      <td>coins</td>\n",
       "    </tr>\n",
       "    <tr>\n",
       "      <th>335</th>\n",
       "      <td>892333905.0</td>\n",
       "      <td>Italy</td>\n",
       "      <td>2017-10-16 01:38:00</td>\n",
       "      <td>2017-10-17 20:53:00</td>\n",
       "      <td>31525.0</td>\n",
       "      <td>19.0</td>\n",
       "      <td>menu</td>\n",
       "      <td>coins</td>\n",
       "    </tr>\n",
       "  </tbody>\n",
       "</table>\n",
       "</div>"
      ],
      "text/plain": [
       "             uid country           joined_at             paid_at  revenue  \\\n",
       "49   892333905.0   Italy 2017-10-16 01:38:00 2017-10-16 01:42:00   3783.0   \n",
       "13   892333905.0   Italy 2017-10-16 01:38:00 2017-10-16 01:44:00   3783.0   \n",
       "47   892333905.0   Italy 2017-10-16 01:38:00 2017-10-16 01:44:00   3783.0   \n",
       "169  892333905.0   Italy 2017-10-16 01:38:00 2017-10-16 01:44:00   3783.0   \n",
       "28   892333905.0   Italy 2017-10-16 01:38:00 2017-10-16 01:57:00   3783.0   \n",
       "296  892333905.0   Italy 2017-10-16 01:38:00 2017-10-16 01:57:00   3783.0   \n",
       "43   892333905.0   Italy 2017-10-16 01:38:00 2017-10-16 01:58:00   3783.0   \n",
       "198  892333905.0   Italy 2017-10-16 01:38:00 2017-10-16 01:58:00   3783.0   \n",
       "88   892333905.0   Italy 2017-10-16 01:38:00 2017-10-16 01:58:00   3783.0   \n",
       "6    892333905.0   Italy 2017-10-16 01:38:00 2017-10-16 02:08:00  12610.0   \n",
       "149  892333905.0   Italy 2017-10-16 01:38:00 2017-10-16 02:08:00   1261.0   \n",
       "289  892333905.0   Italy 2017-10-16 01:38:00 2017-10-16 02:08:00   3783.0   \n",
       "137  892333905.0   Italy 2017-10-16 01:38:00 2017-10-16 02:08:00  31525.0   \n",
       "274  892333905.0   Italy 2017-10-16 01:38:00 2017-10-16 02:08:00   1261.0   \n",
       "297  892333905.0   Italy 2017-10-16 01:38:00 2017-10-16 02:26:00  31525.0   \n",
       "304  892333905.0   Italy 2017-10-16 01:38:00 2017-10-16 02:26:00  31525.0   \n",
       "316  892333905.0   Italy 2017-10-16 01:38:00 2017-10-16 02:52:00  31525.0   \n",
       "306  892333905.0   Italy 2017-10-16 01:38:00 2017-10-16 10:24:00  31525.0   \n",
       "143  892333905.0   Italy 2017-10-16 01:38:00 2017-10-16 13:10:00  63037.0   \n",
       "359  892333905.0   Italy 2017-10-16 01:38:00 2017-10-16 18:42:00  31525.0   \n",
       "76   892333905.0   Italy 2017-10-16 01:38:00 2017-10-16 18:42:00  31525.0   \n",
       "63   892333905.0   Italy 2017-10-16 01:38:00 2017-10-16 22:35:00  31525.0   \n",
       "126  892333905.0   Italy 2017-10-16 01:38:00 2017-10-16 22:39:00  19773.0   \n",
       "256  892333905.0   Italy 2017-10-16 01:38:00 2017-10-17 00:40:00  31525.0   \n",
       "358  892333905.0   Italy 2017-10-16 01:38:00 2017-10-17 02:23:00   3783.0   \n",
       "166  892333905.0   Italy 2017-10-16 01:38:00 2017-10-17 02:23:00  31525.0   \n",
       "335  892333905.0   Italy 2017-10-16 01:38:00 2017-10-17 20:53:00  31525.0   \n",
       "\n",
       "     payment_id     from_page      product_type  \n",
       "49         67.0          menu        other_type  \n",
       "13         67.0          menu        other_type  \n",
       "47         67.0          menu        other_type  \n",
       "169        67.0          menu        other_type  \n",
       "28         67.0  empty_admins        other_type  \n",
       "296        67.0  empty_admins        other_type  \n",
       "43         67.0  empty_admins        other_type  \n",
       "198        67.0  empty_admins        other_type  \n",
       "88         67.0  empty_admins        other_type  \n",
       "6          19.0         gifts             coins  \n",
       "149        19.0         gifts             coins  \n",
       "289        67.0         gifts        other_type  \n",
       "137        19.0         gifts             coins  \n",
       "274        19.0         gifts             coins  \n",
       "297        19.0          menu             coins  \n",
       "304        19.0          menu             coins  \n",
       "316        19.0          menu             coins  \n",
       "306        19.0          menu             coins  \n",
       "143       147.0   no_sympathy  premium_no_trial  \n",
       "359        19.0          fans             coins  \n",
       "76         19.0          fans             coins  \n",
       "63         19.0          menu             coins  \n",
       "126       146.0          menu             coins  \n",
       "256        19.0          menu             coins  \n",
       "358        67.0          menu        other_type  \n",
       "166        19.0          menu             coins  \n",
       "335        19.0          menu             coins  "
      ]
     },
     "execution_count": 43,
     "metadata": {},
     "output_type": "execute_result"
    }
   ],
   "source": [
    "# Более подробнее взглянем на транзакции пользователя.\n",
    "transaction_control_1.query('uid == 892333905').sort_values('paid_at')"
   ]
  },
  {
   "cell_type": "code",
   "execution_count": 44,
   "metadata": {},
   "outputs": [
    {
     "data": {
      "text/plain": [
       "False    356\n",
       "True      21\n",
       "dtype: int64"
      ]
     },
     "execution_count": 44,
     "metadata": {},
     "output_type": "execute_result"
    }
   ],
   "source": [
    "# Наблюдаем большое количество дублированных строк.\n",
    "# Проверим всю таблицу на наличие дубликатов.\n",
    "transaction_control_1.duplicated().value_counts()"
   ]
  },
  {
   "cell_type": "code",
   "execution_count": 45,
   "metadata": {},
   "outputs": [],
   "source": [
    "# Всего в таблице обнаружен 21 дубликат, стоит от них избавиться.\n",
    "transaction_control_1_rd = transaction_control_1.drop_duplicates()"
   ]
  },
  {
   "cell_type": "markdown",
   "metadata": {},
   "source": [
    "#### Проведем проверку для транзаций контрольной группы A2."
   ]
  },
  {
   "cell_type": "code",
   "execution_count": 46,
   "metadata": {},
   "outputs": [
    {
     "data": {
      "text/html": [
       "<div>\n",
       "<style scoped>\n",
       "    .dataframe tbody tr th:only-of-type {\n",
       "        vertical-align: middle;\n",
       "    }\n",
       "\n",
       "    .dataframe tbody tr th {\n",
       "        vertical-align: top;\n",
       "    }\n",
       "\n",
       "    .dataframe thead th {\n",
       "        text-align: right;\n",
       "    }\n",
       "</style>\n",
       "<table border=\"1\" class=\"dataframe\">\n",
       "  <thead>\n",
       "    <tr style=\"text-align: right;\">\n",
       "      <th></th>\n",
       "      <th>uid</th>\n",
       "      <th>country</th>\n",
       "      <th>joined_at</th>\n",
       "      <th>paid_at</th>\n",
       "      <th>revenue</th>\n",
       "      <th>payment_id</th>\n",
       "      <th>from_page</th>\n",
       "      <th>product_type</th>\n",
       "    </tr>\n",
       "  </thead>\n",
       "  <tbody>\n",
       "    <tr>\n",
       "      <th>129</th>\n",
       "      <td>891937068</td>\n",
       "      <td>Portugal</td>\n",
       "      <td>2017-10-24 14:22:00</td>\n",
       "      <td>2017-01-11 05:34:00</td>\n",
       "      <td>2015</td>\n",
       "      <td>19</td>\n",
       "      <td>none</td>\n",
       "      <td>coins</td>\n",
       "    </tr>\n",
       "    <tr>\n",
       "      <th>174</th>\n",
       "      <td>891664350</td>\n",
       "      <td>Germany</td>\n",
       "      <td>2017-10-30 00:21:00</td>\n",
       "      <td>2017-01-11 22:36:00</td>\n",
       "      <td>6279</td>\n",
       "      <td>147</td>\n",
       "      <td>left_sidebar_menu</td>\n",
       "      <td>premium_no_trial</td>\n",
       "    </tr>\n",
       "    <tr>\n",
       "      <th>49</th>\n",
       "      <td>891664350</td>\n",
       "      <td>Germany</td>\n",
       "      <td>2017-10-30 00:21:00</td>\n",
       "      <td>2017-01-11 22:36:00</td>\n",
       "      <td>2327</td>\n",
       "      <td>67</td>\n",
       "      <td>empty_mutual</td>\n",
       "      <td>other_type</td>\n",
       "    </tr>\n",
       "    <tr>\n",
       "      <th>20</th>\n",
       "      <td>891609360</td>\n",
       "      <td>Italy</td>\n",
       "      <td>2017-10-31 02:07:00</td>\n",
       "      <td>2017-01-11 23:19:00</td>\n",
       "      <td>3913</td>\n",
       "      <td>146</td>\n",
       "      <td>empty_likes</td>\n",
       "      <td>coins</td>\n",
       "    </tr>\n",
       "    <tr>\n",
       "      <th>88</th>\n",
       "      <td>891877569</td>\n",
       "      <td>France</td>\n",
       "      <td>2017-10-25 19:32:00</td>\n",
       "      <td>2017-02-11 01:55:00</td>\n",
       "      <td>12675</td>\n",
       "      <td>147</td>\n",
       "      <td>trial_vip_popup</td>\n",
       "      <td>trial_premium</td>\n",
       "    </tr>\n",
       "  </tbody>\n",
       "</table>\n",
       "</div>"
      ],
      "text/plain": [
       "           uid   country            joined_at              paid_at  revenue  \\\n",
       "129  891937068  Portugal  2017-10-24 14:22:00  2017-01-11 05:34:00     2015   \n",
       "174  891664350   Germany  2017-10-30 00:21:00  2017-01-11 22:36:00     6279   \n",
       "49   891664350   Germany  2017-10-30 00:21:00  2017-01-11 22:36:00     2327   \n",
       "20   891609360     Italy  2017-10-31 02:07:00  2017-01-11 23:19:00     3913   \n",
       "88   891877569    France  2017-10-25 19:32:00  2017-02-11 01:55:00    12675   \n",
       "\n",
       "     payment_id          from_page      product_type  \n",
       "129          19               none             coins  \n",
       "174         147  left_sidebar_menu  premium_no_trial  \n",
       "49           67       empty_mutual        other_type  \n",
       "20          146        empty_likes             coins  \n",
       "88          147    trial_vip_popup     trial_premium  "
      ]
     },
     "execution_count": 46,
     "metadata": {},
     "output_type": "execute_result"
    }
   ],
   "source": [
    "transaction_control_2.sort_values('paid_at').head(5)"
   ]
  },
  {
   "cell_type": "code",
   "execution_count": 47,
   "metadata": {},
   "outputs": [
    {
     "name": "stdout",
     "output_type": "stream",
     "text": [
      "<class 'pandas.core.frame.DataFrame'>\n",
      "RangeIndex: 328 entries, 0 to 327\n",
      "Data columns (total 8 columns):\n",
      " #   Column        Non-Null Count  Dtype \n",
      "---  ------        --------------  ----- \n",
      " 0   uid           328 non-null    int64 \n",
      " 1   country       328 non-null    object\n",
      " 2   joined_at     328 non-null    object\n",
      " 3   paid_at       328 non-null    object\n",
      " 4   revenue       328 non-null    int64 \n",
      " 5   payment_id    328 non-null    int64 \n",
      " 6   from_page     328 non-null    object\n",
      " 7   product_type  328 non-null    object\n",
      "dtypes: int64(3), object(5)\n",
      "memory usage: 20.6+ KB\n"
     ]
    }
   ],
   "source": [
    "transaction_control_2.info()"
   ]
  },
  {
   "cell_type": "code",
   "execution_count": 48,
   "metadata": {},
   "outputs": [],
   "source": [
    "# Колонки joined_at и paid_at имеют тип object. Сменим их тип на datetime64[ns].\n",
    "transaction_control_2['joined_at'] = pd.to_datetime(transaction_control_2['joined_at'])\n",
    "transaction_control_2['paid_at'] = pd.to_datetime(transaction_control_2['paid_at'])"
   ]
  },
  {
   "cell_type": "code",
   "execution_count": 49,
   "metadata": {},
   "outputs": [
    {
     "name": "stdout",
     "output_type": "stream",
     "text": [
      "<class 'pandas.core.frame.DataFrame'>\n",
      "RangeIndex: 328 entries, 0 to 327\n",
      "Data columns (total 8 columns):\n",
      " #   Column        Non-Null Count  Dtype         \n",
      "---  ------        --------------  -----         \n",
      " 0   uid           328 non-null    int64         \n",
      " 1   country       328 non-null    object        \n",
      " 2   joined_at     328 non-null    datetime64[ns]\n",
      " 3   paid_at       328 non-null    datetime64[ns]\n",
      " 4   revenue       328 non-null    int64         \n",
      " 5   payment_id    328 non-null    int64         \n",
      " 6   from_page     328 non-null    object        \n",
      " 7   product_type  328 non-null    object        \n",
      "dtypes: datetime64[ns](2), int64(3), object(3)\n",
      "memory usage: 20.6+ KB\n"
     ]
    }
   ],
   "source": [
    "transaction_control_2.info()"
   ]
  },
  {
   "cell_type": "code",
   "execution_count": 50,
   "metadata": {},
   "outputs": [
    {
     "data": {
      "text/plain": [
       "uid             0\n",
       "country         0\n",
       "joined_at       0\n",
       "paid_at         0\n",
       "revenue         0\n",
       "payment_id      0\n",
       "from_page       0\n",
       "product_type    0\n",
       "dtype: int64"
      ]
     },
     "execution_count": 50,
     "metadata": {},
     "output_type": "execute_result"
    }
   ],
   "source": [
    "# Проверим наличие пустых значений.\n",
    "transaction_control_2.isna().sum()"
   ]
  },
  {
   "cell_type": "code",
   "execution_count": 51,
   "metadata": {},
   "outputs": [
    {
     "data": {
      "text/plain": [
       "187"
      ]
     },
     "execution_count": 51,
     "metadata": {},
     "output_type": "execute_result"
    }
   ],
   "source": [
    "# Проверим число уникальных пользователей.\n",
    "transaction_control_2.uid.nunique()"
   ]
  },
  {
   "cell_type": "code",
   "execution_count": 52,
   "metadata": {},
   "outputs": [
    {
     "data": {
      "text/plain": [
       "891637005    11\n",
       "892230228    10\n",
       "891080040     8\n",
       "892139829     6\n",
       "892435536     5\n",
       "891722802     5\n",
       "892128138     5\n",
       "891862596     4\n",
       "892318245     4\n",
       "892045743     4\n",
       "Name: uid, dtype: int64"
      ]
     },
     "execution_count": 52,
     "metadata": {},
     "output_type": "execute_result"
    }
   ],
   "source": [
    "# Число уникальных пользователей не соответствует числу числу транзакций.\n",
    "# Стоит проверить, разные это были транзакции или в таблице присутствуют дубликаты.\n",
    "transaction_control_2.uid.value_counts().head(10)"
   ]
  },
  {
   "cell_type": "code",
   "execution_count": 53,
   "metadata": {},
   "outputs": [
    {
     "data": {
      "text/html": [
       "<div>\n",
       "<style scoped>\n",
       "    .dataframe tbody tr th:only-of-type {\n",
       "        vertical-align: middle;\n",
       "    }\n",
       "\n",
       "    .dataframe tbody tr th {\n",
       "        vertical-align: top;\n",
       "    }\n",
       "\n",
       "    .dataframe thead th {\n",
       "        text-align: right;\n",
       "    }\n",
       "</style>\n",
       "<table border=\"1\" class=\"dataframe\">\n",
       "  <thead>\n",
       "    <tr style=\"text-align: right;\">\n",
       "      <th></th>\n",
       "      <th>uid</th>\n",
       "      <th>country</th>\n",
       "      <th>joined_at</th>\n",
       "      <th>paid_at</th>\n",
       "      <th>revenue</th>\n",
       "      <th>payment_id</th>\n",
       "      <th>from_page</th>\n",
       "      <th>product_type</th>\n",
       "    </tr>\n",
       "  </thead>\n",
       "  <tbody>\n",
       "    <tr>\n",
       "      <th>170</th>\n",
       "      <td>891862596</td>\n",
       "      <td>Italy</td>\n",
       "      <td>2017-10-26 01:40:00</td>\n",
       "      <td>2017-10-29 14:14:00</td>\n",
       "      <td>6292</td>\n",
       "      <td>147</td>\n",
       "      <td>promo_09</td>\n",
       "      <td>premium_no_trial</td>\n",
       "    </tr>\n",
       "    <tr>\n",
       "      <th>6</th>\n",
       "      <td>891862596</td>\n",
       "      <td>Italy</td>\n",
       "      <td>2017-10-26 01:40:00</td>\n",
       "      <td>2017-10-30 09:01:00</td>\n",
       "      <td>1261</td>\n",
       "      <td>19</td>\n",
       "      <td>empty_likes</td>\n",
       "      <td>coins</td>\n",
       "    </tr>\n",
       "    <tr>\n",
       "      <th>86</th>\n",
       "      <td>891862596</td>\n",
       "      <td>Italy</td>\n",
       "      <td>2017-10-26 01:40:00</td>\n",
       "      <td>2017-10-30 09:01:00</td>\n",
       "      <td>1261</td>\n",
       "      <td>19</td>\n",
       "      <td>empty_likes</td>\n",
       "      <td>coins</td>\n",
       "    </tr>\n",
       "    <tr>\n",
       "      <th>200</th>\n",
       "      <td>891862596</td>\n",
       "      <td>Italy</td>\n",
       "      <td>2017-10-26 01:40:00</td>\n",
       "      <td>2017-10-30 09:06:00</td>\n",
       "      <td>1261</td>\n",
       "      <td>19</td>\n",
       "      <td>autorefill</td>\n",
       "      <td>coins</td>\n",
       "    </tr>\n",
       "  </tbody>\n",
       "</table>\n",
       "</div>"
      ],
      "text/plain": [
       "           uid country           joined_at             paid_at  revenue  \\\n",
       "170  891862596   Italy 2017-10-26 01:40:00 2017-10-29 14:14:00     6292   \n",
       "6    891862596   Italy 2017-10-26 01:40:00 2017-10-30 09:01:00     1261   \n",
       "86   891862596   Italy 2017-10-26 01:40:00 2017-10-30 09:01:00     1261   \n",
       "200  891862596   Italy 2017-10-26 01:40:00 2017-10-30 09:06:00     1261   \n",
       "\n",
       "     payment_id    from_page      product_type  \n",
       "170         147     promo_09  premium_no_trial  \n",
       "6            19  empty_likes             coins  \n",
       "86           19  empty_likes             coins  \n",
       "200          19   autorefill             coins  "
      ]
     },
     "execution_count": 53,
     "metadata": {},
     "output_type": "execute_result"
    }
   ],
   "source": [
    "# Более подробнее взглянем на транзакции пользователя.\n",
    "transaction_control_2.query('uid == 891862596').sort_values('paid_at')"
   ]
  },
  {
   "cell_type": "code",
   "execution_count": 54,
   "metadata": {},
   "outputs": [
    {
     "data": {
      "text/plain": [
       "False    323\n",
       "True       5\n",
       "dtype: int64"
      ]
     },
     "execution_count": 54,
     "metadata": {},
     "output_type": "execute_result"
    }
   ],
   "source": [
    "# Наблюдаем дублированные строки, такие как 6 и 86.\n",
    "# Проверим всю таблицу на наличие дубликатов.\n",
    "transaction_control_2.duplicated().value_counts()"
   ]
  },
  {
   "cell_type": "code",
   "execution_count": 55,
   "metadata": {},
   "outputs": [],
   "source": [
    "# Всего в таблице обнаружено 5 дубликатов, стоит от них избавиться.\n",
    "transaction_control_2_rd = transaction_control_2.drop_duplicates()"
   ]
  },
  {
   "cell_type": "markdown",
   "metadata": {},
   "source": [
    "**Во время проверки данных было обнаружено, что время первой регистрации в группе A1 отличается от групп B и A2.**   "
   ]
  },
  {
   "cell_type": "code",
   "execution_count": 56,
   "metadata": {},
   "outputs": [
    {
     "name": "stdout",
     "output_type": "stream",
     "text": [
      "Дата первой регистрации: 2017-01-11 03:07:00\n",
      "Дата последней регистрации: 2017-10-31 23:40:00\n"
     ]
    }
   ],
   "source": [
    "# Дата первой регистрации и последней регистрации в тестовой группе B.\n",
    "print('Дата первой регистрации:', transaction_test_rd.joined_at.min())\n",
    "print('Дата последней регистрации:',transaction_test_rd.joined_at.max())"
   ]
  },
  {
   "cell_type": "code",
   "execution_count": 57,
   "metadata": {},
   "outputs": [
    {
     "name": "stdout",
     "output_type": "stream",
     "text": [
      "Дата первой регистрации: 2015-01-19 11:49:00\n",
      "Дата последней регистрации: 2017-10-31 22:17:00\n"
     ]
    }
   ],
   "source": [
    "# Дата первой и последней регистрации в контрольной группе A1.\n",
    "print('Дата первой регистрации:', transaction_control_1_rd.joined_at.min())\n",
    "print('Дата последней регистрации:',transaction_control_1_rd.joined_at.max())"
   ]
  },
  {
   "cell_type": "code",
   "execution_count": 58,
   "metadata": {},
   "outputs": [
    {
     "name": "stdout",
     "output_type": "stream",
     "text": [
      "Дата первой регистрации: 2017-01-11 08:36:00\n",
      "Дата последней регистрации: 2017-10-31 17:43:00\n"
     ]
    }
   ],
   "source": [
    "# Дата первой и последней регистрации в контрольной группе A2.\n",
    "print('Дата первой регистрации:', transaction_control_2_rd.joined_at.min())\n",
    "print('Дата последней регистрации:',transaction_control_2_rd.joined_at.max())"
   ]
  },
  {
   "cell_type": "code",
   "execution_count": 59,
   "metadata": {},
   "outputs": [
    {
     "data": {
      "text/html": [
       "<div>\n",
       "<style scoped>\n",
       "    .dataframe tbody tr th:only-of-type {\n",
       "        vertical-align: middle;\n",
       "    }\n",
       "\n",
       "    .dataframe tbody tr th {\n",
       "        vertical-align: top;\n",
       "    }\n",
       "\n",
       "    .dataframe thead th {\n",
       "        text-align: right;\n",
       "    }\n",
       "</style>\n",
       "<table border=\"1\" class=\"dataframe\">\n",
       "  <thead>\n",
       "    <tr style=\"text-align: right;\">\n",
       "      <th></th>\n",
       "      <th>uid</th>\n",
       "      <th>country</th>\n",
       "      <th>joined_at</th>\n",
       "      <th>paid_at</th>\n",
       "      <th>revenue</th>\n",
       "      <th>payment_id</th>\n",
       "      <th>from_page</th>\n",
       "      <th>product_type</th>\n",
       "    </tr>\n",
       "  </thead>\n",
       "  <tbody>\n",
       "    <tr>\n",
       "      <th>65</th>\n",
       "      <td>960936960.0</td>\n",
       "      <td>Russian Federation</td>\n",
       "      <td>2015-01-19 11:49:00</td>\n",
       "      <td>2016-12-14 17:30:00</td>\n",
       "      <td>26.0</td>\n",
       "      <td>0.0</td>\n",
       "      <td>refund_VP</td>\n",
       "      <td>other_type</td>\n",
       "    </tr>\n",
       "    <tr>\n",
       "      <th>224</th>\n",
       "      <td>960936960.0</td>\n",
       "      <td>Russian Federation</td>\n",
       "      <td>2015-01-19 11:49:00</td>\n",
       "      <td>2016-12-14 16:16:00</td>\n",
       "      <td>143.0</td>\n",
       "      <td>0.0</td>\n",
       "      <td>refund_WP</td>\n",
       "      <td>other_type</td>\n",
       "    </tr>\n",
       "    <tr>\n",
       "      <th>101</th>\n",
       "      <td>960936960.0</td>\n",
       "      <td>Russian Federation</td>\n",
       "      <td>2015-01-19 11:49:00</td>\n",
       "      <td>2016-12-14 17:35:00</td>\n",
       "      <td>637.0</td>\n",
       "      <td>0.0</td>\n",
       "      <td>refung_AP</td>\n",
       "      <td>other_type</td>\n",
       "    </tr>\n",
       "    <tr>\n",
       "      <th>342</th>\n",
       "      <td>891561825.0</td>\n",
       "      <td>France</td>\n",
       "      <td>2017-01-11 01:06:00</td>\n",
       "      <td>2017-01-11 13:33:00</td>\n",
       "      <td>3913.0</td>\n",
       "      <td>146.0</td>\n",
       "      <td>empty_likes</td>\n",
       "      <td>coins</td>\n",
       "    </tr>\n",
       "    <tr>\n",
       "      <th>368</th>\n",
       "      <td>891561825.0</td>\n",
       "      <td>France</td>\n",
       "      <td>2017-01-11 01:06:00</td>\n",
       "      <td>2017-04-11 23:21:00</td>\n",
       "      <td>3900.0</td>\n",
       "      <td>19.0</td>\n",
       "      <td>empty_likes</td>\n",
       "      <td>coins</td>\n",
       "    </tr>\n",
       "  </tbody>\n",
       "</table>\n",
       "</div>"
      ],
      "text/plain": [
       "             uid             country           joined_at             paid_at  \\\n",
       "65   960936960.0  Russian Federation 2015-01-19 11:49:00 2016-12-14 17:30:00   \n",
       "224  960936960.0  Russian Federation 2015-01-19 11:49:00 2016-12-14 16:16:00   \n",
       "101  960936960.0  Russian Federation 2015-01-19 11:49:00 2016-12-14 17:35:00   \n",
       "342  891561825.0              France 2017-01-11 01:06:00 2017-01-11 13:33:00   \n",
       "368  891561825.0              France 2017-01-11 01:06:00 2017-04-11 23:21:00   \n",
       "\n",
       "     revenue  payment_id    from_page product_type  \n",
       "65      26.0         0.0    refund_VP   other_type  \n",
       "224    143.0         0.0    refund_WP   other_type  \n",
       "101    637.0         0.0    refung_AP   other_type  \n",
       "342   3913.0       146.0  empty_likes        coins  \n",
       "368   3900.0        19.0  empty_likes        coins  "
      ]
     },
     "execution_count": 59,
     "metadata": {},
     "output_type": "execute_result"
    }
   ],
   "source": [
    "# Посмотрим на данные группы A1\n",
    "transaction_control_1_rd.sort_values('joined_at').head(5)"
   ]
  },
  {
   "cell_type": "markdown",
   "metadata": {},
   "source": [
    "Для чистоты экперемента думаю стоит очистить данные до 2017-01-11. Всего таких строк было обнаружено 3."
   ]
  },
  {
   "cell_type": "code",
   "execution_count": 60,
   "metadata": {},
   "outputs": [],
   "source": [
    "# Уберем данные до 2017-01-11.\n",
    "transaction_control_1_rd = transaction_control_1_rd.query('joined_at >= \"2017-01-11\"')"
   ]
  },
  {
   "cell_type": "code",
   "execution_count": 61,
   "metadata": {},
   "outputs": [
    {
     "data": {
      "text/html": [
       "<div>\n",
       "<style scoped>\n",
       "    .dataframe tbody tr th:only-of-type {\n",
       "        vertical-align: middle;\n",
       "    }\n",
       "\n",
       "    .dataframe tbody tr th {\n",
       "        vertical-align: top;\n",
       "    }\n",
       "\n",
       "    .dataframe thead th {\n",
       "        text-align: right;\n",
       "    }\n",
       "</style>\n",
       "<table border=\"1\" class=\"dataframe\">\n",
       "  <thead>\n",
       "    <tr style=\"text-align: right;\">\n",
       "      <th></th>\n",
       "      <th>uid</th>\n",
       "      <th>country</th>\n",
       "      <th>joined_at</th>\n",
       "      <th>paid_at</th>\n",
       "      <th>revenue</th>\n",
       "      <th>payment_id</th>\n",
       "      <th>from_page</th>\n",
       "      <th>product_type</th>\n",
       "    </tr>\n",
       "  </thead>\n",
       "  <tbody>\n",
       "    <tr>\n",
       "      <th>368</th>\n",
       "      <td>891561825.0</td>\n",
       "      <td>France</td>\n",
       "      <td>2017-01-11 01:06:00</td>\n",
       "      <td>2017-04-11 23:21:00</td>\n",
       "      <td>3900.0</td>\n",
       "      <td>19.0</td>\n",
       "      <td>empty_likes</td>\n",
       "      <td>coins</td>\n",
       "    </tr>\n",
       "    <tr>\n",
       "      <th>196</th>\n",
       "      <td>891561825.0</td>\n",
       "      <td>France</td>\n",
       "      <td>2017-01-11 01:06:00</td>\n",
       "      <td>2017-08-11 03:06:00</td>\n",
       "      <td>12636.0</td>\n",
       "      <td>147.0</td>\n",
       "      <td>trial_vip_popup</td>\n",
       "      <td>trial_premium</td>\n",
       "    </tr>\n",
       "    <tr>\n",
       "      <th>342</th>\n",
       "      <td>891561825.0</td>\n",
       "      <td>France</td>\n",
       "      <td>2017-01-11 01:06:00</td>\n",
       "      <td>2017-01-11 13:33:00</td>\n",
       "      <td>3913.0</td>\n",
       "      <td>146.0</td>\n",
       "      <td>empty_likes</td>\n",
       "      <td>coins</td>\n",
       "    </tr>\n",
       "    <tr>\n",
       "      <th>372</th>\n",
       "      <td>891556971.0</td>\n",
       "      <td>France</td>\n",
       "      <td>2017-01-11 05:07:00</td>\n",
       "      <td>2017-01-11 05:16:00</td>\n",
       "      <td>2886.0</td>\n",
       "      <td>68.0</td>\n",
       "      <td>none</td>\n",
       "      <td>premium_no_trial</td>\n",
       "    </tr>\n",
       "    <tr>\n",
       "      <th>167</th>\n",
       "      <td>891553362.0</td>\n",
       "      <td>United States of America</td>\n",
       "      <td>2017-01-11 08:26:00</td>\n",
       "      <td>2017-08-11 10:38:00</td>\n",
       "      <td>12727.0</td>\n",
       "      <td>147.0</td>\n",
       "      <td>autoreply_message</td>\n",
       "      <td>trial_premium</td>\n",
       "    </tr>\n",
       "  </tbody>\n",
       "</table>\n",
       "</div>"
      ],
      "text/plain": [
       "             uid                   country           joined_at  \\\n",
       "368  891561825.0                    France 2017-01-11 01:06:00   \n",
       "196  891561825.0                    France 2017-01-11 01:06:00   \n",
       "342  891561825.0                    France 2017-01-11 01:06:00   \n",
       "372  891556971.0                    France 2017-01-11 05:07:00   \n",
       "167  891553362.0  United States of America 2017-01-11 08:26:00   \n",
       "\n",
       "                paid_at  revenue  payment_id          from_page  \\\n",
       "368 2017-04-11 23:21:00   3900.0        19.0        empty_likes   \n",
       "196 2017-08-11 03:06:00  12636.0       147.0    trial_vip_popup   \n",
       "342 2017-01-11 13:33:00   3913.0       146.0        empty_likes   \n",
       "372 2017-01-11 05:16:00   2886.0        68.0               none   \n",
       "167 2017-08-11 10:38:00  12727.0       147.0  autoreply_message   \n",
       "\n",
       "         product_type  \n",
       "368             coins  \n",
       "196     trial_premium  \n",
       "342             coins  \n",
       "372  premium_no_trial  \n",
       "167     trial_premium  "
      ]
     },
     "execution_count": 61,
     "metadata": {},
     "output_type": "execute_result"
    }
   ],
   "source": [
    "transaction_control_1_rd.sort_values('joined_at').head(5)"
   ]
  },
  {
   "cell_type": "markdown",
   "metadata": {},
   "source": [
    "**Так же была обнаружена аномалия, что некоторые пользователи были зарегестрированы гораздо позже первой покупки.  \n",
    "Рассмотрим эту аномалию подробнее.**"
   ]
  },
  {
   "cell_type": "code",
   "execution_count": 62,
   "metadata": {},
   "outputs": [
    {
     "data": {
      "text/html": [
       "<div>\n",
       "<style scoped>\n",
       "    .dataframe tbody tr th:only-of-type {\n",
       "        vertical-align: middle;\n",
       "    }\n",
       "\n",
       "    .dataframe tbody tr th {\n",
       "        vertical-align: top;\n",
       "    }\n",
       "\n",
       "    .dataframe thead th {\n",
       "        text-align: right;\n",
       "    }\n",
       "</style>\n",
       "<table border=\"1\" class=\"dataframe\">\n",
       "  <thead>\n",
       "    <tr style=\"text-align: right;\">\n",
       "      <th></th>\n",
       "      <th>uid</th>\n",
       "      <th>country</th>\n",
       "      <th>joined_at</th>\n",
       "      <th>paid_at</th>\n",
       "      <th>revenue</th>\n",
       "      <th>payment_id</th>\n",
       "      <th>from_page</th>\n",
       "      <th>product_type</th>\n",
       "    </tr>\n",
       "  </thead>\n",
       "  <tbody>\n",
       "    <tr>\n",
       "      <th>184</th>\n",
       "      <td>891861594</td>\n",
       "      <td>Chile</td>\n",
       "      <td>2017-10-26 02:25:00</td>\n",
       "      <td>2017-01-11 04:37:00</td>\n",
       "      <td>4004</td>\n",
       "      <td>19</td>\n",
       "      <td>empty_likes</td>\n",
       "      <td>coins</td>\n",
       "    </tr>\n",
       "    <tr>\n",
       "      <th>245</th>\n",
       "      <td>891861048</td>\n",
       "      <td>Canada</td>\n",
       "      <td>2017-10-26 02:55:00</td>\n",
       "      <td>2017-01-11 07:13:00</td>\n",
       "      <td>3523</td>\n",
       "      <td>19</td>\n",
       "      <td>none</td>\n",
       "      <td>coins</td>\n",
       "    </tr>\n",
       "    <tr>\n",
       "      <th>260</th>\n",
       "      <td>892018248</td>\n",
       "      <td>United Kingdom (Great Britain)</td>\n",
       "      <td>2017-10-22 19:50:00</td>\n",
       "      <td>2017-01-11 13:42:00</td>\n",
       "      <td>6032</td>\n",
       "      <td>19</td>\n",
       "      <td>likes</td>\n",
       "      <td>coins</td>\n",
       "    </tr>\n",
       "    <tr>\n",
       "      <th>183</th>\n",
       "      <td>891872313</td>\n",
       "      <td>Switzerland</td>\n",
       "      <td>2017-10-25 21:35:00</td>\n",
       "      <td>2017-01-11 23:36:00</td>\n",
       "      <td>9451</td>\n",
       "      <td>147</td>\n",
       "      <td>trial_vip_popup</td>\n",
       "      <td>trial_premium</td>\n",
       "    </tr>\n",
       "    <tr>\n",
       "      <th>74</th>\n",
       "      <td>892205850</td>\n",
       "      <td>Spain</td>\n",
       "      <td>2017-10-18 19:20:00</td>\n",
       "      <td>2017-02-11 00:13:00</td>\n",
       "      <td>5408</td>\n",
       "      <td>147</td>\n",
       "      <td>promo_09</td>\n",
       "      <td>premium_no_trial</td>\n",
       "    </tr>\n",
       "  </tbody>\n",
       "</table>\n",
       "</div>"
      ],
      "text/plain": [
       "           uid                         country           joined_at  \\\n",
       "184  891861594                           Chile 2017-10-26 02:25:00   \n",
       "245  891861048                          Canada 2017-10-26 02:55:00   \n",
       "260  892018248  United Kingdom (Great Britain) 2017-10-22 19:50:00   \n",
       "183  891872313                     Switzerland 2017-10-25 21:35:00   \n",
       "74   892205850                           Spain 2017-10-18 19:20:00   \n",
       "\n",
       "                paid_at  revenue  payment_id        from_page  \\\n",
       "184 2017-01-11 04:37:00     4004          19      empty_likes   \n",
       "245 2017-01-11 07:13:00     3523          19             none   \n",
       "260 2017-01-11 13:42:00     6032          19            likes   \n",
       "183 2017-01-11 23:36:00     9451         147  trial_vip_popup   \n",
       "74  2017-02-11 00:13:00     5408         147         promo_09   \n",
       "\n",
       "         product_type  \n",
       "184             coins  \n",
       "245             coins  \n",
       "260             coins  \n",
       "183     trial_premium  \n",
       "74   premium_no_trial  "
      ]
     },
     "execution_count": 62,
     "metadata": {},
     "output_type": "execute_result"
    }
   ],
   "source": [
    "transaction_test.query('joined_at > paid_at').sort_values('paid_at').head(5)"
   ]
  },
  {
   "cell_type": "code",
   "execution_count": 63,
   "metadata": {},
   "outputs": [
    {
     "data": {
      "text/plain": [
       "11    47\n",
       "Name: paid_at, dtype: int64"
      ]
     },
     "execution_count": 63,
     "metadata": {},
     "output_type": "execute_result"
    }
   ],
   "source": [
    "test_anomal = transaction_test.query('joined_at > paid_at').sort_values('paid_at')\n",
    "pd.to_datetime(test_anomal['paid_at']).dt.day.value_counts()"
   ]
  },
  {
   "cell_type": "markdown",
   "metadata": {},
   "source": [
    "Среди всех значений paid_at наблюдается закономерность. Все даты заканчиваются на 11 число. Могу предположить, что в период с 01 по 10 ноября 2017 года наблюдалась ошибка в системе."
   ]
  },
  {
   "cell_type": "code",
   "execution_count": 64,
   "metadata": {},
   "outputs": [
    {
     "data": {
      "text/html": [
       "<div>\n",
       "<style scoped>\n",
       "    .dataframe tbody tr th:only-of-type {\n",
       "        vertical-align: middle;\n",
       "    }\n",
       "\n",
       "    .dataframe tbody tr th {\n",
       "        vertical-align: top;\n",
       "    }\n",
       "\n",
       "    .dataframe thead th {\n",
       "        text-align: right;\n",
       "    }\n",
       "</style>\n",
       "<table border=\"1\" class=\"dataframe\">\n",
       "  <thead>\n",
       "    <tr style=\"text-align: right;\">\n",
       "      <th></th>\n",
       "      <th>uid</th>\n",
       "      <th>country</th>\n",
       "      <th>joined_at</th>\n",
       "      <th>paid_at</th>\n",
       "      <th>revenue</th>\n",
       "      <th>payment_id</th>\n",
       "      <th>from_page</th>\n",
       "      <th>product_type</th>\n",
       "    </tr>\n",
       "  </thead>\n",
       "  <tbody>\n",
       "  </tbody>\n",
       "</table>\n",
       "</div>"
      ],
      "text/plain": [
       "Empty DataFrame\n",
       "Columns: [uid, country, joined_at, paid_at, revenue, payment_id, from_page, product_type]\n",
       "Index: []"
      ]
     },
     "execution_count": 64,
     "metadata": {},
     "output_type": "execute_result"
    }
   ],
   "source": [
    "# Для начала посмотрим, есть ли значения в таблице за этот период.\n",
    "transaction_test.query('\"2017-11-01\"<= paid_at <= \"2017-11-10\"').sort_values('paid_at')"
   ]
  },
  {
   "cell_type": "code",
   "execution_count": 65,
   "metadata": {},
   "outputs": [
    {
     "data": {
      "text/html": [
       "<div>\n",
       "<style scoped>\n",
       "    .dataframe tbody tr th:only-of-type {\n",
       "        vertical-align: middle;\n",
       "    }\n",
       "\n",
       "    .dataframe tbody tr th {\n",
       "        vertical-align: top;\n",
       "    }\n",
       "\n",
       "    .dataframe thead th {\n",
       "        text-align: right;\n",
       "    }\n",
       "</style>\n",
       "<table border=\"1\" class=\"dataframe\">\n",
       "  <thead>\n",
       "    <tr style=\"text-align: right;\">\n",
       "      <th></th>\n",
       "      <th>uid</th>\n",
       "      <th>country</th>\n",
       "      <th>joined_at</th>\n",
       "      <th>paid_at</th>\n",
       "      <th>revenue</th>\n",
       "      <th>payment_id</th>\n",
       "      <th>from_page</th>\n",
       "      <th>product_type</th>\n",
       "    </tr>\n",
       "  </thead>\n",
       "  <tbody>\n",
       "    <tr>\n",
       "      <th>104</th>\n",
       "      <td>892339626</td>\n",
       "      <td>United States of America</td>\n",
       "      <td>2017-10-15 23:21:00</td>\n",
       "      <td>2017-11-11 01:05:00</td>\n",
       "      <td>2587</td>\n",
       "      <td>68</td>\n",
       "      <td>none</td>\n",
       "      <td>premium_no_trial</td>\n",
       "    </tr>\n",
       "    <tr>\n",
       "      <th>141</th>\n",
       "      <td>892065108</td>\n",
       "      <td>France</td>\n",
       "      <td>2017-10-21 20:40:00</td>\n",
       "      <td>2017-11-11 03:28:00</td>\n",
       "      <td>12454</td>\n",
       "      <td>147</td>\n",
       "      <td>popular_users_chat</td>\n",
       "      <td>trial_premium</td>\n",
       "    </tr>\n",
       "    <tr>\n",
       "      <th>269</th>\n",
       "      <td>891447105</td>\n",
       "      <td>United Kingdom (Great Britain)</td>\n",
       "      <td>2017-03-11 17:05:00</td>\n",
       "      <td>2017-11-11 04:23:00</td>\n",
       "      <td>7319</td>\n",
       "      <td>147</td>\n",
       "      <td>fans</td>\n",
       "      <td>premium_no_trial</td>\n",
       "    </tr>\n",
       "  </tbody>\n",
       "</table>\n",
       "</div>"
      ],
      "text/plain": [
       "           uid                         country           joined_at  \\\n",
       "104  892339626        United States of America 2017-10-15 23:21:00   \n",
       "141  892065108                          France 2017-10-21 20:40:00   \n",
       "269  891447105  United Kingdom (Great Britain) 2017-03-11 17:05:00   \n",
       "\n",
       "                paid_at  revenue  payment_id           from_page  \\\n",
       "104 2017-11-11 01:05:00     2587          68                none   \n",
       "141 2017-11-11 03:28:00    12454         147  popular_users_chat   \n",
       "269 2017-11-11 04:23:00     7319         147                fans   \n",
       "\n",
       "         product_type  \n",
       "104  premium_no_trial  \n",
       "141     trial_premium  \n",
       "269  premium_no_trial  "
      ]
     },
     "execution_count": 65,
     "metadata": {},
     "output_type": "execute_result"
    }
   ],
   "source": [
    "# Так же посмотрим, есть ли значения в таблице за оставшийся месяц.\n",
    "transaction_test.query('\"2017-11-11\"<= paid_at <= \"2017-11-30\"').sort_values('paid_at').head(3)"
   ]
  },
  {
   "cell_type": "code",
   "execution_count": 66,
   "metadata": {},
   "outputs": [
    {
     "data": {
      "text/html": [
       "<div>\n",
       "<style scoped>\n",
       "    .dataframe tbody tr th:only-of-type {\n",
       "        vertical-align: middle;\n",
       "    }\n",
       "\n",
       "    .dataframe tbody tr th {\n",
       "        vertical-align: top;\n",
       "    }\n",
       "\n",
       "    .dataframe thead th {\n",
       "        text-align: right;\n",
       "    }\n",
       "</style>\n",
       "<table border=\"1\" class=\"dataframe\">\n",
       "  <thead>\n",
       "    <tr style=\"text-align: right;\">\n",
       "      <th></th>\n",
       "      <th>uid</th>\n",
       "      <th>country</th>\n",
       "      <th>joined_at</th>\n",
       "      <th>paid_at</th>\n",
       "      <th>revenue</th>\n",
       "      <th>payment_id</th>\n",
       "      <th>from_page</th>\n",
       "      <th>product_type</th>\n",
       "    </tr>\n",
       "  </thead>\n",
       "  <tbody>\n",
       "    <tr>\n",
       "      <th>239</th>\n",
       "      <td>891223299</td>\n",
       "      <td>United States of America</td>\n",
       "      <td>2017-07-11 08:52:00</td>\n",
       "      <td>2017-11-14 11:22:00</td>\n",
       "      <td>12727</td>\n",
       "      <td>147</td>\n",
       "      <td>trial_vip_popup</td>\n",
       "      <td>trial_premium</td>\n",
       "    </tr>\n",
       "    <tr>\n",
       "      <th>121</th>\n",
       "      <td>891605694</td>\n",
       "      <td>Argentina</td>\n",
       "      <td>2017-10-31 05:09:00</td>\n",
       "      <td>2017-11-15 04:33:00</td>\n",
       "      <td>12597</td>\n",
       "      <td>147</td>\n",
       "      <td>popular_users_block</td>\n",
       "      <td>premium_no_trial</td>\n",
       "    </tr>\n",
       "    <tr>\n",
       "      <th>195</th>\n",
       "      <td>891174411</td>\n",
       "      <td>Israel</td>\n",
       "      <td>2017-08-11 07:24:00</td>\n",
       "      <td>2017-11-15 09:31:00</td>\n",
       "      <td>14404</td>\n",
       "      <td>147</td>\n",
       "      <td>user_profile</td>\n",
       "      <td>trial_premium</td>\n",
       "    </tr>\n",
       "  </tbody>\n",
       "</table>\n",
       "</div>"
      ],
      "text/plain": [
       "           uid                   country           joined_at  \\\n",
       "239  891223299  United States of America 2017-07-11 08:52:00   \n",
       "121  891605694                 Argentina 2017-10-31 05:09:00   \n",
       "195  891174411                    Israel 2017-08-11 07:24:00   \n",
       "\n",
       "                paid_at  revenue  payment_id            from_page  \\\n",
       "239 2017-11-14 11:22:00    12727         147      trial_vip_popup   \n",
       "121 2017-11-15 04:33:00    12597         147  popular_users_block   \n",
       "195 2017-11-15 09:31:00    14404         147         user_profile   \n",
       "\n",
       "         product_type  \n",
       "239     trial_premium  \n",
       "121  premium_no_trial  \n",
       "195     trial_premium  "
      ]
     },
     "execution_count": 66,
     "metadata": {},
     "output_type": "execute_result"
    }
   ],
   "source": [
    "transaction_test.query('\"2017-11-11\"<= paid_at <= \"2017-11-30\"').sort_values('paid_at').tail(3)"
   ]
  },
  {
   "cell_type": "markdown",
   "metadata": {},
   "source": [
    "Судя по всему предположение верно, но стоит проверить, наблюдается ли данная закономерность в других таблицах."
   ]
  },
  {
   "cell_type": "code",
   "execution_count": 67,
   "metadata": {},
   "outputs": [
    {
     "data": {
      "text/html": [
       "<div>\n",
       "<style scoped>\n",
       "    .dataframe tbody tr th:only-of-type {\n",
       "        vertical-align: middle;\n",
       "    }\n",
       "\n",
       "    .dataframe tbody tr th {\n",
       "        vertical-align: top;\n",
       "    }\n",
       "\n",
       "    .dataframe thead th {\n",
       "        text-align: right;\n",
       "    }\n",
       "</style>\n",
       "<table border=\"1\" class=\"dataframe\">\n",
       "  <thead>\n",
       "    <tr style=\"text-align: right;\">\n",
       "      <th></th>\n",
       "      <th>uid</th>\n",
       "      <th>country</th>\n",
       "      <th>joined_at</th>\n",
       "      <th>paid_at</th>\n",
       "      <th>revenue</th>\n",
       "      <th>payment_id</th>\n",
       "      <th>from_page</th>\n",
       "      <th>product_type</th>\n",
       "    </tr>\n",
       "  </thead>\n",
       "  <tbody>\n",
       "    <tr>\n",
       "      <th>374</th>\n",
       "      <td>892145004.0</td>\n",
       "      <td>Chile</td>\n",
       "      <td>2017-10-20 04:25:00</td>\n",
       "      <td>2017-01-11 02:56:00</td>\n",
       "      <td>9919.0</td>\n",
       "      <td>147.0</td>\n",
       "      <td>trial_vip_popup</td>\n",
       "      <td>trial_premium</td>\n",
       "    </tr>\n",
       "    <tr>\n",
       "      <th>124</th>\n",
       "      <td>892136748.0</td>\n",
       "      <td>France</td>\n",
       "      <td>2017-10-20 10:32:00</td>\n",
       "      <td>2017-01-11 04:10:00</td>\n",
       "      <td>2834.0</td>\n",
       "      <td>19.0</td>\n",
       "      <td>none</td>\n",
       "      <td>coins</td>\n",
       "    </tr>\n",
       "    <tr>\n",
       "      <th>254</th>\n",
       "      <td>891908385.0</td>\n",
       "      <td>Argentina</td>\n",
       "      <td>2017-10-25 02:33:00</td>\n",
       "      <td>2017-01-11 04:34:00</td>\n",
       "      <td>10686.0</td>\n",
       "      <td>147.0</td>\n",
       "      <td>trial_vip_popup</td>\n",
       "      <td>trial_premium</td>\n",
       "    </tr>\n",
       "    <tr>\n",
       "      <th>173</th>\n",
       "      <td>892207959.0</td>\n",
       "      <td>France</td>\n",
       "      <td>2017-10-18 18:30:00</td>\n",
       "      <td>2017-01-11 04:38:00</td>\n",
       "      <td>1261.0</td>\n",
       "      <td>19.0</td>\n",
       "      <td>empty_likes</td>\n",
       "      <td>coins</td>\n",
       "    </tr>\n",
       "    <tr>\n",
       "      <th>24</th>\n",
       "      <td>892207959.0</td>\n",
       "      <td>France</td>\n",
       "      <td>2017-10-18 18:30:00</td>\n",
       "      <td>2017-01-11 04:39:00</td>\n",
       "      <td>1261.0</td>\n",
       "      <td>19.0</td>\n",
       "      <td>empty_likes</td>\n",
       "      <td>coins</td>\n",
       "    </tr>\n",
       "  </tbody>\n",
       "</table>\n",
       "</div>"
      ],
      "text/plain": [
       "             uid    country           joined_at             paid_at  revenue  \\\n",
       "374  892145004.0      Chile 2017-10-20 04:25:00 2017-01-11 02:56:00   9919.0   \n",
       "124  892136748.0     France 2017-10-20 10:32:00 2017-01-11 04:10:00   2834.0   \n",
       "254  891908385.0  Argentina 2017-10-25 02:33:00 2017-01-11 04:34:00  10686.0   \n",
       "173  892207959.0     France 2017-10-18 18:30:00 2017-01-11 04:38:00   1261.0   \n",
       "24   892207959.0     France 2017-10-18 18:30:00 2017-01-11 04:39:00   1261.0   \n",
       "\n",
       "     payment_id        from_page   product_type  \n",
       "374       147.0  trial_vip_popup  trial_premium  \n",
       "124        19.0             none          coins  \n",
       "254       147.0  trial_vip_popup  trial_premium  \n",
       "173        19.0      empty_likes          coins  \n",
       "24         19.0      empty_likes          coins  "
      ]
     },
     "execution_count": 67,
     "metadata": {},
     "output_type": "execute_result"
    }
   ],
   "source": [
    "transaction_control_1.query('joined_at > paid_at').sort_values('paid_at').head(5)"
   ]
  },
  {
   "cell_type": "code",
   "execution_count": 68,
   "metadata": {},
   "outputs": [
    {
     "data": {
      "text/plain": [
       "11    55\n",
       "Name: paid_at, dtype: int64"
      ]
     },
     "execution_count": 68,
     "metadata": {},
     "output_type": "execute_result"
    }
   ],
   "source": [
    "control_1_anomal = transaction_control_1.query('joined_at > paid_at').sort_values('paid_at')\n",
    "pd.to_datetime(control_1_anomal['paid_at']).dt.day.value_counts()"
   ]
  },
  {
   "cell_type": "code",
   "execution_count": 69,
   "metadata": {},
   "outputs": [
    {
     "data": {
      "text/html": [
       "<div>\n",
       "<style scoped>\n",
       "    .dataframe tbody tr th:only-of-type {\n",
       "        vertical-align: middle;\n",
       "    }\n",
       "\n",
       "    .dataframe tbody tr th {\n",
       "        vertical-align: top;\n",
       "    }\n",
       "\n",
       "    .dataframe thead th {\n",
       "        text-align: right;\n",
       "    }\n",
       "</style>\n",
       "<table border=\"1\" class=\"dataframe\">\n",
       "  <thead>\n",
       "    <tr style=\"text-align: right;\">\n",
       "      <th></th>\n",
       "      <th>uid</th>\n",
       "      <th>country</th>\n",
       "      <th>joined_at</th>\n",
       "      <th>paid_at</th>\n",
       "      <th>revenue</th>\n",
       "      <th>payment_id</th>\n",
       "      <th>from_page</th>\n",
       "      <th>product_type</th>\n",
       "    </tr>\n",
       "  </thead>\n",
       "  <tbody>\n",
       "  </tbody>\n",
       "</table>\n",
       "</div>"
      ],
      "text/plain": [
       "Empty DataFrame\n",
       "Columns: [uid, country, joined_at, paid_at, revenue, payment_id, from_page, product_type]\n",
       "Index: []"
      ]
     },
     "execution_count": 69,
     "metadata": {},
     "output_type": "execute_result"
    }
   ],
   "source": [
    "transaction_control_1.query('\"2017-11-01\"<= paid_at <= \"2017-11-10\"').sort_values('paid_at')"
   ]
  },
  {
   "cell_type": "code",
   "execution_count": 70,
   "metadata": {},
   "outputs": [
    {
     "data": {
      "text/html": [
       "<div>\n",
       "<style scoped>\n",
       "    .dataframe tbody tr th:only-of-type {\n",
       "        vertical-align: middle;\n",
       "    }\n",
       "\n",
       "    .dataframe tbody tr th {\n",
       "        vertical-align: top;\n",
       "    }\n",
       "\n",
       "    .dataframe thead th {\n",
       "        text-align: right;\n",
       "    }\n",
       "</style>\n",
       "<table border=\"1\" class=\"dataframe\">\n",
       "  <thead>\n",
       "    <tr style=\"text-align: right;\">\n",
       "      <th></th>\n",
       "      <th>uid</th>\n",
       "      <th>country</th>\n",
       "      <th>joined_at</th>\n",
       "      <th>paid_at</th>\n",
       "      <th>revenue</th>\n",
       "      <th>payment_id</th>\n",
       "      <th>from_page</th>\n",
       "      <th>product_type</th>\n",
       "    </tr>\n",
       "  </thead>\n",
       "  <tbody>\n",
       "    <tr>\n",
       "      <th>86</th>\n",
       "      <td>891429846.0</td>\n",
       "      <td>Israel</td>\n",
       "      <td>2017-03-11 23:18:00</td>\n",
       "      <td>2017-11-11 01:19:00</td>\n",
       "      <td>14352.0</td>\n",
       "      <td>147.0</td>\n",
       "      <td>trial_vip_popup</td>\n",
       "      <td>trial_premium</td>\n",
       "    </tr>\n",
       "    <tr>\n",
       "      <th>320</th>\n",
       "      <td>891707061.0</td>\n",
       "      <td>Argentina</td>\n",
       "      <td>2017-10-29 10:54:00</td>\n",
       "      <td>2017-11-11 01:21:00</td>\n",
       "      <td>6305.0</td>\n",
       "      <td>19.0</td>\n",
       "      <td>empty_likes</td>\n",
       "      <td>coins</td>\n",
       "    </tr>\n",
       "    <tr>\n",
       "      <th>55</th>\n",
       "      <td>891707061.0</td>\n",
       "      <td>Argentina</td>\n",
       "      <td>2017-10-29 10:54:00</td>\n",
       "      <td>2017-11-11 01:30:00</td>\n",
       "      <td>1261.0</td>\n",
       "      <td>19.0</td>\n",
       "      <td>menu</td>\n",
       "      <td>coins</td>\n",
       "    </tr>\n",
       "  </tbody>\n",
       "</table>\n",
       "</div>"
      ],
      "text/plain": [
       "             uid    country           joined_at             paid_at  revenue  \\\n",
       "86   891429846.0     Israel 2017-03-11 23:18:00 2017-11-11 01:19:00  14352.0   \n",
       "320  891707061.0  Argentina 2017-10-29 10:54:00 2017-11-11 01:21:00   6305.0   \n",
       "55   891707061.0  Argentina 2017-10-29 10:54:00 2017-11-11 01:30:00   1261.0   \n",
       "\n",
       "     payment_id        from_page   product_type  \n",
       "86        147.0  trial_vip_popup  trial_premium  \n",
       "320        19.0      empty_likes          coins  \n",
       "55         19.0             menu          coins  "
      ]
     },
     "execution_count": 70,
     "metadata": {},
     "output_type": "execute_result"
    }
   ],
   "source": [
    "transaction_control_1.query('\"2017-11-11\"<= paid_at <= \"2017-11-30\"').sort_values('paid_at').head(3)"
   ]
  },
  {
   "cell_type": "code",
   "execution_count": 71,
   "metadata": {},
   "outputs": [
    {
     "data": {
      "text/html": [
       "<div>\n",
       "<style scoped>\n",
       "    .dataframe tbody tr th:only-of-type {\n",
       "        vertical-align: middle;\n",
       "    }\n",
       "\n",
       "    .dataframe tbody tr th {\n",
       "        vertical-align: top;\n",
       "    }\n",
       "\n",
       "    .dataframe thead th {\n",
       "        text-align: right;\n",
       "    }\n",
       "</style>\n",
       "<table border=\"1\" class=\"dataframe\">\n",
       "  <thead>\n",
       "    <tr style=\"text-align: right;\">\n",
       "      <th></th>\n",
       "      <th>uid</th>\n",
       "      <th>country</th>\n",
       "      <th>joined_at</th>\n",
       "      <th>paid_at</th>\n",
       "      <th>revenue</th>\n",
       "      <th>payment_id</th>\n",
       "      <th>from_page</th>\n",
       "      <th>product_type</th>\n",
       "    </tr>\n",
       "  </thead>\n",
       "  <tbody>\n",
       "    <tr>\n",
       "      <th>154</th>\n",
       "      <td>891707061.0</td>\n",
       "      <td>Argentina</td>\n",
       "      <td>2017-10-29 10:54:00</td>\n",
       "      <td>2017-11-15 03:41:00</td>\n",
       "      <td>1261.0</td>\n",
       "      <td>19.0</td>\n",
       "      <td>autorefill</td>\n",
       "      <td>coins</td>\n",
       "    </tr>\n",
       "    <tr>\n",
       "      <th>110</th>\n",
       "      <td>891174534.0</td>\n",
       "      <td>Argentina</td>\n",
       "      <td>2017-08-11 07:19:00</td>\n",
       "      <td>2017-11-15 09:19:00</td>\n",
       "      <td>10517.0</td>\n",
       "      <td>147.0</td>\n",
       "      <td>trial_vip_popup</td>\n",
       "      <td>trial_premium</td>\n",
       "    </tr>\n",
       "    <tr>\n",
       "      <th>229</th>\n",
       "      <td>891178713.0</td>\n",
       "      <td>United States of America</td>\n",
       "      <td>2017-08-11 03:39:00</td>\n",
       "      <td>2017-11-15 09:28:00</td>\n",
       "      <td>9087.0</td>\n",
       "      <td>147.0</td>\n",
       "      <td>trial_vip_popup</td>\n",
       "      <td>trial_premium</td>\n",
       "    </tr>\n",
       "  </tbody>\n",
       "</table>\n",
       "</div>"
      ],
      "text/plain": [
       "             uid                   country           joined_at  \\\n",
       "154  891707061.0                 Argentina 2017-10-29 10:54:00   \n",
       "110  891174534.0                 Argentina 2017-08-11 07:19:00   \n",
       "229  891178713.0  United States of America 2017-08-11 03:39:00   \n",
       "\n",
       "                paid_at  revenue  payment_id        from_page   product_type  \n",
       "154 2017-11-15 03:41:00   1261.0        19.0       autorefill          coins  \n",
       "110 2017-11-15 09:19:00  10517.0       147.0  trial_vip_popup  trial_premium  \n",
       "229 2017-11-15 09:28:00   9087.0       147.0  trial_vip_popup  trial_premium  "
      ]
     },
     "execution_count": 71,
     "metadata": {},
     "output_type": "execute_result"
    }
   ],
   "source": [
    "transaction_control_1.query('\"2017-11-11\"<= paid_at <= \"2017-11-30\"').sort_values('paid_at').tail(3)"
   ]
  },
  {
   "cell_type": "markdown",
   "metadata": {},
   "source": [
    "Как и ожидалось, данная закономерность наблюдается и в этой таблице. Проверим последнюю для достоверности."
   ]
  },
  {
   "cell_type": "code",
   "execution_count": 72,
   "metadata": {},
   "outputs": [
    {
     "data": {
      "text/html": [
       "<div>\n",
       "<style scoped>\n",
       "    .dataframe tbody tr th:only-of-type {\n",
       "        vertical-align: middle;\n",
       "    }\n",
       "\n",
       "    .dataframe tbody tr th {\n",
       "        vertical-align: top;\n",
       "    }\n",
       "\n",
       "    .dataframe thead th {\n",
       "        text-align: right;\n",
       "    }\n",
       "</style>\n",
       "<table border=\"1\" class=\"dataframe\">\n",
       "  <thead>\n",
       "    <tr style=\"text-align: right;\">\n",
       "      <th></th>\n",
       "      <th>uid</th>\n",
       "      <th>country</th>\n",
       "      <th>joined_at</th>\n",
       "      <th>paid_at</th>\n",
       "      <th>revenue</th>\n",
       "      <th>payment_id</th>\n",
       "      <th>from_page</th>\n",
       "      <th>product_type</th>\n",
       "    </tr>\n",
       "  </thead>\n",
       "  <tbody>\n",
       "    <tr>\n",
       "      <th>129</th>\n",
       "      <td>891937068</td>\n",
       "      <td>Portugal</td>\n",
       "      <td>2017-10-24 14:22:00</td>\n",
       "      <td>2017-01-11 05:34:00</td>\n",
       "      <td>2015</td>\n",
       "      <td>19</td>\n",
       "      <td>none</td>\n",
       "      <td>coins</td>\n",
       "    </tr>\n",
       "    <tr>\n",
       "      <th>174</th>\n",
       "      <td>891664350</td>\n",
       "      <td>Germany</td>\n",
       "      <td>2017-10-30 00:21:00</td>\n",
       "      <td>2017-01-11 22:36:00</td>\n",
       "      <td>6279</td>\n",
       "      <td>147</td>\n",
       "      <td>left_sidebar_menu</td>\n",
       "      <td>premium_no_trial</td>\n",
       "    </tr>\n",
       "    <tr>\n",
       "      <th>49</th>\n",
       "      <td>891664350</td>\n",
       "      <td>Germany</td>\n",
       "      <td>2017-10-30 00:21:00</td>\n",
       "      <td>2017-01-11 22:36:00</td>\n",
       "      <td>2327</td>\n",
       "      <td>67</td>\n",
       "      <td>empty_mutual</td>\n",
       "      <td>other_type</td>\n",
       "    </tr>\n",
       "    <tr>\n",
       "      <th>20</th>\n",
       "      <td>891609360</td>\n",
       "      <td>Italy</td>\n",
       "      <td>2017-10-31 02:07:00</td>\n",
       "      <td>2017-01-11 23:19:00</td>\n",
       "      <td>3913</td>\n",
       "      <td>146</td>\n",
       "      <td>empty_likes</td>\n",
       "      <td>coins</td>\n",
       "    </tr>\n",
       "    <tr>\n",
       "      <th>88</th>\n",
       "      <td>891877569</td>\n",
       "      <td>France</td>\n",
       "      <td>2017-10-25 19:32:00</td>\n",
       "      <td>2017-02-11 01:55:00</td>\n",
       "      <td>12675</td>\n",
       "      <td>147</td>\n",
       "      <td>trial_vip_popup</td>\n",
       "      <td>trial_premium</td>\n",
       "    </tr>\n",
       "  </tbody>\n",
       "</table>\n",
       "</div>"
      ],
      "text/plain": [
       "           uid   country           joined_at             paid_at  revenue  \\\n",
       "129  891937068  Portugal 2017-10-24 14:22:00 2017-01-11 05:34:00     2015   \n",
       "174  891664350   Germany 2017-10-30 00:21:00 2017-01-11 22:36:00     6279   \n",
       "49   891664350   Germany 2017-10-30 00:21:00 2017-01-11 22:36:00     2327   \n",
       "20   891609360     Italy 2017-10-31 02:07:00 2017-01-11 23:19:00     3913   \n",
       "88   891877569    France 2017-10-25 19:32:00 2017-02-11 01:55:00    12675   \n",
       "\n",
       "     payment_id          from_page      product_type  \n",
       "129          19               none             coins  \n",
       "174         147  left_sidebar_menu  premium_no_trial  \n",
       "49           67       empty_mutual        other_type  \n",
       "20          146        empty_likes             coins  \n",
       "88          147    trial_vip_popup     trial_premium  "
      ]
     },
     "execution_count": 72,
     "metadata": {},
     "output_type": "execute_result"
    }
   ],
   "source": [
    "transaction_control_2.query('joined_at > paid_at').sort_values('paid_at').head(5)"
   ]
  },
  {
   "cell_type": "code",
   "execution_count": 73,
   "metadata": {},
   "outputs": [
    {
     "data": {
      "text/plain": [
       "11    60\n",
       "Name: paid_at, dtype: int64"
      ]
     },
     "execution_count": 73,
     "metadata": {},
     "output_type": "execute_result"
    }
   ],
   "source": [
    "control_2_anomal = transaction_control_2.query('joined_at > paid_at').sort_values('paid_at')\n",
    "pd.to_datetime(control_2_anomal['paid_at']).dt.day.value_counts()"
   ]
  },
  {
   "cell_type": "code",
   "execution_count": 74,
   "metadata": {},
   "outputs": [
    {
     "data": {
      "text/html": [
       "<div>\n",
       "<style scoped>\n",
       "    .dataframe tbody tr th:only-of-type {\n",
       "        vertical-align: middle;\n",
       "    }\n",
       "\n",
       "    .dataframe tbody tr th {\n",
       "        vertical-align: top;\n",
       "    }\n",
       "\n",
       "    .dataframe thead th {\n",
       "        text-align: right;\n",
       "    }\n",
       "</style>\n",
       "<table border=\"1\" class=\"dataframe\">\n",
       "  <thead>\n",
       "    <tr style=\"text-align: right;\">\n",
       "      <th></th>\n",
       "      <th>uid</th>\n",
       "      <th>country</th>\n",
       "      <th>joined_at</th>\n",
       "      <th>paid_at</th>\n",
       "      <th>revenue</th>\n",
       "      <th>payment_id</th>\n",
       "      <th>from_page</th>\n",
       "      <th>product_type</th>\n",
       "    </tr>\n",
       "  </thead>\n",
       "  <tbody>\n",
       "  </tbody>\n",
       "</table>\n",
       "</div>"
      ],
      "text/plain": [
       "Empty DataFrame\n",
       "Columns: [uid, country, joined_at, paid_at, revenue, payment_id, from_page, product_type]\n",
       "Index: []"
      ]
     },
     "execution_count": 74,
     "metadata": {},
     "output_type": "execute_result"
    }
   ],
   "source": [
    "transaction_control_2.query('\"2017-11-01\"<= paid_at <= \"2017-11-10\"').sort_values('paid_at')"
   ]
  },
  {
   "cell_type": "code",
   "execution_count": 75,
   "metadata": {},
   "outputs": [
    {
     "data": {
      "text/html": [
       "<div>\n",
       "<style scoped>\n",
       "    .dataframe tbody tr th:only-of-type {\n",
       "        vertical-align: middle;\n",
       "    }\n",
       "\n",
       "    .dataframe tbody tr th {\n",
       "        vertical-align: top;\n",
       "    }\n",
       "\n",
       "    .dataframe thead th {\n",
       "        text-align: right;\n",
       "    }\n",
       "</style>\n",
       "<table border=\"1\" class=\"dataframe\">\n",
       "  <thead>\n",
       "    <tr style=\"text-align: right;\">\n",
       "      <th></th>\n",
       "      <th>uid</th>\n",
       "      <th>country</th>\n",
       "      <th>joined_at</th>\n",
       "      <th>paid_at</th>\n",
       "      <th>revenue</th>\n",
       "      <th>payment_id</th>\n",
       "      <th>from_page</th>\n",
       "      <th>product_type</th>\n",
       "    </tr>\n",
       "  </thead>\n",
       "  <tbody>\n",
       "    <tr>\n",
       "      <th>294</th>\n",
       "      <td>891118668</td>\n",
       "      <td>Canada</td>\n",
       "      <td>2017-09-11 13:24:00</td>\n",
       "      <td>2017-11-11 03:11:00</td>\n",
       "      <td>897</td>\n",
       "      <td>146</td>\n",
       "      <td>empty_likes</td>\n",
       "      <td>coins</td>\n",
       "    </tr>\n",
       "    <tr>\n",
       "      <th>309</th>\n",
       "      <td>891118668</td>\n",
       "      <td>Canada</td>\n",
       "      <td>2017-09-11 13:24:00</td>\n",
       "      <td>2017-11-11 03:13:00</td>\n",
       "      <td>897</td>\n",
       "      <td>19</td>\n",
       "      <td>empty_likes</td>\n",
       "      <td>coins</td>\n",
       "    </tr>\n",
       "    <tr>\n",
       "      <th>302</th>\n",
       "      <td>891365604</td>\n",
       "      <td>United Kingdom (Great Britain)</td>\n",
       "      <td>2017-05-11 03:50:00</td>\n",
       "      <td>2017-11-11 03:31:00</td>\n",
       "      <td>2158</td>\n",
       "      <td>67</td>\n",
       "      <td>empty_likes</td>\n",
       "      <td>other_type</td>\n",
       "    </tr>\n",
       "  </tbody>\n",
       "</table>\n",
       "</div>"
      ],
      "text/plain": [
       "           uid                         country           joined_at  \\\n",
       "294  891118668                          Canada 2017-09-11 13:24:00   \n",
       "309  891118668                          Canada 2017-09-11 13:24:00   \n",
       "302  891365604  United Kingdom (Great Britain) 2017-05-11 03:50:00   \n",
       "\n",
       "                paid_at  revenue  payment_id    from_page product_type  \n",
       "294 2017-11-11 03:11:00      897         146  empty_likes        coins  \n",
       "309 2017-11-11 03:13:00      897          19  empty_likes        coins  \n",
       "302 2017-11-11 03:31:00     2158          67  empty_likes   other_type  "
      ]
     },
     "execution_count": 75,
     "metadata": {},
     "output_type": "execute_result"
    }
   ],
   "source": [
    "transaction_control_2.query('\"2017-11-11\"<= paid_at <= \"2017-11-30\"').sort_values('paid_at').head(3)"
   ]
  },
  {
   "cell_type": "code",
   "execution_count": 76,
   "metadata": {},
   "outputs": [
    {
     "data": {
      "text/html": [
       "<div>\n",
       "<style scoped>\n",
       "    .dataframe tbody tr th:only-of-type {\n",
       "        vertical-align: middle;\n",
       "    }\n",
       "\n",
       "    .dataframe tbody tr th {\n",
       "        vertical-align: top;\n",
       "    }\n",
       "\n",
       "    .dataframe thead th {\n",
       "        text-align: right;\n",
       "    }\n",
       "</style>\n",
       "<table border=\"1\" class=\"dataframe\">\n",
       "  <thead>\n",
       "    <tr style=\"text-align: right;\">\n",
       "      <th></th>\n",
       "      <th>uid</th>\n",
       "      <th>country</th>\n",
       "      <th>joined_at</th>\n",
       "      <th>paid_at</th>\n",
       "      <th>revenue</th>\n",
       "      <th>payment_id</th>\n",
       "      <th>from_page</th>\n",
       "      <th>product_type</th>\n",
       "    </tr>\n",
       "  </thead>\n",
       "  <tbody>\n",
       "    <tr>\n",
       "      <th>326</th>\n",
       "      <td>891668253</td>\n",
       "      <td>Chile</td>\n",
       "      <td>2017-10-29 23:08:00</td>\n",
       "      <td>2017-11-15 00:57:00</td>\n",
       "      <td>9997</td>\n",
       "      <td>147</td>\n",
       "      <td>trial_vip_popup</td>\n",
       "      <td>trial_premium</td>\n",
       "    </tr>\n",
       "    <tr>\n",
       "      <th>171</th>\n",
       "      <td>892128138</td>\n",
       "      <td>Argentina</td>\n",
       "      <td>2017-10-20 14:49:00</td>\n",
       "      <td>2017-11-15 02:15:00</td>\n",
       "      <td>6305</td>\n",
       "      <td>19</td>\n",
       "      <td>autorefill</td>\n",
       "      <td>coins</td>\n",
       "    </tr>\n",
       "    <tr>\n",
       "      <th>10</th>\n",
       "      <td>892128138</td>\n",
       "      <td>Argentina</td>\n",
       "      <td>2017-10-20 14:49:00</td>\n",
       "      <td>2017-11-15 02:15:00</td>\n",
       "      <td>1261</td>\n",
       "      <td>19</td>\n",
       "      <td>menu</td>\n",
       "      <td>coins</td>\n",
       "    </tr>\n",
       "  </tbody>\n",
       "</table>\n",
       "</div>"
      ],
      "text/plain": [
       "           uid    country           joined_at             paid_at  revenue  \\\n",
       "326  891668253      Chile 2017-10-29 23:08:00 2017-11-15 00:57:00     9997   \n",
       "171  892128138  Argentina 2017-10-20 14:49:00 2017-11-15 02:15:00     6305   \n",
       "10   892128138  Argentina 2017-10-20 14:49:00 2017-11-15 02:15:00     1261   \n",
       "\n",
       "     payment_id        from_page   product_type  \n",
       "326         147  trial_vip_popup  trial_premium  \n",
       "171          19       autorefill          coins  \n",
       "10           19             menu          coins  "
      ]
     },
     "execution_count": 76,
     "metadata": {},
     "output_type": "execute_result"
    }
   ],
   "source": [
    "transaction_control_2.query('\"2017-11-11\"<= paid_at <= \"2017-11-30\"').sort_values('paid_at').tail(3)"
   ]
  },
  {
   "cell_type": "markdown",
   "metadata": {},
   "source": [
    "**Во всех 3х таблицах наблюдается данная аномалия. Чистить таблицу от этих значений не будем, опираясь на предположение, что в период с 1 по 10 ноября 2017 года был сбой в системе, из-за чего день и месяц во время этого периода были поменяны местами.**"
   ]
  },
  {
   "cell_type": "markdown",
   "metadata": {},
   "source": [
    "### Посмотрим на общую выручку пользователей и сравним ее между данными о пользователях и данными о транзакциях."
   ]
  },
  {
   "cell_type": "code",
   "execution_count": 77,
   "metadata": {},
   "outputs": [
    {
     "name": "stdout",
     "output_type": "stream",
     "text": [
      "Данные о пользователях: Выручка 2300818\n",
      "Данные о транзакциях: Выручка 2332226\n"
     ]
    }
   ],
   "source": [
    "# Общая выручка в данных о тестовой группе B.\n",
    "print('Данные о пользователях: Выручка', user_test.total_revenue.sum())\n",
    "print('Данные о транзакциях: Выручка', transaction_test_rd.revenue.sum())"
   ]
  },
  {
   "cell_type": "code",
   "execution_count": 78,
   "metadata": {},
   "outputs": [
    {
     "name": "stdout",
     "output_type": "stream",
     "text": [
      "Данные о пользователях: Выручка 2581267\n",
      "Данные о транзакциях: Выручка 2493998.0\n"
     ]
    }
   ],
   "source": [
    "# Общая выручка в  данных о контрольной группе А1.\n",
    "print('Данные о пользователях: Выручка', user_control_1.total_revenue.sum())\n",
    "print('Данные о транзакциях: Выручка', transaction_control_1_rd.revenue.sum())"
   ]
  },
  {
   "cell_type": "code",
   "execution_count": 79,
   "metadata": {},
   "outputs": [
    {
     "name": "stdout",
     "output_type": "stream",
     "text": [
      "Данные о пользователях: Выручка 1920438\n",
      "Данные о транзакциях: Выручка 1907997\n"
     ]
    }
   ],
   "source": [
    "# Общая выручка в  данных о контрольной группе А2.\n",
    "print('Данные о пользователях: Выручка', user_control_2.total_revenue.sum())\n",
    "print('Данные о транзакциях: Выручка', transaction_control_2_rd.revenue.sum())"
   ]
  },
  {
   "cell_type": "markdown",
   "metadata": {},
   "source": [
    "**Выручка в таблицах различается, за основу для тестов будем брать выручку, указанную в данных о транзакциях.**"
   ]
  },
  {
   "cell_type": "markdown",
   "metadata": {},
   "source": [
    "### Посмотрим на количество уникальных стран в данных о пользователях и в данных о транзакциях."
   ]
  },
  {
   "cell_type": "code",
   "execution_count": 80,
   "metadata": {},
   "outputs": [
    {
     "name": "stdout",
     "output_type": "stream",
     "text": [
      "Данные о пользователях тестовой группы B: Уникальных стран 51\n",
      "Данные о транзакциях пользователей тестовой группы B: Уникальных стран 17\n",
      "Данные о пользователях контрольной группе А1: Уникальных стран 40\n",
      "Данные о транзакциях пользователей контрольной группе А1: Уникальных стран 17\n",
      "Данные о пользователях контрольной группе А2: Уникальных стран 45\n",
      "Данные о транзакциях пользователей контрольной группе А2: Уникальных стран 19\n"
     ]
    }
   ],
   "source": [
    "# Количесвто уникальных стран.\n",
    "print('Данные о пользователях тестовой группы B: Уникальных стран', user_test.country.nunique())\n",
    "print('Данные о транзакциях пользователей тестовой группы B: Уникальных стран', transaction_test_rd.country.nunique())\n",
    "print('Данные о пользователях контрольной группе А1: Уникальных стран', user_control_1.country.nunique())\n",
    "print('Данные о транзакциях пользователей контрольной группе А1: Уникальных стран', transaction_control_1_rd.country.nunique())\n",
    "print('Данные о пользователях контрольной группе А2: Уникальных стран', user_control_2.country.nunique())\n",
    "print('Данные о транзакциях пользователей контрольной группе А2: Уникальных стран', transaction_control_2_rd.country.nunique())"
   ]
  },
  {
   "cell_type": "markdown",
   "metadata": {},
   "source": [
    "**Количество уникальных стран в данных о пользователях сильно разнится. Стоит найти странны, которые присутсвуют во всех 3х таблицах о пользователях и на основе этих стран отфильтровать данные.**"
   ]
  },
  {
   "cell_type": "code",
   "execution_count": 81,
   "metadata": {},
   "outputs": [],
   "source": [
    "# Для начала соберем в отдельный список странны, которые встречаются во всех 3х таблицах.\n",
    "list1 = user_test['country']\n",
    "list2 = user_control_1['country']\n",
    "list3 = user_control_2['country']\n",
    "country = reduce(np.intersect1d, (list1, list2, list3))"
   ]
  },
  {
   "cell_type": "code",
   "execution_count": 82,
   "metadata": {},
   "outputs": [],
   "source": [
    "# Фильтруем данные по полученному списку.\n",
    "user_test = user_test[user_test.country.isin(country)]\n",
    "user_control_1 = user_control_1[user_control_1.country.isin(country)]\n",
    "user_control_2 = user_control_2[user_control_2.country.isin(country)]\n",
    "transaction_test_rd = transaction_test_rd[transaction_test_rd.country.isin(country)]\n",
    "transaction_control_1_rd = transaction_control_1_rd[transaction_control_1_rd.country.isin(country)]\n",
    "transaction_control_2_rd = transaction_control_2_rd[transaction_control_2_rd.country.isin(country)]"
   ]
  },
  {
   "cell_type": "code",
   "execution_count": 83,
   "metadata": {},
   "outputs": [
    {
     "name": "stdout",
     "output_type": "stream",
     "text": [
      "Данные о пользователях тестовой группы B: Уникальных стран 25\n",
      "Данные о транзакциях пользователей тестовой группы B: Уникальных стран 16\n",
      "Данные о пользователях контрольной группе А1: Уникальных стран 25\n",
      "Данные о транзакциях пользователей контрольной группе А1: Уникальных стран 17\n",
      "Данные о пользователях контрольной группе А2: Уникальных стран 25\n",
      "Данные о транзакциях пользователей контрольной группе А2: Уникальных стран 17\n"
     ]
    }
   ],
   "source": [
    "# Количесвто уникальных стран после фильтрации.\n",
    "print('Данные о пользователях тестовой группы B: Уникальных стран', user_test.country.nunique())\n",
    "print('Данные о транзакциях пользователей тестовой группы B: Уникальных стран', transaction_test_rd.country.nunique())\n",
    "print('Данные о пользователях контрольной группе А1: Уникальных стран', user_control_1.country.nunique())\n",
    "print('Данные о транзакциях пользователей контрольной группе А1: Уникальных стран', transaction_control_1_rd.country.nunique())\n",
    "print('Данные о пользователях контрольной группе А2: Уникальных стран', user_control_2.country.nunique())\n",
    "print('Данные о транзакциях пользователей контрольной группе А2: Уникальных стран', transaction_control_2_rd.country.nunique())"
   ]
  },
  {
   "cell_type": "markdown",
   "metadata": {},
   "source": [
    "### Посмотрим на распределение полов в данных о пользователях."
   ]
  },
  {
   "cell_type": "code",
   "execution_count": 84,
   "metadata": {},
   "outputs": [
    {
     "data": {
      "text/html": [
       "<div>\n",
       "<style scoped>\n",
       "    .dataframe tbody tr th:only-of-type {\n",
       "        vertical-align: middle;\n",
       "    }\n",
       "\n",
       "    .dataframe tbody tr th {\n",
       "        vertical-align: top;\n",
       "    }\n",
       "\n",
       "    .dataframe thead th {\n",
       "        text-align: right;\n",
       "    }\n",
       "</style>\n",
       "<table border=\"1\" class=\"dataframe\">\n",
       "  <thead>\n",
       "    <tr style=\"text-align: right;\">\n",
       "      <th></th>\n",
       "      <th>gender</th>\n",
       "    </tr>\n",
       "  </thead>\n",
       "  <tbody>\n",
       "    <tr>\n",
       "      <th>1</th>\n",
       "      <td>4071</td>\n",
       "    </tr>\n",
       "    <tr>\n",
       "      <th>0</th>\n",
       "      <td>200</td>\n",
       "    </tr>\n",
       "  </tbody>\n",
       "</table>\n",
       "</div>"
      ],
      "text/plain": [
       "   gender\n",
       "1    4071\n",
       "0     200"
      ]
     },
     "execution_count": 84,
     "metadata": {},
     "output_type": "execute_result"
    }
   ],
   "source": [
    "# Проверим распределение полов в тестовой группе B.\n",
    "user_test.gender.value_counts().to_frame()"
   ]
  },
  {
   "cell_type": "code",
   "execution_count": 85,
   "metadata": {},
   "outputs": [
    {
     "data": {
      "text/html": [
       "<div>\n",
       "<style scoped>\n",
       "    .dataframe tbody tr th:only-of-type {\n",
       "        vertical-align: middle;\n",
       "    }\n",
       "\n",
       "    .dataframe tbody tr th {\n",
       "        vertical-align: top;\n",
       "    }\n",
       "\n",
       "    .dataframe thead th {\n",
       "        text-align: right;\n",
       "    }\n",
       "</style>\n",
       "<table border=\"1\" class=\"dataframe\">\n",
       "  <thead>\n",
       "    <tr style=\"text-align: right;\">\n",
       "      <th></th>\n",
       "      <th>gender</th>\n",
       "    </tr>\n",
       "  </thead>\n",
       "  <tbody>\n",
       "    <tr>\n",
       "      <th>1</th>\n",
       "      <td>4137</td>\n",
       "    </tr>\n",
       "    <tr>\n",
       "      <th>0</th>\n",
       "      <td>182</td>\n",
       "    </tr>\n",
       "  </tbody>\n",
       "</table>\n",
       "</div>"
      ],
      "text/plain": [
       "   gender\n",
       "1    4137\n",
       "0     182"
      ]
     },
     "execution_count": 85,
     "metadata": {},
     "output_type": "execute_result"
    }
   ],
   "source": [
    "# Проверим распределение полов в контрольной группе А1.\n",
    "user_control_1.gender.value_counts().to_frame()"
   ]
  },
  {
   "cell_type": "code",
   "execution_count": 86,
   "metadata": {},
   "outputs": [
    {
     "data": {
      "text/html": [
       "<div>\n",
       "<style scoped>\n",
       "    .dataframe tbody tr th:only-of-type {\n",
       "        vertical-align: middle;\n",
       "    }\n",
       "\n",
       "    .dataframe tbody tr th {\n",
       "        vertical-align: top;\n",
       "    }\n",
       "\n",
       "    .dataframe thead th {\n",
       "        text-align: right;\n",
       "    }\n",
       "</style>\n",
       "<table border=\"1\" class=\"dataframe\">\n",
       "  <thead>\n",
       "    <tr style=\"text-align: right;\">\n",
       "      <th></th>\n",
       "      <th>gender</th>\n",
       "    </tr>\n",
       "  </thead>\n",
       "  <tbody>\n",
       "    <tr>\n",
       "      <th>1</th>\n",
       "      <td>4044</td>\n",
       "    </tr>\n",
       "    <tr>\n",
       "      <th>0</th>\n",
       "      <td>194</td>\n",
       "    </tr>\n",
       "  </tbody>\n",
       "</table>\n",
       "</div>"
      ],
      "text/plain": [
       "   gender\n",
       "1    4044\n",
       "0     194"
      ]
     },
     "execution_count": 86,
     "metadata": {},
     "output_type": "execute_result"
    }
   ],
   "source": [
    "# Проверим распределение полов в контрольной группе А2.\n",
    "user_control_2.gender.value_counts().to_frame()"
   ]
  },
  {
   "cell_type": "markdown",
   "metadata": {},
   "source": [
    "**Распределение между полами в данных схоже. Заметно сильное преобладание одного пола, что, учитывая специфику дейтинового приложения, ожидаемо.**"
   ]
  },
  {
   "cell_type": "markdown",
   "metadata": {},
   "source": [
    "### Посмотрим на распределение возрастов в данных о пользователях."
   ]
  },
  {
   "cell_type": "markdown",
   "metadata": {},
   "source": [
    "**Разобьем пользователей на группы, придерживаясь теории психосоциального развития Эрика Эриксона. 0-18 - детство, 19-35 молодость, 36-60 - взрослость, 60 и более - старость**"
   ]
  },
  {
   "cell_type": "code",
   "execution_count": 87,
   "metadata": {},
   "outputs": [
    {
     "data": {
      "text/plain": [
       "<matplotlib.axes._subplots.AxesSubplot at 0x7f4d6c2aa160>"
      ]
     },
     "execution_count": 87,
     "metadata": {},
     "output_type": "execute_result"
    },
    {
     "data": {
      "image/png": "[encoded data removed]",
      "text/plain": [
       "<Figure size 864x576 with 1 Axes>"
      ]
     },
     "metadata": {
      "needs_background": "light"
     },
     "output_type": "display_data"
    }
   ],
   "source": [
    "# Посмотрим на распределение возрастов во всех 3х группах.\n",
    "plt.figure(figsize=(12, 8))\n",
    "sns.histplot(pd.cut(user_test['age'], bins=[0, 18, 35, 60, 100], labels=['0-18', '19-35', '36-60', '60+']),  \n",
    "             kde = False, color='Red')\n",
    "sns.histplot(pd.cut(user_control_1['age'], bins=[0, 18, 35, 60, 100], labels=['0-18', '19-35', '36-60', '60+']),  \n",
    "             kde = False, color='Green')\n",
    "sns.histplot(pd.cut(user_control_2['age'], bins=[0, 18, 35, 60, 100], labels=['0-18', '19-35', '36-60', '60+']),  \n",
    "             kde = False, color='Blue')"
   ]
  },
  {
   "cell_type": "markdown",
   "metadata": {},
   "source": [
    "**Распределение возврастов в данных о группах схожи. Заметно преобладание пользоватей в возрасте от 19 до 36 лет.**"
   ]
  },
  {
   "cell_type": "markdown",
   "metadata": {},
   "source": [
    "### Некоторая информация после чистки данных о транзакциях."
   ]
  },
  {
   "cell_type": "code",
   "execution_count": 88,
   "metadata": {},
   "outputs": [
    {
     "name": "stdout",
     "output_type": "stream",
     "text": [
      "В тестовой группе B: транзакций - 262 , уникальных пользователей -  145\n",
      "В контрольной группе A1: транзакций - 353 , уникальных пользователей -  192\n",
      "В контрольной группе A2: транзакций - 319 , уникальных пользователей -  185\n"
     ]
    }
   ],
   "source": [
    "# Общее количество транзакций в группах и уникальных пользователей в группах.\n",
    "print('В тестовой группе B:', 'транзакций -', transaction_test_rd.uid.count(), ',',  \n",
    "      'уникальных пользователей - ', transaction_test_rd.uid.nunique())\n",
    "print('В контрольной группе A1:', 'транзакций -', transaction_control_1_rd.uid.count(), ',',  \n",
    "      'уникальных пользователей - ', transaction_control_1_rd.uid.nunique())\n",
    "print('В контрольной группе A2:', 'транзакций -', transaction_control_2_rd.uid.count(), ',',  \n",
    "      'уникальных пользователей - ', transaction_control_2_rd.uid.nunique())"
   ]
  },
  {
   "cell_type": "markdown",
   "metadata": {},
   "source": [
    "# Итоги предобработки данных:\n",
    "\n"
   ]
  },
  {
   "cell_type": "markdown",
   "metadata": {},
   "source": [
    "* Информация о пользователях в тестовой группе B, а так же в контрольных группах A1 и A2 содержится корректно. Дубликатов в данных обнаруженно не было, все пользователи в таблицах уникальны. Есть пустые значения в колонках coins, visit_days, was_premium и is_premium, что вполне ожидаемо и объяснимо, т.к. пользователь мог не покупать монеты, мог не заходить в приложение после его установки, а так же мог не покупать премиум статус.\n",
    "\n",
    "    На первый взгляд данные схожи между собой по таким группам, как: \n",
    "\n",
    "    * Возраст (Заметно преобладание пользоватей в возрасте от 19 до 36 лет)\n",
    "    * Распределение полов (хоть оно и смещено в сторону одного гендера, что ожидаемо для дейтингового приложения)\n",
    "    \n",
    "     Количество уникальных стран в данных о пользователях сильно разнится. В каждой из таблиц данных была произведена фильтрация по странам, которые есть во все таблицах с информацией о пользователях.\n",
    "    \n",
    "\n",
    "* Информация о транзакциях пользователей в тестовой группе была нарушена. Были обнаружены дубликаты (7), которые были очищены. Так же были сменены типы данных у колонок с датами. Cоотношение покупок к уникальным пользователям составило: 266 транзакций на 146 уникальных пользователей. Это говорит о том, что некоторые пользователи делали покупки более одного раза.\n",
    "\n",
    "\n",
    "* Информация о транзакциях пользователей в контрольной группе A1 была нарушена. Было обнаружено большое количество пустых строк(630) и дубликатов(21). Так же было обнаружено, что дата первой регистрации пользователя не соответствует дате в группах B и A2, всего такой пользователь был 1. После проведения очистки дубликатов и пустых строк, а так же данных до 2017-01-11, соотношение транзакций к уникальным пользователям составило 353 к 192, что сразу бросается в глаза, если сравнивать значения с тестовой группой B.\n",
    "\n",
    "\n",
    "* Информация о транзакциях пользователей в контрольной группе A2 имеет те же проблемы, что и информация о транзакциях пользователей в тестовой группе. Колонки были сменены, дубликаты(5) были очищены. Соотношение покупок к уникальным пользователям состовляет 323 к 187, что немного меньше, нежели в контрольной группе A1.\n",
    "\n",
    "\n",
    "* Так же во всех 3х таблицах о транзакциях пользователей была обнаружена аномалия, связанная с тем, что ряд пользователей был зарегистрирован после 1й покупки. Основываясь на предположении, что в период с 01 по 10 ноября 2017 года наблюдалась ошибка в системе, из-за чего день и месяц были поменяны местами, данные были оставленны."
   ]
  },
  {
   "cell_type": "markdown",
   "metadata": {},
   "source": [
    "#  Проверка требований дизайна эксперимента."
   ]
  },
  {
   "cell_type": "markdown",
   "metadata": {},
   "source": [
    "Для проверки корректности проведения A/A/B теста для начала нужно проверить систему сплитования, на основе которой были отобраны группы A1 и A2. Проверять систему будем по CR, ARPU и ARPPU, т.к. интересуют именно эти метрики. Если между группами стат.значимых различие наблюдаться не будет - можно будет переходить к A/A/B тестированию."
   ]
  },
  {
   "cell_type": "markdown",
   "metadata": {},
   "source": [
    "Перед проведением теста объеденим таблицы с информацией о пользователях с таблицами о транзакциях пользователей с учётом того, что выручка в таблицах разная."
   ]
  },
  {
   "cell_type": "code",
   "execution_count": 89,
   "metadata": {},
   "outputs": [],
   "source": [
    "# Для начала преобразуем таблицы транзакций.\n",
    "transaction_test_rd2 = transaction_test_rd.groupby(['uid'], as_index=False).agg({'revenue': 'sum'})\n",
    "transaction_control_1_rd2 = transaction_control_1_rd.groupby(['uid'], as_index=False).agg({'revenue': 'sum'})\n",
    "transaction_control_2_rd2 = transaction_control_2_rd.groupby(['uid'], as_index=False).agg({'revenue': 'sum'})"
   ]
  },
  {
   "cell_type": "code",
   "execution_count": 90,
   "metadata": {},
   "outputs": [],
   "source": [
    "# Удалим колонку с выручкой из информации о пользователях.\n",
    "user_test_rd = user_test.drop(columns = {'total_revenue'})\n",
    "user_control_1_rd = user_control_1.drop(columns = {'total_revenue'})\n",
    "user_control_2_rd = user_control_2.drop(columns = {'total_revenue'})"
   ]
  },
  {
   "cell_type": "code",
   "execution_count": 91,
   "metadata": {},
   "outputs": [],
   "source": [
    "# Объеденим таблицы.\n",
    "user_test_new = user_test_rd.merge(transaction_test_rd2, how='left', on='uid')\n",
    "user_control_1_new = user_control_1_rd.merge(transaction_control_1_rd2, how='left', on='uid')\n",
    "user_control_2_new = user_control_2_rd.merge(transaction_control_2_rd2, how='left', on='uid')"
   ]
  },
  {
   "cell_type": "code",
   "execution_count": 92,
   "metadata": {},
   "outputs": [
    {
     "name": "stdout",
     "output_type": "stream",
     "text": [
      "Количество строк и столбцов в данных о тестовой группе B до объеденения: (4271, 13) После объеденения: (4271, 13)\n",
      "Количество строк и столбцов в данных о контрольной группе A1 до объеденения: (4319, 13) После объеденения: (4319, 13)\n",
      "Количество строк и столбцов в данных о контрольной группе A2 до объеденения: (4238, 13) После объеденения: (4238, 13)\n"
     ]
    }
   ],
   "source": [
    "# Проверим, изменилось ли количество строк в таблицах.\n",
    "print('Количество строк и столбцов в данных о тестовой группе B до объеденения:',\n",
    "      user_test.shape, 'После объеденения:', user_test_new.shape)\n",
    "print('Количество строк и столбцов в данных о контрольной группе A1 до объеденения:',\n",
    "      user_control_1.shape, 'После объеденения:', user_control_1_new.shape)\n",
    "print('Количество строк и столбцов в данных о контрольной группе A2 до объеденения:',\n",
    "      user_control_2.shape, 'После объеденения:', user_control_2_new.shape)"
   ]
  },
  {
   "cell_type": "code",
   "execution_count": 93,
   "metadata": {},
   "outputs": [],
   "source": [
    "# Заменим все значение NaN на 0.\n",
    "user_test_new = user_test_new.fillna(0)\n",
    "user_control_1_new = user_control_1_new.fillna(0)\n",
    "user_control_2_new = user_control_2_new.fillna(0)"
   ]
  },
  {
   "cell_type": "code",
   "execution_count": 94,
   "metadata": {},
   "outputs": [],
   "source": [
    "# Сделаем таблицы для проверки CR."
   ]
  },
  {
   "cell_type": "code",
   "execution_count": 95,
   "metadata": {},
   "outputs": [],
   "source": [
    "trans_cr_test = transaction_test_rd.query('product_type == \"premium_no_trial\"').drop_duplicates('uid')\n",
    "cr_test = user_test_rd.merge(trans_cr_test, on='uid', how='left').fillna(0)\n",
    "cr_test['premium_no_trial'] = cr_test.product_type.str.contains('premium_no_trial').fillna(0)\n",
    "cr_test['group'] = 'test'"
   ]
  },
  {
   "cell_type": "code",
   "execution_count": 96,
   "metadata": {},
   "outputs": [],
   "source": [
    "trans_cr_control_1 = transaction_control_1_rd.query('product_type == \"premium_no_trial\"').drop_duplicates('uid')\n",
    "cr_control_1 = user_control_1_rd.merge(trans_cr_control_1, on='uid', how='left').fillna(0)\n",
    "cr_control_1['premium_no_trial'] = cr_control_1.product_type.str.contains('premium_no_trial').fillna(0)\n",
    "cr_control_1['group'] = 'control_1'"
   ]
  },
  {
   "cell_type": "code",
   "execution_count": 97,
   "metadata": {},
   "outputs": [],
   "source": [
    "trans_cr_control_2 = transaction_control_2_rd.query('product_type == \"premium_no_trial\"').drop_duplicates('uid')\n",
    "cr_control_2 = user_control_2_rd.merge(trans_cr_control_2, on='uid', how='left').fillna(0)\n",
    "cr_control_2['premium_no_trial'] = cr_control_2.product_type.str.contains('premium_no_trial').fillna(0)\n",
    "cr_control_2['group'] = 'control_2'"
   ]
  },
  {
   "cell_type": "code",
   "execution_count": 98,
   "metadata": {},
   "outputs": [
    {
     "data": {
      "text/html": [
       "<div>\n",
       "<style scoped>\n",
       "    .dataframe tbody tr th:only-of-type {\n",
       "        vertical-align: middle;\n",
       "    }\n",
       "\n",
       "    .dataframe tbody tr th {\n",
       "        vertical-align: top;\n",
       "    }\n",
       "\n",
       "    .dataframe thead th {\n",
       "        text-align: right;\n",
       "    }\n",
       "</style>\n",
       "<table border=\"1\" class=\"dataframe\">\n",
       "  <thead>\n",
       "    <tr style=\"text-align: right;\">\n",
       "      <th></th>\n",
       "      <th>uid</th>\n",
       "      <th>age</th>\n",
       "      <th>attraction_coeff</th>\n",
       "      <th>coins</th>\n",
       "      <th>country_x</th>\n",
       "      <th>visit_days</th>\n",
       "      <th>gender</th>\n",
       "      <th>age_filter_start</th>\n",
       "      <th>age_filter_end</th>\n",
       "      <th>views_count</th>\n",
       "      <th>...</th>\n",
       "      <th>is_premium</th>\n",
       "      <th>country_y</th>\n",
       "      <th>joined_at</th>\n",
       "      <th>paid_at</th>\n",
       "      <th>revenue</th>\n",
       "      <th>payment_id</th>\n",
       "      <th>from_page</th>\n",
       "      <th>product_type</th>\n",
       "      <th>premium_no_trial</th>\n",
       "      <th>group</th>\n",
       "    </tr>\n",
       "  </thead>\n",
       "  <tbody>\n",
       "    <tr>\n",
       "      <th>0</th>\n",
       "      <td>892035504</td>\n",
       "      <td>37</td>\n",
       "      <td>137</td>\n",
       "      <td>0.0</td>\n",
       "      <td>Israel</td>\n",
       "      <td>1,2,3,4,5,6,7,8,9,11,13</td>\n",
       "      <td>1</td>\n",
       "      <td>30</td>\n",
       "      <td>40</td>\n",
       "      <td>51</td>\n",
       "      <td>...</td>\n",
       "      <td>0.0</td>\n",
       "      <td>0</td>\n",
       "      <td>0</td>\n",
       "      <td>0</td>\n",
       "      <td>0.0</td>\n",
       "      <td>0.0</td>\n",
       "      <td>0</td>\n",
       "      <td>0</td>\n",
       "      <td>0</td>\n",
       "      <td>control_2</td>\n",
       "    </tr>\n",
       "    <tr>\n",
       "      <th>1</th>\n",
       "      <td>891782112</td>\n",
       "      <td>57</td>\n",
       "      <td>0</td>\n",
       "      <td>0.0</td>\n",
       "      <td>Italy</td>\n",
       "      <td>1</td>\n",
       "      <td>1</td>\n",
       "      <td>54</td>\n",
       "      <td>60</td>\n",
       "      <td>0</td>\n",
       "      <td>...</td>\n",
       "      <td>0.0</td>\n",
       "      <td>0</td>\n",
       "      <td>0</td>\n",
       "      <td>0</td>\n",
       "      <td>0.0</td>\n",
       "      <td>0.0</td>\n",
       "      <td>0</td>\n",
       "      <td>0</td>\n",
       "      <td>0</td>\n",
       "      <td>control_2</td>\n",
       "    </tr>\n",
       "    <tr>\n",
       "      <th>2</th>\n",
       "      <td>891110337</td>\n",
       "      <td>30</td>\n",
       "      <td>769</td>\n",
       "      <td>0.0</td>\n",
       "      <td>France</td>\n",
       "      <td>1,2,3,4,5</td>\n",
       "      <td>1</td>\n",
       "      <td>27</td>\n",
       "      <td>33</td>\n",
       "      <td>13</td>\n",
       "      <td>...</td>\n",
       "      <td>0.0</td>\n",
       "      <td>0</td>\n",
       "      <td>0</td>\n",
       "      <td>0</td>\n",
       "      <td>0.0</td>\n",
       "      <td>0.0</td>\n",
       "      <td>0</td>\n",
       "      <td>0</td>\n",
       "      <td>0</td>\n",
       "      <td>control_2</td>\n",
       "    </tr>\n",
       "    <tr>\n",
       "      <th>3</th>\n",
       "      <td>891796320</td>\n",
       "      <td>48</td>\n",
       "      <td>750</td>\n",
       "      <td>0.0</td>\n",
       "      <td>France</td>\n",
       "      <td>1,4,6,8,10,11,12,14,15,16,18</td>\n",
       "      <td>1</td>\n",
       "      <td>45</td>\n",
       "      <td>51</td>\n",
       "      <td>12</td>\n",
       "      <td>...</td>\n",
       "      <td>0.0</td>\n",
       "      <td>0</td>\n",
       "      <td>0</td>\n",
       "      <td>0</td>\n",
       "      <td>0.0</td>\n",
       "      <td>0.0</td>\n",
       "      <td>0</td>\n",
       "      <td>0</td>\n",
       "      <td>0</td>\n",
       "      <td>control_2</td>\n",
       "    </tr>\n",
       "    <tr>\n",
       "      <th>4</th>\n",
       "      <td>891880212</td>\n",
       "      <td>54</td>\n",
       "      <td>638</td>\n",
       "      <td>0.0</td>\n",
       "      <td>United States of America</td>\n",
       "      <td>1</td>\n",
       "      <td>1</td>\n",
       "      <td>35</td>\n",
       "      <td>53</td>\n",
       "      <td>94</td>\n",
       "      <td>...</td>\n",
       "      <td>0.0</td>\n",
       "      <td>0</td>\n",
       "      <td>0</td>\n",
       "      <td>0</td>\n",
       "      <td>0.0</td>\n",
       "      <td>0.0</td>\n",
       "      <td>0</td>\n",
       "      <td>0</td>\n",
       "      <td>0</td>\n",
       "      <td>control_2</td>\n",
       "    </tr>\n",
       "    <tr>\n",
       "      <th>...</th>\n",
       "      <td>...</td>\n",
       "      <td>...</td>\n",
       "      <td>...</td>\n",
       "      <td>...</td>\n",
       "      <td>...</td>\n",
       "      <td>...</td>\n",
       "      <td>...</td>\n",
       "      <td>...</td>\n",
       "      <td>...</td>\n",
       "      <td>...</td>\n",
       "      <td>...</td>\n",
       "      <td>...</td>\n",
       "      <td>...</td>\n",
       "      <td>...</td>\n",
       "      <td>...</td>\n",
       "      <td>...</td>\n",
       "      <td>...</td>\n",
       "      <td>...</td>\n",
       "      <td>...</td>\n",
       "      <td>...</td>\n",
       "      <td>...</td>\n",
       "    </tr>\n",
       "    <tr>\n",
       "      <th>4233</th>\n",
       "      <td>891937401</td>\n",
       "      <td>63</td>\n",
       "      <td>242</td>\n",
       "      <td>0.0</td>\n",
       "      <td>Italy</td>\n",
       "      <td>1,2</td>\n",
       "      <td>1</td>\n",
       "      <td>50</td>\n",
       "      <td>66</td>\n",
       "      <td>33</td>\n",
       "      <td>...</td>\n",
       "      <td>0.0</td>\n",
       "      <td>0</td>\n",
       "      <td>0</td>\n",
       "      <td>0</td>\n",
       "      <td>0.0</td>\n",
       "      <td>0.0</td>\n",
       "      <td>0</td>\n",
       "      <td>0</td>\n",
       "      <td>0</td>\n",
       "      <td>control_2</td>\n",
       "    </tr>\n",
       "    <tr>\n",
       "      <th>4234</th>\n",
       "      <td>891692844</td>\n",
       "      <td>35</td>\n",
       "      <td>500</td>\n",
       "      <td>0.0</td>\n",
       "      <td>France</td>\n",
       "      <td>1,2,3,4,5,6,8,9,10,11,12,14,16</td>\n",
       "      <td>1</td>\n",
       "      <td>24</td>\n",
       "      <td>45</td>\n",
       "      <td>2</td>\n",
       "      <td>...</td>\n",
       "      <td>0.0</td>\n",
       "      <td>0</td>\n",
       "      <td>0</td>\n",
       "      <td>0</td>\n",
       "      <td>0.0</td>\n",
       "      <td>0.0</td>\n",
       "      <td>0</td>\n",
       "      <td>0</td>\n",
       "      <td>0</td>\n",
       "      <td>control_2</td>\n",
       "    </tr>\n",
       "    <tr>\n",
       "      <th>4235</th>\n",
       "      <td>891096429</td>\n",
       "      <td>41</td>\n",
       "      <td>333</td>\n",
       "      <td>0.0</td>\n",
       "      <td>United States of America</td>\n",
       "      <td>0</td>\n",
       "      <td>1</td>\n",
       "      <td>38</td>\n",
       "      <td>44</td>\n",
       "      <td>6</td>\n",
       "      <td>...</td>\n",
       "      <td>0.0</td>\n",
       "      <td>0</td>\n",
       "      <td>0</td>\n",
       "      <td>0</td>\n",
       "      <td>0.0</td>\n",
       "      <td>0.0</td>\n",
       "      <td>0</td>\n",
       "      <td>0</td>\n",
       "      <td>0</td>\n",
       "      <td>control_2</td>\n",
       "    </tr>\n",
       "    <tr>\n",
       "      <th>4236</th>\n",
       "      <td>891697584</td>\n",
       "      <td>48</td>\n",
       "      <td>210</td>\n",
       "      <td>0.0</td>\n",
       "      <td>United Kingdom (Great Britain)</td>\n",
       "      <td>2,3,5,7,9,10,12,14,15</td>\n",
       "      <td>1</td>\n",
       "      <td>45</td>\n",
       "      <td>51</td>\n",
       "      <td>19</td>\n",
       "      <td>...</td>\n",
       "      <td>0.0</td>\n",
       "      <td>0</td>\n",
       "      <td>0</td>\n",
       "      <td>0</td>\n",
       "      <td>0.0</td>\n",
       "      <td>0.0</td>\n",
       "      <td>0</td>\n",
       "      <td>0</td>\n",
       "      <td>0</td>\n",
       "      <td>control_2</td>\n",
       "    </tr>\n",
       "    <tr>\n",
       "      <th>4237</th>\n",
       "      <td>891095634</td>\n",
       "      <td>22</td>\n",
       "      <td>0</td>\n",
       "      <td>0.0</td>\n",
       "      <td>Italy</td>\n",
       "      <td>0</td>\n",
       "      <td>1</td>\n",
       "      <td>19</td>\n",
       "      <td>25</td>\n",
       "      <td>0</td>\n",
       "      <td>...</td>\n",
       "      <td>0.0</td>\n",
       "      <td>0</td>\n",
       "      <td>0</td>\n",
       "      <td>0</td>\n",
       "      <td>0.0</td>\n",
       "      <td>0.0</td>\n",
       "      <td>0</td>\n",
       "      <td>0</td>\n",
       "      <td>0</td>\n",
       "      <td>control_2</td>\n",
       "    </tr>\n",
       "  </tbody>\n",
       "</table>\n",
       "<p>4238 rows × 21 columns</p>\n",
       "</div>"
      ],
      "text/plain": [
       "            uid  age  attraction_coeff  coins                       country_x  \\\n",
       "0     892035504   37               137    0.0                          Israel   \n",
       "1     891782112   57                 0    0.0                           Italy   \n",
       "2     891110337   30               769    0.0                          France   \n",
       "3     891796320   48               750    0.0                          France   \n",
       "4     891880212   54               638    0.0        United States of America   \n",
       "...         ...  ...               ...    ...                             ...   \n",
       "4233  891937401   63               242    0.0                           Italy   \n",
       "4234  891692844   35               500    0.0                          France   \n",
       "4235  891096429   41               333    0.0        United States of America   \n",
       "4236  891697584   48               210    0.0  United Kingdom (Great Britain)   \n",
       "4237  891095634   22                 0    0.0                           Italy   \n",
       "\n",
       "                          visit_days  gender  age_filter_start  \\\n",
       "0            1,2,3,4,5,6,7,8,9,11,13       1                30   \n",
       "1                                  1       1                54   \n",
       "2                          1,2,3,4,5       1                27   \n",
       "3       1,4,6,8,10,11,12,14,15,16,18       1                45   \n",
       "4                                  1       1                35   \n",
       "...                              ...     ...               ...   \n",
       "4233                             1,2       1                50   \n",
       "4234  1,2,3,4,5,6,8,9,10,11,12,14,16       1                24   \n",
       "4235                               0       1                38   \n",
       "4236           2,3,5,7,9,10,12,14,15       1                45   \n",
       "4237                               0       1                19   \n",
       "\n",
       "      age_filter_end  views_count  ...  is_premium  country_y joined_at  \\\n",
       "0                 40           51  ...         0.0          0         0   \n",
       "1                 60            0  ...         0.0          0         0   \n",
       "2                 33           13  ...         0.0          0         0   \n",
       "3                 51           12  ...         0.0          0         0   \n",
       "4                 53           94  ...         0.0          0         0   \n",
       "...              ...          ...  ...         ...        ...       ...   \n",
       "4233              66           33  ...         0.0          0         0   \n",
       "4234              45            2  ...         0.0          0         0   \n",
       "4235              44            6  ...         0.0          0         0   \n",
       "4236              51           19  ...         0.0          0         0   \n",
       "4237              25            0  ...         0.0          0         0   \n",
       "\n",
       "     paid_at revenue  payment_id  from_page product_type premium_no_trial  \\\n",
       "0          0     0.0         0.0          0            0                0   \n",
       "1          0     0.0         0.0          0            0                0   \n",
       "2          0     0.0         0.0          0            0                0   \n",
       "3          0     0.0         0.0          0            0                0   \n",
       "4          0     0.0         0.0          0            0                0   \n",
       "...      ...     ...         ...        ...          ...              ...   \n",
       "4233       0     0.0         0.0          0            0                0   \n",
       "4234       0     0.0         0.0          0            0                0   \n",
       "4235       0     0.0         0.0          0            0                0   \n",
       "4236       0     0.0         0.0          0            0                0   \n",
       "4237       0     0.0         0.0          0            0                0   \n",
       "\n",
       "          group  \n",
       "0     control_2  \n",
       "1     control_2  \n",
       "2     control_2  \n",
       "3     control_2  \n",
       "4     control_2  \n",
       "...         ...  \n",
       "4233  control_2  \n",
       "4234  control_2  \n",
       "4235  control_2  \n",
       "4236  control_2  \n",
       "4237  control_2  \n",
       "\n",
       "[4238 rows x 21 columns]"
      ]
     },
     "execution_count": 98,
     "metadata": {},
     "output_type": "execute_result"
    }
   ],
   "source": [
    "cr_control_2"
   ]
  },
  {
   "cell_type": "markdown",
   "metadata": {},
   "source": [
    "Проверим ARPPU пользователей на предмет выбросов."
   ]
  },
  {
   "cell_type": "code",
   "execution_count": 99,
   "metadata": {},
   "outputs": [
    {
     "data": {
      "text/plain": [
       "<matplotlib.axes._subplots.AxesSubplot at 0x7f4d6c2aad30>"
      ]
     },
     "execution_count": 99,
     "metadata": {},
     "output_type": "execute_result"
    },
    {
     "data": {
      "image/png": "[encoded data removed]",
      "text/plain": [
       "<Figure size 864x576 with 1 Axes>"
      ]
     },
     "metadata": {
      "needs_background": "light"
     },
     "output_type": "display_data"
    }
   ],
   "source": [
    "# ARPPU пользователей в тестовой группе B.\n",
    "plt.figure(figsize=(12, 8))\n",
    "sns.boxplot(x = user_test_new.query('revenue > 0').revenue, medianprops={\"color\": \"yellow\"})"
   ]
  },
  {
   "cell_type": "code",
   "execution_count": 100,
   "metadata": {},
   "outputs": [
    {
     "data": {
      "text/plain": [
       "<matplotlib.axes._subplots.AxesSubplot at 0x7f4d678846a0>"
      ]
     },
     "execution_count": 100,
     "metadata": {},
     "output_type": "execute_result"
    },
    {
     "data": {
      "image/png": "[encoded data removed]",
      "text/plain": [
       "<Figure size 864x576 with 1 Axes>"
      ]
     },
     "metadata": {
      "needs_background": "light"
     },
     "output_type": "display_data"
    }
   ],
   "source": [
    "# ARPPU пользователей в контрольной группе A1.\n",
    "plt.figure(figsize=(12, 8))\n",
    "sns.boxplot(x = user_control_1_new.query('revenue > 0').revenue, medianprops={\"color\": \"yellow\"})"
   ]
  },
  {
   "cell_type": "code",
   "execution_count": 101,
   "metadata": {},
   "outputs": [
    {
     "data": {
      "text/plain": [
       "<matplotlib.axes._subplots.AxesSubplot at 0x7f4d655a0ef0>"
      ]
     },
     "execution_count": 101,
     "metadata": {},
     "output_type": "execute_result"
    },
    {
     "data": {
      "image/png": "[encoded data removed]",
      "text/plain": [
       "<Figure size 864x576 with 1 Axes>"
      ]
     },
     "metadata": {
      "needs_background": "light"
     },
     "output_type": "display_data"
    }
   ],
   "source": [
    "# ARPPU пользователей в контрольной группе A2.\n",
    "plt.figure(figsize=(12, 8))\n",
    "sns.boxplot(x = user_control_2_new.query('revenue > 0').revenue, medianprops={\"color\": \"yellow\"})"
   ]
  },
  {
   "cell_type": "markdown",
   "metadata": {},
   "source": [
    "**Среди данных присутсвуют выбросы. Самый сильный выброс замечен в 1й контрольной группе. Рассмотрим эту группу по подробнее.**"
   ]
  },
  {
   "cell_type": "code",
   "execution_count": 102,
   "metadata": {},
   "outputs": [
    {
     "data": {
      "text/html": [
       "<div>\n",
       "<style scoped>\n",
       "    .dataframe tbody tr th:only-of-type {\n",
       "        vertical-align: middle;\n",
       "    }\n",
       "\n",
       "    .dataframe tbody tr th {\n",
       "        vertical-align: top;\n",
       "    }\n",
       "\n",
       "    .dataframe thead th {\n",
       "        text-align: right;\n",
       "    }\n",
       "</style>\n",
       "<table border=\"1\" class=\"dataframe\">\n",
       "  <thead>\n",
       "    <tr style=\"text-align: right;\">\n",
       "      <th></th>\n",
       "      <th>uid</th>\n",
       "      <th>revenue</th>\n",
       "    </tr>\n",
       "  </thead>\n",
       "  <tbody>\n",
       "    <tr>\n",
       "      <th>81</th>\n",
       "      <td>891653790.0</td>\n",
       "      <td>728.0</td>\n",
       "    </tr>\n",
       "    <tr>\n",
       "      <th>78</th>\n",
       "      <td>891622389.0</td>\n",
       "      <td>767.0</td>\n",
       "    </tr>\n",
       "    <tr>\n",
       "      <th>4</th>\n",
       "      <td>891135642.0</td>\n",
       "      <td>962.0</td>\n",
       "    </tr>\n",
       "    <tr>\n",
       "      <th>100</th>\n",
       "      <td>891792453.0</td>\n",
       "      <td>1313.0</td>\n",
       "    </tr>\n",
       "    <tr>\n",
       "      <th>155</th>\n",
       "      <td>892176342.0</td>\n",
       "      <td>1508.0</td>\n",
       "    </tr>\n",
       "    <tr>\n",
       "      <th>...</th>\n",
       "      <td>...</td>\n",
       "      <td>...</td>\n",
       "    </tr>\n",
       "    <tr>\n",
       "      <th>189</th>\n",
       "      <td>892421277.0</td>\n",
       "      <td>60333.0</td>\n",
       "    </tr>\n",
       "    <tr>\n",
       "      <th>184</th>\n",
       "      <td>892366260.0</td>\n",
       "      <td>63024.0</td>\n",
       "    </tr>\n",
       "    <tr>\n",
       "      <th>49</th>\n",
       "      <td>891383310.0</td>\n",
       "      <td>63037.0</td>\n",
       "    </tr>\n",
       "    <tr>\n",
       "      <th>163</th>\n",
       "      <td>892216461.0</td>\n",
       "      <td>64298.0</td>\n",
       "    </tr>\n",
       "    <tr>\n",
       "      <th>178</th>\n",
       "      <td>892333905.0</td>\n",
       "      <td>403104.0</td>\n",
       "    </tr>\n",
       "  </tbody>\n",
       "</table>\n",
       "<p>192 rows × 2 columns</p>\n",
       "</div>"
      ],
      "text/plain": [
       "             uid   revenue\n",
       "81   891653790.0     728.0\n",
       "78   891622389.0     767.0\n",
       "4    891135642.0     962.0\n",
       "100  891792453.0    1313.0\n",
       "155  892176342.0    1508.0\n",
       "..           ...       ...\n",
       "189  892421277.0   60333.0\n",
       "184  892366260.0   63024.0\n",
       "49   891383310.0   63037.0\n",
       "163  892216461.0   64298.0\n",
       "178  892333905.0  403104.0\n",
       "\n",
       "[192 rows x 2 columns]"
      ]
     },
     "execution_count": 102,
     "metadata": {},
     "output_type": "execute_result"
    }
   ],
   "source": [
    "transaction_control_1_rd2.sort_values('revenue')"
   ]
  },
  {
   "cell_type": "markdown",
   "metadata": {},
   "source": [
    "Видим, что у одного пользователя очень большое количество выручки. Проведем анализ, какие именно типы транзакций делал этот пользователь."
   ]
  },
  {
   "cell_type": "code",
   "execution_count": 103,
   "metadata": {},
   "outputs": [
    {
     "data": {
      "text/html": [
       "<div>\n",
       "<style scoped>\n",
       "    .dataframe tbody tr th:only-of-type {\n",
       "        vertical-align: middle;\n",
       "    }\n",
       "\n",
       "    .dataframe tbody tr th {\n",
       "        vertical-align: top;\n",
       "    }\n",
       "\n",
       "    .dataframe thead th {\n",
       "        text-align: right;\n",
       "    }\n",
       "</style>\n",
       "<table border=\"1\" class=\"dataframe\">\n",
       "  <thead>\n",
       "    <tr style=\"text-align: right;\">\n",
       "      <th></th>\n",
       "      <th>uid</th>\n",
       "      <th>product_type</th>\n",
       "      <th>country</th>\n",
       "      <th>revenue</th>\n",
       "    </tr>\n",
       "  </thead>\n",
       "  <tbody>\n",
       "    <tr>\n",
       "      <th>241</th>\n",
       "      <td>892333905.0</td>\n",
       "      <td>coins</td>\n",
       "      <td>Italy</td>\n",
       "      <td>317369.0</td>\n",
       "    </tr>\n",
       "    <tr>\n",
       "      <th>242</th>\n",
       "      <td>892333905.0</td>\n",
       "      <td>other_type</td>\n",
       "      <td>Italy</td>\n",
       "      <td>22698.0</td>\n",
       "    </tr>\n",
       "    <tr>\n",
       "      <th>243</th>\n",
       "      <td>892333905.0</td>\n",
       "      <td>premium_no_trial</td>\n",
       "      <td>Italy</td>\n",
       "      <td>63037.0</td>\n",
       "    </tr>\n",
       "  </tbody>\n",
       "</table>\n",
       "</div>"
      ],
      "text/plain": [
       "             uid      product_type country   revenue\n",
       "241  892333905.0             coins   Italy  317369.0\n",
       "242  892333905.0        other_type   Italy   22698.0\n",
       "243  892333905.0  premium_no_trial   Italy   63037.0"
      ]
     },
     "execution_count": 103,
     "metadata": {},
     "output_type": "execute_result"
    }
   ],
   "source": [
    "transaction_control_1_rd.groupby(['uid', 'product_type', 'country'], as_index=False).agg({'revenue': 'sum'}).query('uid == 892333905')"
   ]
  },
  {
   "cell_type": "markdown",
   "metadata": {},
   "source": [
    "Как можно заметить, этот пользователь делал в разы больше покупок по сравнению с остальными платящими пользователями. Если оставить информацию об этом пользователе в дальнейших тестах - итоге теста будут сильно искажены."
   ]
  },
  {
   "cell_type": "code",
   "execution_count": 104,
   "metadata": {},
   "outputs": [
    {
     "data": {
      "text/plain": [
       "<matplotlib.axes._subplots.AxesSubplot at 0x7f4d6556ae80>"
      ]
     },
     "execution_count": 104,
     "metadata": {},
     "output_type": "execute_result"
    },
    {
     "data": {
      "image/png": "[encoded data removed]",
      "text/plain": [
       "<Figure size 864x576 with 1 Axes>"
      ]
     },
     "metadata": {
      "needs_background": "light"
     },
     "output_type": "display_data"
    }
   ],
   "source": [
    "# ARPPU пользователей в контрольной группе A1 при исключении пользователя с UID 892333905.\n",
    "plt.figure(figsize=(12, 8))\n",
    "sns.boxplot(x = user_control_1_new.query('revenue > 0 & uid != 892333905').revenue, medianprops={\"color\": \"yellow\"})"
   ]
  },
  {
   "cell_type": "markdown",
   "metadata": {},
   "source": [
    "### Сравнение распределения по полу между группами B/A1/A2"
   ]
  },
  {
   "cell_type": "code",
   "execution_count": 105,
   "metadata": {},
   "outputs": [
    {
     "data": {
      "application/vnd.jupyter.widget-view+json": {
       "model_id": "fbecdff6c07c46e582722f44742ae881",
       "version_major": 2,
       "version_minor": 0
      },
      "text/plain": [
       "HBox(children=(FloatProgress(value=0.0), HTML(value='')))"
      ]
     },
     "metadata": {},
     "output_type": "display_data"
    },
    {
     "name": "stdout",
     "output_type": "stream",
     "text": [
      "\n",
      "0.04\n"
     ]
    }
   ],
   "source": [
    "n_s = 100\n",
    "simulations = 100\n",
    "\n",
    "res = []\n",
    "\n",
    "# Запуск симуляций A/A теста\n",
    "for i in tqdm(range(simulations)):\n",
    "    s1 = cr_control_1[{'gender', 'group'}].sample(n=n_s)\n",
    "    s2 = cr_control_2[{'gender', 'group'}].sample(n=n_s)\n",
    "    s3 = pd.concat([s1, s2])\n",
    "    cross = pd.crosstab(s3.group, s3.gender)\n",
    "    if cross.shape[1] == 1: #в случае, если премиумов нет ни одного, заполняем нулями, иначе scipy выдаст ошибку\n",
    "        cross['True'] = 0\n",
    "    res.append(scipy.stats.fisher_exact(cross)[1]) # сохраняем pvalue\n",
    "    \n",
    "# Проверяем, что количество ложноположительных случаев не превышает альфа\n",
    "print(sum(np.array(res) < 0.05) / simulations)"
   ]
  },
  {
   "cell_type": "code",
   "execution_count": 106,
   "metadata": {},
   "outputs": [
    {
     "data": {
      "application/vnd.jupyter.widget-view+json": {
       "model_id": "9deb1743f5884f9686841897c69cddf1",
       "version_major": 2,
       "version_minor": 0
      },
      "text/plain": [
       "HBox(children=(FloatProgress(value=0.0), HTML(value='')))"
      ]
     },
     "metadata": {},
     "output_type": "display_data"
    },
    {
     "name": "stdout",
     "output_type": "stream",
     "text": [
      "\n",
      "0.01\n"
     ]
    }
   ],
   "source": [
    "n_s = 100\n",
    "simulations = 100\n",
    "\n",
    "res = []\n",
    "\n",
    "# Запуск симуляций A/A теста\n",
    "for i in tqdm(range(simulations)):\n",
    "    s1 = cr_test[{'gender', 'group'}].sample(n=n_s)\n",
    "    s2 = cr_control_1[{'gender', 'group'}].sample(n=n_s)\n",
    "    s3 = pd.concat([s1, s2])\n",
    "    cross = pd.crosstab(s3.group, s3.gender)\n",
    "    if cross.shape[1] == 1: #в случае, если премиумов нет ни одного, заполняем нулями, иначе scipy выдаст ошибку\n",
    "        cross['True'] = 0\n",
    "    res.append(scipy.stats.fisher_exact(cross)[1]) # сохраняем pvalue\n",
    "    \n",
    "# Проверяем, что количество ложноположительных случаев не превышает альфа\n",
    "print(sum(np.array(res) < 0.05) / simulations)"
   ]
  },
  {
   "cell_type": "code",
   "execution_count": 107,
   "metadata": {},
   "outputs": [
    {
     "data": {
      "application/vnd.jupyter.widget-view+json": {
       "model_id": "bac42d705fcd4206a8f26cb82e3e9bed",
       "version_major": 2,
       "version_minor": 0
      },
      "text/plain": [
       "HBox(children=(FloatProgress(value=0.0), HTML(value='')))"
      ]
     },
     "metadata": {},
     "output_type": "display_data"
    },
    {
     "name": "stdout",
     "output_type": "stream",
     "text": [
      "\n",
      "0.01\n"
     ]
    }
   ],
   "source": [
    "n_s = 100\n",
    "simulations = 100\n",
    "\n",
    "res = []\n",
    "\n",
    "# Запуск симуляций A/A теста\n",
    "for i in tqdm(range(simulations)):\n",
    "    s1 = cr_test[{'gender', 'group'}].sample(n=n_s)\n",
    "    s2 = cr_control_2[{'gender', 'group'}].sample(n=n_s)\n",
    "    s3 = pd.concat([s1, s2])\n",
    "    cross = pd.crosstab(s3.group, s3.gender)\n",
    "    if cross.shape[1] == 1: #в случае, если премиумов нет ни одного, заполняем нулями, иначе scipy выдаст ошибку\n",
    "        cross['True'] = 0\n",
    "    res.append(scipy.stats.fisher_exact(cross)[1]) # сохраняем pvalue\n",
    "    \n",
    "# Проверяем, что количество ложноположительных случаев не превышает альфа\n",
    "print(sum(np.array(res) < 0.05) / simulations)"
   ]
  },
  {
   "cell_type": "markdown",
   "metadata": {},
   "source": [
    "**По скольку FPR < alpha(0.05), стат.значимых различий между группами не обранужено.**"
   ]
  },
  {
   "cell_type": "markdown",
   "metadata": {},
   "source": [
    "### Сравнение распределения по возрастам между группами B/A1/A2"
   ]
  },
  {
   "cell_type": "code",
   "execution_count": 108,
   "metadata": {},
   "outputs": [],
   "source": [
    "cr_test['age_group'] = pd.cut(user_test_new['age'], bins=[0, 18, 35, 60, 100],  \n",
    "                                    labels=['0-18', '19-35', '36-60', '60+'])\n",
    "cr_control_1['age_group'] = pd.cut(user_control_1_new['age'], bins=[0, 18, 35, 60, 100],  \n",
    "                                         labels=['0-18', '19-35', '36-60', '60+'])\n",
    "cr_control_2['age_group'] = pd.cut(user_control_2_new['age'], bins=[0, 18, 35, 60, 100],  \n",
    "                                         labels=['0-18', '19-35', '36-60', '60+'])\n",
    "user_test_new['age_group'] = pd.cut(user_test_new['age'], bins=[0, 18, 35, 60, 100],  \n",
    "                                    labels=['0-18', '19-35', '36-60', '60+'])\n",
    "user_control_1_new['age_group'] = pd.cut(user_test_new['age'], bins=[0, 18, 35, 60, 100],  \n",
    "                                    labels=['0-18', '19-35', '36-60', '60+'])\n",
    "user_control_2_new['age_group'] = pd.cut(user_test_new['age'], bins=[0, 18, 35, 60, 100],  \n",
    "                                    labels=['0-18', '19-35', '36-60', '60+'])"
   ]
  },
  {
   "cell_type": "code",
   "execution_count": 109,
   "metadata": {},
   "outputs": [
    {
     "name": "stdout",
     "output_type": "stream",
     "text": [
      "Сравнение А1/A2: Ttest_relResult(statistic=array([0.96843497]), pvalue=array([0.4042613]))\n",
      "Сравнение B/A1: Ttest_relResult(statistic=array([-0.49863122]), pvalue=array([0.65230568]))\n",
      "Сравнение B/A2: Ttest_relResult(statistic=array([1.48825914]), pvalue=array([0.23342106]))\n"
     ]
    }
   ],
   "source": [
    "print(\"Сравнение А1/A2:\",scipy.stats.ttest_rel(cr_control_1.groupby('age_group').agg({'uid': 'count'}),  \n",
    "                                              cr_control_2.groupby('age_group').agg({'uid': 'count'})))\n",
    "print(\"Сравнение B/A1:\",scipy.stats.ttest_rel(cr_test.groupby('age_group').agg({'uid': 'count'}),  \n",
    "                                              cr_control_1.groupby('age_group').agg({'uid': 'count'})))\n",
    "print(\"Сравнение B/A2:\",scipy.stats.ttest_rel(cr_test.groupby('age_group').agg({'uid': 'count'}),  \n",
    "                                              cr_control_2.groupby('age_group').agg({'uid': 'count'})))\n"
   ]
  },
  {
   "cell_type": "markdown",
   "metadata": {},
   "source": [
    "**Во всех 3х случаях Pvalue > 0.05, стат.значимых различий между группами не обранужено.**"
   ]
  },
  {
   "cell_type": "markdown",
   "metadata": {},
   "source": [
    "### Сравнение распределения по странам между группами B/A1/A2"
   ]
  },
  {
   "cell_type": "code",
   "execution_count": 110,
   "metadata": {},
   "outputs": [
    {
     "name": "stdout",
     "output_type": "stream",
     "text": [
      "Сравнение А1/A2: Ttest_relResult(statistic=array([1.14664107]), pvalue=array([0.26283367]))\n",
      "Сравнение B/A1: Ttest_relResult(statistic=array([-0.69328387]), pvalue=array([0.49478672]))\n",
      "Сравнение B/A2: Ttest_relResult(statistic=array([0.47958058]), pvalue=array([0.63586713]))\n"
     ]
    }
   ],
   "source": [
    "print(\"Сравнение А1/A2:\",scipy.stats.ttest_rel(cr_control_1.groupby('country_x').agg({'uid': 'count'}),  \n",
    "                                              cr_control_2.groupby('country_x').agg({'uid': 'count'})))\n",
    "print(\"Сравнение B/A1:\",scipy.stats.ttest_rel(cr_test.groupby('country_x').agg({'uid': 'count'}),  \n",
    "                                              cr_control_1.groupby('country_x').agg({'uid': 'count'})))\n",
    "print(\"Сравнение B/A2:\",scipy.stats.ttest_rel(cr_test.groupby('country_x').agg({'uid': 'count'}),  \n",
    "                                              cr_control_2.groupby('country_x').agg({'uid': 'count'})))"
   ]
  },
  {
   "cell_type": "markdown",
   "metadata": {},
   "source": [
    "**Во всех 3х случаях Pvalue > 0.05, стат.значимых различий между группами не обранужено.**"
   ]
  },
  {
   "cell_type": "markdown",
   "metadata": {},
   "source": [
    "### Сравнение распределения по коэффициенту привлекательности между группами B/A1/A2"
   ]
  },
  {
   "cell_type": "code",
   "execution_count": 160,
   "metadata": {},
   "outputs": [
    {
     "data": {
      "application/vnd.jupyter.widget-view+json": {
       "model_id": "b6d91b3c781e469595b99443c6a625ee",
       "version_major": 2,
       "version_minor": 0
      },
      "text/plain": [
       "HBox(children=(FloatProgress(value=0.0, max=150.0), HTML(value='')))"
      ]
     },
     "metadata": {},
     "output_type": "display_data"
    },
    {
     "name": "stdout",
     "output_type": "stream",
     "text": [
      "\n"
     ]
    },
    {
     "data": {
      "image/png": "[encoded data removed]",
      "text/plain": [
       "<Figure size 432x288 with 1 Axes>"
      ]
     },
     "metadata": {},
     "output_type": "display_data"
    },
    {
     "name": "stdout",
     "output_type": "stream",
     "text": [
      "0.04\n"
     ]
    }
   ],
   "source": [
    "n_s = 150\n",
    "simulations = 150\n",
    "\n",
    "res = []\n",
    "\n",
    "# Запуск симуляций A/A теста\n",
    "for i in tqdm(range(simulations)):\n",
    "    s1 = cr_control_1.attraction_coeff.sample(n_s, replace = False)\n",
    "    s2 = cr_control_2.attraction_coeff.sample(n_s, replace = False)\n",
    "    booted_data = get_bootstrap(s1, s2)\n",
    "    res.append(booted_data[\"p_value\"]) # сохраняем pvalue\n",
    "\n",
    "plt.hist(res, bins = 50)\n",
    "plt.style.use('ggplot')\n",
    "plt.xlabel('pvalues')\n",
    "plt.ylabel('frequency')\n",
    "plt.title(\"Histogram of bootstrap A/A simulations \")\n",
    "plt.show()\n",
    "# Проверяем, что количество ложноположительных случаев не превышает альфа\n",
    "print(sum(np.array(res) < 0.05) / simulations);"
   ]
  },
  {
   "cell_type": "code",
   "execution_count": 163,
   "metadata": {},
   "outputs": [
    {
     "data": {
      "application/vnd.jupyter.widget-view+json": {
       "model_id": "7622233de7c541bb82600e66f7e86005",
       "version_major": 2,
       "version_minor": 0
      },
      "text/plain": [
       "HBox(children=(FloatProgress(value=0.0, max=150.0), HTML(value='')))"
      ]
     },
     "metadata": {},
     "output_type": "display_data"
    },
    {
     "name": "stdout",
     "output_type": "stream",
     "text": [
      "\n"
     ]
    },
    {
     "data": {
      "image/png": "[encoded data removed]",
      "text/plain": [
       "<Figure size 432x288 with 1 Axes>"
      ]
     },
     "metadata": {},
     "output_type": "display_data"
    },
    {
     "name": "stdout",
     "output_type": "stream",
     "text": [
      "0.02\n"
     ]
    }
   ],
   "source": [
    "n_s = 150\n",
    "simulations = 150\n",
    "\n",
    "res = []\n",
    "\n",
    "# Запуск симуляций A/A теста\n",
    "for i in tqdm(range(simulations)):\n",
    "    s1 = cr_control_1.attraction_coeff.sample(n_s, replace = False)\n",
    "    s2 = cr_test.attraction_coeff.sample(n_s, replace = False)\n",
    "    booted_data = get_bootstrap(s1, s2)\n",
    "    res.append(booted_data[\"p_value\"]) # сохраняем pvalue\n",
    "\n",
    "plt.hist(res, bins = 50)\n",
    "plt.style.use('ggplot')\n",
    "plt.xlabel('pvalues')\n",
    "plt.ylabel('frequency')\n",
    "plt.title(\"Histogram of bootstrap A/A simulations \")\n",
    "plt.show()\n",
    "# Проверяем, что количество ложноположительных случаев не превышает альфа\n",
    "print(sum(np.array(res) < 0.05) / simulations);"
   ]
  },
  {
   "cell_type": "code",
   "execution_count": 165,
   "metadata": {},
   "outputs": [
    {
     "data": {
      "application/vnd.jupyter.widget-view+json": {
       "model_id": "c744e41ad88c4d7b952e54e66f8deca5",
       "version_major": 2,
       "version_minor": 0
      },
      "text/plain": [
       "HBox(children=(FloatProgress(value=0.0, max=150.0), HTML(value='')))"
      ]
     },
     "metadata": {},
     "output_type": "display_data"
    },
    {
     "name": "stdout",
     "output_type": "stream",
     "text": [
      "\n"
     ]
    },
    {
     "data": {
      "image/png": "[encoded data removed]",
      "text/plain": [
       "<Figure size 432x288 with 1 Axes>"
      ]
     },
     "metadata": {},
     "output_type": "display_data"
    },
    {
     "name": "stdout",
     "output_type": "stream",
     "text": [
      "0.04666666666666667\n"
     ]
    }
   ],
   "source": [
    "n_s = 150\n",
    "simulations = 150\n",
    "\n",
    "res = []\n",
    "\n",
    "# Запуск симуляций A/A теста\n",
    "for i in tqdm(range(simulations)):\n",
    "    s1 = cr_test.attraction_coeff.sample(n_s, replace = False)\n",
    "    s2 = cr_control_2.attraction_coeff.sample(n_s, replace = False)\n",
    "    booted_data = get_bootstrap(s1, s2)\n",
    "    res.append(booted_data[\"p_value\"]) # сохраняем pvalue\n",
    "\n",
    "plt.hist(res, bins = 50)\n",
    "plt.style.use('ggplot')\n",
    "plt.xlabel('pvalues')\n",
    "plt.ylabel('frequency')\n",
    "plt.title(\"Histogram of bootstrap A/A simulations \")\n",
    "plt.show()\n",
    "# Проверяем, что количество ложноположительных случаев не превышает альфа\n",
    "print(sum(np.array(res) < 0.05) / simulations);"
   ]
  },
  {
   "cell_type": "markdown",
   "metadata": {},
   "source": [
    "**По скольку во всех 3х тестах FPR < alpha(0.05), можно сделать вывод, что средние в группах стат.значимо не различаются.**"
   ]
  },
  {
   "cell_type": "markdown",
   "metadata": {},
   "source": [
    "#  Итог проверки требований дизайна эксперимента."
   ]
  },
  {
   "cell_type": "markdown",
   "metadata": {},
   "source": [
    "**Стат.значимых различий в  группах по таким признаками, как:**  \n",
    "  \n",
    "   **1. Распределение по возрастным группам,**  \n",
    "   **2. Распределение по странам,**  \n",
    "   **3. Распределение по полу,**  \n",
    "   **4. Распределение по коэффициенту привлекательность,**  \n",
    "     \n",
    "**обнаружено не было. Можно переходить к A/A тестированию.**"
   ]
  },
  {
   "cell_type": "markdown",
   "metadata": {},
   "source": [
    "#  А/А тест."
   ]
  },
  {
   "cell_type": "markdown",
   "metadata": {},
   "source": [
    "### Для проведения теста CR и распределения полов будет использован точный тест Фишера, для проведения тестов ARPU и ARPPU будут использован Bootstrap, для проведения тестов распределения по возрастам и странам будет использован парный T-тест."
   ]
  },
  {
   "cell_type": "markdown",
   "metadata": {},
   "source": [
    "### CR в подписку premium_no_trial"
   ]
  },
  {
   "cell_type": "markdown",
   "metadata": {},
   "source": [
    "H0 - группы не имеют стат.значимых различий.  \n",
    "H1 - группы имеют стат.значимые различия."
   ]
  },
  {
   "cell_type": "code",
   "execution_count": 169,
   "metadata": {},
   "outputs": [
    {
     "data": {
      "application/vnd.jupyter.widget-view+json": {
       "model_id": "8df21a45a8604b959d3e040d02cb09e2",
       "version_major": 2,
       "version_minor": 0
      },
      "text/plain": [
       "HBox(children=(FloatProgress(value=0.0, max=150.0), HTML(value='')))"
      ]
     },
     "metadata": {},
     "output_type": "display_data"
    },
    {
     "name": "stdout",
     "output_type": "stream",
     "text": [
      "\n",
      "0.0\n"
     ]
    }
   ],
   "source": [
    "n_s = 50\n",
    "simulations = 150\n",
    "\n",
    "res = []\n",
    "\n",
    "# Запуск симуляций A/A теста\n",
    "for i in tqdm(range(simulations)):\n",
    "    s1 = cr_control_1[{'premium_no_trial', 'group'}].sample(n=n_s)\n",
    "    s2 = cr_control_2[{'premium_no_trial', 'group'}].sample(n=n_s)\n",
    "    s3 = pd.concat([s1, s2])\n",
    "    cross = pd.crosstab(s3.group, s3.premium_no_trial)\n",
    "    if cross.shape[1] == 1: #в случае, если премиумов нет ни одного, заполняем нулями, иначе scipy выдаст ошибку\n",
    "        cross['True'] = 0\n",
    "    res.append(scipy.stats.fisher_exact(cross)[1]) # сохраняем pvalue\n",
    "\n",
    "# Проверяем, что количество ложноположительных случаев не превышает альфа\n",
    "print(sum(np.array(res) < 0.05) / simulations)"
   ]
  },
  {
   "cell_type": "markdown",
   "metadata": {},
   "source": [
    "**По скольку FPR < alpha(0.05), можно сделать вывод, что средние в группах стат.значимо не различаются.**"
   ]
  },
  {
   "cell_type": "markdown",
   "metadata": {},
   "source": [
    "### ARPU по подписке Premium_no_trial"
   ]
  },
  {
   "cell_type": "code",
   "execution_count": 115,
   "metadata": {},
   "outputs": [
    {
     "data": {
      "application/vnd.jupyter.widget-view+json": {
       "model_id": "ce132510ea254f959d6f6ae66acc12f1",
       "version_major": 2,
       "version_minor": 0
      },
      "text/plain": [
       "HBox(children=(FloatProgress(value=0.0, max=150.0), HTML(value='')))"
      ]
     },
     "metadata": {},
     "output_type": "display_data"
    },
    {
     "name": "stdout",
     "output_type": "stream",
     "text": [
      "\n"
     ]
    },
    {
     "data": {
      "image/png": "[encoded data removed]",
      "text/plain": [
       "<Figure size 432x288 with 1 Axes>"
      ]
     },
     "metadata": {},
     "output_type": "display_data"
    },
    {
     "name": "stdout",
     "output_type": "stream",
     "text": [
      "0.013333333333333334\n"
     ]
    }
   ],
   "source": [
    "n_s = 50\n",
    "simulations = 150\n",
    "\n",
    "res = []\n",
    "\n",
    "# Запуск симуляций A/A теста\n",
    "for i in tqdm(range(simulations)):\n",
    "    s1 = cr_control_1.query('uid != 892333905').revenue.sample(n_s, replace = False)\n",
    "    s2 = cr_control_2.revenue.sample(n_s, replace = False)\n",
    "    booted_data = get_bootstrap(s1, s2)\n",
    "    res.append(booted_data[\"p_value\"]) # сохраняем pvalue\n",
    "\n",
    "plt.hist(res, bins = 50)\n",
    "plt.style.use('ggplot')\n",
    "plt.xlabel('pvalues')\n",
    "plt.ylabel('frequency')\n",
    "plt.title(\"Histogram of bootstrap A/A simulations \")\n",
    "plt.show()\n",
    "# Проверяем, что количество ложноположительных случаев не превышает альфа\n",
    "print(sum(np.array(res) < 0.05) / simulations);"
   ]
  },
  {
   "cell_type": "markdown",
   "metadata": {},
   "source": [
    "**По скольку FPR < alpha(0.05), можно сделать вывод, что средние в группах стат.значимо не различаются.**"
   ]
  },
  {
   "cell_type": "markdown",
   "metadata": {},
   "source": [
    "### ARPU"
   ]
  },
  {
   "cell_type": "code",
   "execution_count": 116,
   "metadata": {},
   "outputs": [
    {
     "data": {
      "application/vnd.jupyter.widget-view+json": {
       "model_id": "f4939e3afd844cbc8a386272a1a795b4",
       "version_major": 2,
       "version_minor": 0
      },
      "text/plain": [
       "HBox(children=(FloatProgress(value=0.0, max=150.0), HTML(value='')))"
      ]
     },
     "metadata": {},
     "output_type": "display_data"
    },
    {
     "name": "stdout",
     "output_type": "stream",
     "text": [
      "\n"
     ]
    },
    {
     "data": {
      "image/png": "[encoded data removed]",
      "text/plain": [
       "<Figure size 432x288 with 1 Axes>"
      ]
     },
     "metadata": {},
     "output_type": "display_data"
    },
    {
     "name": "stdout",
     "output_type": "stream",
     "text": [
      "0.02666666666666667\n"
     ]
    }
   ],
   "source": [
    "n_s = 50\n",
    "simulations = 150\n",
    "\n",
    "res = []\n",
    "\n",
    "# Запуск симуляций A/A теста\n",
    "for i in tqdm(range(simulations)):\n",
    "    s1 = user_control_1_new.query('uid != 892333905').revenue.sample(n_s, replace = False)\n",
    "    s2 = user_control_2_new.revenue.sample(n_s, replace = False)\n",
    "    booted_data = get_bootstrap(s1, s2)\n",
    "    res.append(booted_data[\"p_value\"]) # сохраняем pvalue\n",
    "\n",
    "plt.hist(res, bins = 50)\n",
    "plt.style.use('ggplot')\n",
    "plt.xlabel('pvalues')\n",
    "plt.ylabel('frequency')\n",
    "plt.title(\"Histogram of bootstrap A/A simulations \")\n",
    "plt.show()\n",
    "# Проверяем, что количество ложноположительных случаев не превышает альфа\n",
    "print(sum(np.array(res) < 0.05) / simulations);"
   ]
  },
  {
   "cell_type": "markdown",
   "metadata": {},
   "source": [
    "**По скольку FPR < alpha(0.05), можно сделать вывод, что средние в группах стат.значимо не различаются.**"
   ]
  },
  {
   "cell_type": "markdown",
   "metadata": {},
   "source": [
    "### ARPPU по подписке Premium_no_trial"
   ]
  },
  {
   "cell_type": "code",
   "execution_count": 117,
   "metadata": {},
   "outputs": [
    {
     "data": {
      "application/vnd.jupyter.widget-view+json": {
       "model_id": "0265088a066e400186df29b207257abe",
       "version_major": 2,
       "version_minor": 0
      },
      "text/plain": [
       "HBox(children=(FloatProgress(value=0.0, max=150.0), HTML(value='')))"
      ]
     },
     "metadata": {},
     "output_type": "display_data"
    },
    {
     "name": "stdout",
     "output_type": "stream",
     "text": [
      "\n"
     ]
    },
    {
     "data": {
      "image/png": "[encoded data removed]",
      "text/plain": [
       "<Figure size 432x288 with 1 Axes>"
      ]
     },
     "metadata": {},
     "output_type": "display_data"
    },
    {
     "name": "stdout",
     "output_type": "stream",
     "text": [
      "0.013333333333333334\n"
     ]
    }
   ],
   "source": [
    "n_s = 50\n",
    "simulations = 150\n",
    "\n",
    "res = []\n",
    "\n",
    "# Запуск симуляций A/A теста\n",
    "for i in tqdm(range(simulations)):\n",
    "    s1 = cr_control_1.query('revenue > 0 & uid != 892333905').revenue.sample(n_s, replace = False)\n",
    "    s2 = cr_control_2.query('revenue > 0').revenue.sample(n_s, replace = False)\n",
    "    booted_data = get_bootstrap(s1, s2)\n",
    "    res.append(booted_data[\"p_value\"]) # сохраняем pvalue\n",
    "\n",
    "plt.hist(res, bins = 50)\n",
    "plt.style.use('ggplot')\n",
    "plt.xlabel('pvalues')\n",
    "plt.ylabel('frequency')\n",
    "plt.title(\"Histogram of bootstrap A/A simulations \")\n",
    "plt.show()\n",
    "# Проверяем, что количество ложноположительных случаев не превышает альфа\n",
    "print(sum(np.array(res) < 0.05) / simulations);"
   ]
  },
  {
   "cell_type": "markdown",
   "metadata": {},
   "source": [
    "**По скольку FPR < alpha(0.05), можно сделать вывод, что средние в группах стат.значимо не различаются.**"
   ]
  },
  {
   "cell_type": "markdown",
   "metadata": {},
   "source": [
    "### ARPPU"
   ]
  },
  {
   "cell_type": "code",
   "execution_count": 118,
   "metadata": {},
   "outputs": [
    {
     "data": {
      "application/vnd.jupyter.widget-view+json": {
       "model_id": "adfbf24cdcff4b07b46e1152c50b8422",
       "version_major": 2,
       "version_minor": 0
      },
      "text/plain": [
       "HBox(children=(FloatProgress(value=0.0, max=150.0), HTML(value='')))"
      ]
     },
     "metadata": {},
     "output_type": "display_data"
    },
    {
     "name": "stdout",
     "output_type": "stream",
     "text": [
      "\n"
     ]
    },
    {
     "data": {
      "image/png": "[encoded data removed]",
      "text/plain": [
       "<Figure size 432x288 with 1 Axes>"
      ]
     },
     "metadata": {},
     "output_type": "display_data"
    },
    {
     "name": "stdout",
     "output_type": "stream",
     "text": [
      "0.04666666666666667\n"
     ]
    }
   ],
   "source": [
    "n_s = 50\n",
    "simulations = 150\n",
    "\n",
    "res = []\n",
    "\n",
    "# Запуск симуляций A/A теста\n",
    "for i in tqdm(range(simulations)):\n",
    "    s1 = user_control_1_new.query('revenue > 0 & uid != 892333905').revenue.sample(n_s, replace = False)\n",
    "    s2 = user_control_2_new.query('revenue > 0').revenue.sample(n_s, replace = False)\n",
    "    booted_data = get_bootstrap(s1, s2)\n",
    "    res.append(booted_data[\"p_value\"]) # сохраняем pvalue\n",
    "\n",
    "plt.hist(res, bins = 50)\n",
    "plt.style.use('ggplot')\n",
    "plt.xlabel('pvalues')\n",
    "plt.ylabel('frequency')\n",
    "plt.title(\"Histogram of bootstrap A/A simulations \")\n",
    "plt.show()\n",
    "# Проверяем, что количество ложноположительных случаев не превышает альфа\n",
    "print(sum(np.array(res) < 0.05) / simulations);"
   ]
  },
  {
   "cell_type": "markdown",
   "metadata": {},
   "source": [
    "**По скольку FPR < alpha(0.05), можно сделать вывод, что средние в группах стат.значимо не различаются.**"
   ]
  },
  {
   "cell_type": "markdown",
   "metadata": {},
   "source": [
    "#  Итог проверки A/A теста."
   ]
  },
  {
   "cell_type": "markdown",
   "metadata": {},
   "source": [
    "**Стат.значимых различий в исследуемых метриках между группами A1 и A2 обнаружено не было, можно переходить к А/B тестированию.**"
   ]
  },
  {
   "cell_type": "markdown",
   "metadata": {},
   "source": [
    "#  Проверка А/B тестов"
   ]
  },
  {
   "cell_type": "markdown",
   "metadata": {},
   "source": [
    "Для проведения A/B тестов CR будет использован метод хи-квадрата, для проведения A/B тестов ARPU и ARPPU будет использован Bootstrap."
   ]
  },
  {
   "cell_type": "markdown",
   "metadata": {},
   "source": [
    "### CR в покупку no_premium_trial"
   ]
  },
  {
   "cell_type": "code",
   "execution_count": 119,
   "metadata": {},
   "outputs": [],
   "source": [
    "cr_full = pd.concat([cr_test[{'premium_no_trial', 'group'}],  \n",
    "                     cr_control_1[{'premium_no_trial', 'group'}],  \n",
    "                     cr_control_2[{'premium_no_trial', 'group'}]])\n",
    "cr_full.premium_no_trial = cr_full.premium_no_trial.astype('int')"
   ]
  },
  {
   "cell_type": "code",
   "execution_count": 120,
   "metadata": {},
   "outputs": [
    {
     "data": {
      "text/html": [
       "<div>\n",
       "<style scoped>\n",
       "    .dataframe tbody tr th:only-of-type {\n",
       "        vertical-align: middle;\n",
       "    }\n",
       "\n",
       "    .dataframe tbody tr th {\n",
       "        vertical-align: top;\n",
       "    }\n",
       "\n",
       "    .dataframe thead th {\n",
       "        text-align: right;\n",
       "    }\n",
       "</style>\n",
       "<table border=\"1\" class=\"dataframe\">\n",
       "  <thead>\n",
       "    <tr style=\"text-align: right;\">\n",
       "      <th></th>\n",
       "      <th>premium_no_trial</th>\n",
       "    </tr>\n",
       "    <tr>\n",
       "      <th>group</th>\n",
       "      <th></th>\n",
       "    </tr>\n",
       "  </thead>\n",
       "  <tbody>\n",
       "    <tr>\n",
       "      <th>control_1</th>\n",
       "      <td>0.022922</td>\n",
       "    </tr>\n",
       "    <tr>\n",
       "      <th>control_2</th>\n",
       "      <td>0.023832</td>\n",
       "    </tr>\n",
       "    <tr>\n",
       "      <th>test</th>\n",
       "      <td>0.015453</td>\n",
       "    </tr>\n",
       "  </tbody>\n",
       "</table>\n",
       "</div>"
      ],
      "text/plain": [
       "           premium_no_trial\n",
       "group                      \n",
       "control_1          0.022922\n",
       "control_2          0.023832\n",
       "test               0.015453"
      ]
     },
     "execution_count": 120,
     "metadata": {},
     "output_type": "execute_result"
    }
   ],
   "source": [
    "cr_full.groupby('group').agg({'premium_no_trial':'mean'})"
   ]
  },
  {
   "cell_type": "markdown",
   "metadata": {},
   "source": [
    "CR в контрольных группах выше, нежели в тестовой. Скорее всего это связанно с тем, что стоймость премиум подписки возросла. Проверим данные на стат.значимость."
   ]
  },
  {
   "cell_type": "markdown",
   "metadata": {},
   "source": [
    "H0 - группы не имеют стат.значимых различий.  \n",
    "H1 - группы имеют стат.значимые различия."
   ]
  },
  {
   "cell_type": "code",
   "execution_count": 121,
   "metadata": {},
   "outputs": [
    {
     "data": {
      "text/plain": [
       "(7.332404192091014,\n",
       " 0.006772240942126056,\n",
       " 1,\n",
       " array([[4154.82383359,   83.17616641],\n",
       "        [4187.17616641,   83.82383359]]))"
      ]
     },
     "execution_count": 121,
     "metadata": {},
     "output_type": "execute_result"
    }
   ],
   "source": [
    "scipy.stats.chi2_contingency(pd.crosstab(cr_full.query('group != \"control_1\"').group,  \n",
    "                                         cr_full.query('group != \"control_1\"').premium_no_trial))"
   ]
  },
  {
   "cell_type": "code",
   "execution_count": 122,
   "metadata": {},
   "outputs": [
    {
     "data": {
      "text/plain": [
       "(5.9684138646181495,\n",
       " 0.014564375509795792,\n",
       " 1,\n",
       " array([[4236.03899884,   82.96100116],\n",
       "        [4188.96100116,   82.03899884]]))"
      ]
     },
     "execution_count": 122,
     "metadata": {},
     "output_type": "execute_result"
    }
   ],
   "source": [
    "scipy.stats.chi2_contingency(pd.crosstab(cr_full.query('group != \"control_2\"').group,  \n",
    "                                         cr_full.query('group != \"control_2\"').premium_no_trial))"
   ]
  },
  {
   "cell_type": "markdown",
   "metadata": {},
   "source": [
    "**Значения Pvalue в обоих случаях < 0.05, что означает, что в группах есть стат.значимые различия.**"
   ]
  },
  {
   "cell_type": "markdown",
   "metadata": {},
   "source": [
    "### ARPU по подписке Premium_no_trial"
   ]
  },
  {
   "cell_type": "code",
   "execution_count": 123,
   "metadata": {},
   "outputs": [
    {
     "name": "stdout",
     "output_type": "stream",
     "text": [
      "Средний чек в тестовой группе B: 176.48\n",
      "Средний чек в контрольной группе A1: 157.24\n",
      "Средний чек в контрольной группе A1: 168.68\n"
     ]
    }
   ],
   "source": [
    "print('Средний чек в тестовой группе B:', cr_test.revenue.mean().round(2))\n",
    "print('Средний чек в контрольной группе A1:', cr_control_1.query('uid != 892333905').revenue.mean().round(2))\n",
    "print('Средний чек в контрольной группе A1:', cr_control_2.revenue.mean().round(2))"
   ]
  },
  {
   "cell_type": "markdown",
   "metadata": {},
   "source": [
    "На первый взгляд разница есть, но является ли она стат значимой? Проведем тесты."
   ]
  },
  {
   "cell_type": "markdown",
   "metadata": {},
   "source": [
    "H0 - группы не имеют стат.значимых различий.  \n",
    "H1 - группы имеют стат.значимые различия."
   ]
  },
  {
   "cell_type": "code",
   "execution_count": 124,
   "metadata": {},
   "outputs": [
    {
     "name": "stdout",
     "output_type": "stream",
     "text": [
      "Сравнение А1/B: 0.6834888863045125\n",
      "Сравнение А2/B: 0.8662034460407967\n"
     ]
    }
   ],
   "source": [
    "booted_data1 = get_bootstrap(cr_test.revenue,  \n",
    "                            cr_control_1.query('uid != 892333905').revenue)\n",
    "booted_data2 = get_bootstrap(cr_test.revenue,  \n",
    "                            cr_control_2.revenue)\n",
    "print('Сравнение А1/B:', booted_data1['p_value'])\n",
    "print('Сравнение А2/B:', booted_data2['p_value'])"
   ]
  },
  {
   "cell_type": "markdown",
   "metadata": {},
   "source": [
    "**В обоих тестах групп Pvalue > 0.05, следовательно стат.значимых различий обнаружено не было.**"
   ]
  },
  {
   "cell_type": "markdown",
   "metadata": {},
   "source": [
    "### ARPU"
   ]
  },
  {
   "cell_type": "code",
   "execution_count": 125,
   "metadata": {},
   "outputs": [
    {
     "name": "stdout",
     "output_type": "stream",
     "text": [
      "Средний чек в тестовой группе B: 543.92\n",
      "Средний чек в контрольной группе A1: 484.23\n",
      "Средний чек в контрольной группе A1: 444.33\n"
     ]
    }
   ],
   "source": [
    "print('Средний чек в тестовой группе B:', user_test_new.revenue.mean().round(2))\n",
    "print('Средний чек в контрольной группе A1:', user_control_1_new.query('uid != 892333905').revenue.mean().round(2))\n",
    "print('Средний чек в контрольной группе A1:', user_control_2_new.revenue.mean().round(2))"
   ]
  },
  {
   "cell_type": "markdown",
   "metadata": {},
   "source": [
    "На первый взгляд разница есть, но является ли она стат значимой? Проведем тесты."
   ]
  },
  {
   "cell_type": "markdown",
   "metadata": {},
   "source": [
    "H0 - группы не имеют стат.значимых различий.  \n",
    "H1 - группы имеют стат.значимые различия."
   ]
  },
  {
   "cell_type": "code",
   "execution_count": 126,
   "metadata": {},
   "outputs": [
    {
     "name": "stdout",
     "output_type": "stream",
     "text": [
      "Сравнение А1/B: 0.455910752629047\n",
      "Сравнение А2/B: 0.19336011428809508\n"
     ]
    }
   ],
   "source": [
    "booted_data1 = get_bootstrap(user_test_new.revenue,  \n",
    "                            user_control_1_new.query('uid != 892333905').revenue)\n",
    "booted_data2 = get_bootstrap(user_test_new.revenue,  \n",
    "                            user_control_2_new.revenue)\n",
    "print('Сравнение А1/B:', booted_data1['p_value'])\n",
    "print('Сравнение А2/B:', booted_data2['p_value'])"
   ]
  },
  {
   "cell_type": "markdown",
   "metadata": {},
   "source": [
    "**В обоих тестах групп Pvalue > 0.05, следовательно стат.значимых различий обнаружено не было.**"
   ]
  },
  {
   "cell_type": "markdown",
   "metadata": {},
   "source": [
    " ### ARPPU по подписке Premium_no_trial"
   ]
  },
  {
   "cell_type": "code",
   "execution_count": 127,
   "metadata": {},
   "outputs": [
    {
     "name": "stdout",
     "output_type": "stream",
     "text": [
      "Средний чек в тестовой группе B: 11420.5\n",
      "Средний чек в контрольной группе A1: 6928.07\n",
      "Средний чек в контрольной группе A1: 7078.05\n"
     ]
    }
   ],
   "source": [
    "print('Средний чек в тестовой группе B:', cr_test.query('revenue > 0')  \n",
    "      .revenue.mean().round(2))\n",
    "print('Средний чек в контрольной группе A1:', cr_control_1.query('revenue > 0 & uid != 892333905')  \n",
    "      .revenue.mean().round(2))\n",
    "print('Средний чек в контрольной группе A1:', cr_control_2.query('revenue > 0')  \n",
    "      .revenue.mean().round(2))"
   ]
  },
  {
   "cell_type": "markdown",
   "metadata": {},
   "source": [
    "На первый взгляд разница есть, причем довольно большая. Проведем тесты."
   ]
  },
  {
   "cell_type": "markdown",
   "metadata": {},
   "source": [
    "H0 - группы не имеют стат.значимых различий.  \n",
    "H1 - группы имеют стат.значимые различия."
   ]
  },
  {
   "cell_type": "code",
   "execution_count": 128,
   "metadata": {},
   "outputs": [
    {
     "name": "stdout",
     "output_type": "stream",
     "text": [
      "Сравнение А1/B: 0.022002024410823124\n",
      "Сравнение А2/B: 0.03463181831606747\n"
     ]
    }
   ],
   "source": [
    "booted_data1 = get_bootstrap(cr_test.query('revenue > 0').revenue,  \n",
    "                                              cr_control_1.query('revenue > 0 & uid != 892333905').revenue)\n",
    "booted_data2 = get_bootstrap(cr_test.query('revenue > 0').revenue,  \n",
    "                                              cr_control_2.query('revenue > 0').revenue)\n",
    "print('Сравнение А1/B:', booted_data1['p_value'])\n",
    "print('Сравнение А2/B:', booted_data2['p_value'])"
   ]
  },
  {
   "cell_type": "markdown",
   "metadata": {},
   "source": [
    "**В обоих тестах групп Pvalue < 0.05, следовательно результат стат.значим.**"
   ]
  },
  {
   "cell_type": "markdown",
   "metadata": {},
   "source": [
    "### ARPPU"
   ]
  },
  {
   "cell_type": "code",
   "execution_count": 129,
   "metadata": {},
   "outputs": [
    {
     "name": "stdout",
     "output_type": "stream",
     "text": [
      "Средний чек в тестовой группе B: 16021.11\n",
      "Средний чек в контрольной группе A1: 10947.09\n",
      "Средний чек в контрольной группе A1: 10178.72\n"
     ]
    }
   ],
   "source": [
    "print('Средний чек в тестовой группе B:', user_test_new.query('revenue > 0')  \n",
    "      .revenue.mean().round(2))\n",
    "print('Средний чек в контрольной группе A1:', user_control_1_new.query('revenue > 0 & uid != 892333905')  \n",
    "      .revenue.mean().round(2))\n",
    "print('Средний чек в контрольной группе A1:', user_control_2_new.query('revenue > 0')  \n",
    "      .revenue.mean().round(2))"
   ]
  },
  {
   "cell_type": "markdown",
   "metadata": {},
   "source": [
    "На первый взгляд разница есть, причем довольно большая. Проведем тесты."
   ]
  },
  {
   "cell_type": "markdown",
   "metadata": {},
   "source": [
    "H0 - группы не имеют стат.значимых различий.  \n",
    "H1 - группы имеют стат.значимые различия."
   ]
  },
  {
   "cell_type": "code",
   "execution_count": 130,
   "metadata": {},
   "outputs": [
    {
     "name": "stdout",
     "output_type": "stream",
     "text": [
      "Сравнение А1/B: 0.0007077379817899262\n",
      "Сравнение А2/B: 0.00013882362528310342\n"
     ]
    }
   ],
   "source": [
    "booted_data1 = get_bootstrap(user_test_new.query('revenue > 0').revenue,  \n",
    "                                              user_control_1_new.query('revenue > 0 & uid != 892333905').revenue)\n",
    "booted_data2 = get_bootstrap(user_test_new.query('revenue > 0').revenue,  \n",
    "                                              user_control_2_new.query('revenue > 0').revenue)\n",
    "print('Сравнение А1/B:', booted_data1['p_value'])\n",
    "print('Сравнение А2/B:', booted_data2['p_value'])"
   ]
  },
  {
   "cell_type": "markdown",
   "metadata": {},
   "source": [
    "**В обоих тестах групп Pvalue < 0.05, следовательно результат стат.значим.**"
   ]
  },
  {
   "cell_type": "markdown",
   "metadata": {},
   "source": [
    "### ARPU по подписке Premium_no_trial в разных возростных группах"
   ]
  },
  {
   "cell_type": "code",
   "execution_count": 131,
   "metadata": {},
   "outputs": [],
   "source": [
    "age_group = ['0-18', '19-35', '36-60', '60+']"
   ]
  },
  {
   "cell_type": "code",
   "execution_count": 132,
   "metadata": {},
   "outputs": [],
   "source": [
    "a_list = []\n",
    "b_list = []\n",
    "for el in age_group:\n",
    "    compare_bs = get_bootstrap(cr_test.query('age_group == @el').revenue, # числовые значения первой выборки\n",
    "                        cr_control_2.query('uid != 892333905 & age_group == @el').revenue, # числовые значения второй выборки\n",
    "                        boot_it = 100, # количество бутстрэп-подвыборок\n",
    "                        statistic = np.mean, # интересующая нас статистика\n",
    "                        bootstrap_conf_level = 0.95, # уровень значимости\n",
    "                        )\n",
    "    a_list.append(el)\n",
    "    b_list.append(compare_bs['p_value'])\n",
    "a1b_age = pd.DataFrame({'age_group': a_list, 'p_value': b_list})\n",
    "del a_list, b_list"
   ]
  },
  {
   "cell_type": "code",
   "execution_count": 133,
   "metadata": {},
   "outputs": [
    {
     "data": {
      "text/html": [
       "<div>\n",
       "<style scoped>\n",
       "    .dataframe tbody tr th:only-of-type {\n",
       "        vertical-align: middle;\n",
       "    }\n",
       "\n",
       "    .dataframe tbody tr th {\n",
       "        vertical-align: top;\n",
       "    }\n",
       "\n",
       "    .dataframe thead th {\n",
       "        text-align: right;\n",
       "    }\n",
       "</style>\n",
       "<table border=\"1\" class=\"dataframe\">\n",
       "  <thead>\n",
       "    <tr style=\"text-align: right;\">\n",
       "      <th></th>\n",
       "      <th>age_group</th>\n",
       "      <th>p_value</th>\n",
       "    </tr>\n",
       "  </thead>\n",
       "  <tbody>\n",
       "    <tr>\n",
       "      <th>0</th>\n",
       "      <td>0-18</td>\n",
       "      <td>0.520243</td>\n",
       "    </tr>\n",
       "    <tr>\n",
       "      <th>1</th>\n",
       "      <td>19-35</td>\n",
       "      <td>0.542248</td>\n",
       "    </tr>\n",
       "    <tr>\n",
       "      <th>2</th>\n",
       "      <td>36-60</td>\n",
       "      <td>0.229129</td>\n",
       "    </tr>\n",
       "    <tr>\n",
       "      <th>3</th>\n",
       "      <td>60+</td>\n",
       "      <td>0.939797</td>\n",
       "    </tr>\n",
       "  </tbody>\n",
       "</table>\n",
       "</div>"
      ],
      "text/plain": [
       "  age_group   p_value\n",
       "0      0-18  0.520243\n",
       "1     19-35  0.542248\n",
       "2     36-60  0.229129\n",
       "3       60+  0.939797"
      ]
     },
     "execution_count": 133,
     "metadata": {},
     "output_type": "execute_result"
    }
   ],
   "source": [
    "a1b_age"
   ]
  },
  {
   "cell_type": "code",
   "execution_count": 134,
   "metadata": {},
   "outputs": [],
   "source": [
    "a_list = []\n",
    "b_list = []\n",
    "for el in age_group:\n",
    "    compare_bs = get_bootstrap(cr_test.query('age_group == @el').revenue, # числовые значения первой выборки\n",
    "                        cr_control_1.query('uid != 892333905 & age_group == @el').revenue, # числовые значения второй выборки\n",
    "                        boot_it = 100, # количество бутстрэп-подвыборок\n",
    "                        statistic = np.mean, # интересующая нас статистика\n",
    "                        bootstrap_conf_level = 0.95, # уровень значимости\n",
    "                        )\n",
    "    a_list.append(el)\n",
    "    b_list.append(compare_bs['p_value'])\n",
    "a2b_age = pd.DataFrame({'age_group': a_list, 'p_value': b_list})\n",
    "del a_list, b_list"
   ]
  },
  {
   "cell_type": "code",
   "execution_count": 135,
   "metadata": {},
   "outputs": [
    {
     "data": {
      "text/html": [
       "<div>\n",
       "<style scoped>\n",
       "    .dataframe tbody tr th:only-of-type {\n",
       "        vertical-align: middle;\n",
       "    }\n",
       "\n",
       "    .dataframe tbody tr th {\n",
       "        vertical-align: top;\n",
       "    }\n",
       "\n",
       "    .dataframe thead th {\n",
       "        text-align: right;\n",
       "    }\n",
       "</style>\n",
       "<table border=\"1\" class=\"dataframe\">\n",
       "  <thead>\n",
       "    <tr style=\"text-align: right;\">\n",
       "      <th></th>\n",
       "      <th>age_group</th>\n",
       "      <th>p_value</th>\n",
       "    </tr>\n",
       "  </thead>\n",
       "  <tbody>\n",
       "    <tr>\n",
       "      <th>0</th>\n",
       "      <td>0-18</td>\n",
       "      <td>0.883921</td>\n",
       "    </tr>\n",
       "    <tr>\n",
       "      <th>1</th>\n",
       "      <td>19-35</td>\n",
       "      <td>0.497298</td>\n",
       "    </tr>\n",
       "    <tr>\n",
       "      <th>2</th>\n",
       "      <td>36-60</td>\n",
       "      <td>0.254613</td>\n",
       "    </tr>\n",
       "    <tr>\n",
       "      <th>3</th>\n",
       "      <td>60+</td>\n",
       "      <td>0.706780</td>\n",
       "    </tr>\n",
       "  </tbody>\n",
       "</table>\n",
       "</div>"
      ],
      "text/plain": [
       "  age_group   p_value\n",
       "0      0-18  0.883921\n",
       "1     19-35  0.497298\n",
       "2     36-60  0.254613\n",
       "3       60+  0.706780"
      ]
     },
     "execution_count": 135,
     "metadata": {},
     "output_type": "execute_result"
    }
   ],
   "source": [
    "a2b_age"
   ]
  },
  {
   "cell_type": "markdown",
   "metadata": {},
   "source": [
    "**В обоих случаях Pvalue > 0.05, стат.значимых различий обнаружено не было.**"
   ]
  },
  {
   "cell_type": "markdown",
   "metadata": {},
   "source": [
    "### ARPU в разных возростных группах"
   ]
  },
  {
   "cell_type": "code",
   "execution_count": 136,
   "metadata": {},
   "outputs": [],
   "source": [
    "a_list = []\n",
    "b_list = []\n",
    "for el in age_group:\n",
    "    compare_bs = get_bootstrap(user_test_new.query('age_group == @el').revenue, # числовые значения первой выборки\n",
    "                        user_control_1_new.query('uid != 892333905 & age_group == @el').revenue, # числовые значения второй выборки\n",
    "                        boot_it = 100, # количество бутстрэп-подвыборок\n",
    "                        statistic = np.mean, # интересующая нас статистика\n",
    "                        bootstrap_conf_level = 0.95, # уровень значимости\n",
    "                        )\n",
    "    a_list.append(el)\n",
    "    b_list.append(compare_bs['p_value'])\n",
    "a1b_age_full = pd.DataFrame({'age_group': a_list, 'p_value': b_list})\n",
    "del a_list, b_list"
   ]
  },
  {
   "cell_type": "code",
   "execution_count": 137,
   "metadata": {},
   "outputs": [
    {
     "data": {
      "text/html": [
       "<div>\n",
       "<style scoped>\n",
       "    .dataframe tbody tr th:only-of-type {\n",
       "        vertical-align: middle;\n",
       "    }\n",
       "\n",
       "    .dataframe tbody tr th {\n",
       "        vertical-align: top;\n",
       "    }\n",
       "\n",
       "    .dataframe thead th {\n",
       "        text-align: right;\n",
       "    }\n",
       "</style>\n",
       "<table border=\"1\" class=\"dataframe\">\n",
       "  <thead>\n",
       "    <tr style=\"text-align: right;\">\n",
       "      <th></th>\n",
       "      <th>age_group</th>\n",
       "      <th>p_value</th>\n",
       "    </tr>\n",
       "  </thead>\n",
       "  <tbody>\n",
       "    <tr>\n",
       "      <th>0</th>\n",
       "      <td>0-18</td>\n",
       "      <td>0.216928</td>\n",
       "    </tr>\n",
       "    <tr>\n",
       "      <th>1</th>\n",
       "      <td>19-35</td>\n",
       "      <td>0.743945</td>\n",
       "    </tr>\n",
       "    <tr>\n",
       "      <th>2</th>\n",
       "      <td>36-60</td>\n",
       "      <td>0.346646</td>\n",
       "    </tr>\n",
       "    <tr>\n",
       "      <th>3</th>\n",
       "      <td>60+</td>\n",
       "      <td>0.737399</td>\n",
       "    </tr>\n",
       "  </tbody>\n",
       "</table>\n",
       "</div>"
      ],
      "text/plain": [
       "  age_group   p_value\n",
       "0      0-18  0.216928\n",
       "1     19-35  0.743945\n",
       "2     36-60  0.346646\n",
       "3       60+  0.737399"
      ]
     },
     "execution_count": 137,
     "metadata": {},
     "output_type": "execute_result"
    }
   ],
   "source": [
    "a1b_age_full"
   ]
  },
  {
   "cell_type": "code",
   "execution_count": 138,
   "metadata": {},
   "outputs": [],
   "source": [
    "a_list = []\n",
    "b_list = []\n",
    "for el in age_group:\n",
    "    compare_bs = get_bootstrap(user_test_new.query('age_group == @el').revenue, # числовые значения первой выборки\n",
    "                        user_control_2_new.query('uid != 892333905 & age_group == @el').revenue, # числовые значения второй выборки\n",
    "                        boot_it = 100, # количество бутстрэп-подвыборок\n",
    "                        statistic = np.mean, # интересующая нас статистика\n",
    "                        bootstrap_conf_level = 0.95, # уровень значимости\n",
    "                        )\n",
    "    a_list.append(el)\n",
    "    b_list.append(compare_bs['p_value'])\n",
    "a2b_age_full = pd.DataFrame({'age_group': a_list, 'p_value': b_list})\n",
    "del a_list, b_list"
   ]
  },
  {
   "cell_type": "code",
   "execution_count": 139,
   "metadata": {},
   "outputs": [
    {
     "data": {
      "text/html": [
       "<div>\n",
       "<style scoped>\n",
       "    .dataframe tbody tr th:only-of-type {\n",
       "        vertical-align: middle;\n",
       "    }\n",
       "\n",
       "    .dataframe tbody tr th {\n",
       "        vertical-align: top;\n",
       "    }\n",
       "\n",
       "    .dataframe thead th {\n",
       "        text-align: right;\n",
       "    }\n",
       "</style>\n",
       "<table border=\"1\" class=\"dataframe\">\n",
       "  <thead>\n",
       "    <tr style=\"text-align: right;\">\n",
       "      <th></th>\n",
       "      <th>age_group</th>\n",
       "      <th>p_value</th>\n",
       "    </tr>\n",
       "  </thead>\n",
       "  <tbody>\n",
       "    <tr>\n",
       "      <th>0</th>\n",
       "      <td>0-18</td>\n",
       "      <td>0.444877</td>\n",
       "    </tr>\n",
       "    <tr>\n",
       "      <th>1</th>\n",
       "      <td>19-35</td>\n",
       "      <td>0.090312</td>\n",
       "    </tr>\n",
       "    <tr>\n",
       "      <th>2</th>\n",
       "      <td>36-60</td>\n",
       "      <td>0.812754</td>\n",
       "    </tr>\n",
       "    <tr>\n",
       "      <th>3</th>\n",
       "      <td>60+</td>\n",
       "      <td>0.456645</td>\n",
       "    </tr>\n",
       "  </tbody>\n",
       "</table>\n",
       "</div>"
      ],
      "text/plain": [
       "  age_group   p_value\n",
       "0      0-18  0.444877\n",
       "1     19-35  0.090312\n",
       "2     36-60  0.812754\n",
       "3       60+  0.456645"
      ]
     },
     "execution_count": 139,
     "metadata": {},
     "output_type": "execute_result"
    }
   ],
   "source": [
    "a2b_age_full"
   ]
  },
  {
   "cell_type": "markdown",
   "metadata": {},
   "source": [
    "**В обоих случаях Pvalue > 0.05, стат.значимых различий обнаружено не было.**"
   ]
  },
  {
   "cell_type": "markdown",
   "metadata": {},
   "source": [
    "### ARPU по подписке Premium_no_trial по странам."
   ]
  },
  {
   "cell_type": "code",
   "execution_count": 155,
   "metadata": {},
   "outputs": [],
   "source": [
    "a_list = []\n",
    "b_list = []\n",
    "for el in country:\n",
    "    compare_bs = get_bootstrap(cr_test.query('country_x == @el').revenue, # числовые значения первой выборки\n",
    "                        cr_control_1.query('uid != 892333905 & country_x == @el').revenue, # числовые значения второй выборки\n",
    "                        boot_it = 100, # количество бутстрэп-подвыборок\n",
    "                        statistic = np.mean, # интересующая нас статистика\n",
    "                        bootstrap_conf_level = 0.95, # уровень значимости\n",
    "                        )\n",
    "    a_list.append(el)\n",
    "    b_list.append(compare_bs['p_value'])\n",
    "a1b_country = pd.DataFrame({'country': a_list, 'p_value': b_list})\n",
    "del a_list, b_list"
   ]
  },
  {
   "cell_type": "code",
   "execution_count": 156,
   "metadata": {},
   "outputs": [
    {
     "data": {
      "text/html": [
       "<div>\n",
       "<style scoped>\n",
       "    .dataframe tbody tr th:only-of-type {\n",
       "        vertical-align: middle;\n",
       "    }\n",
       "\n",
       "    .dataframe tbody tr th {\n",
       "        vertical-align: top;\n",
       "    }\n",
       "\n",
       "    .dataframe thead th {\n",
       "        text-align: right;\n",
       "    }\n",
       "</style>\n",
       "<table border=\"1\" class=\"dataframe\">\n",
       "  <thead>\n",
       "    <tr style=\"text-align: right;\">\n",
       "      <th></th>\n",
       "      <th>country</th>\n",
       "      <th>p_value</th>\n",
       "    </tr>\n",
       "  </thead>\n",
       "  <tbody>\n",
       "    <tr>\n",
       "      <th>0</th>\n",
       "      <td>Argentina</td>\n",
       "      <td>0.577643</td>\n",
       "    </tr>\n",
       "    <tr>\n",
       "      <th>1</th>\n",
       "      <td>Australia</td>\n",
       "      <td>0.436571</td>\n",
       "    </tr>\n",
       "    <tr>\n",
       "      <th>2</th>\n",
       "      <td>Belgium</td>\n",
       "      <td>0.365646</td>\n",
       "    </tr>\n",
       "    <tr>\n",
       "      <th>3</th>\n",
       "      <td>Canada</td>\n",
       "      <td>0.931240</td>\n",
       "    </tr>\n",
       "    <tr>\n",
       "      <th>4</th>\n",
       "      <td>Chile</td>\n",
       "      <td>0.600439</td>\n",
       "    </tr>\n",
       "    <tr>\n",
       "      <th>5</th>\n",
       "      <td>Colombia</td>\n",
       "      <td>NaN</td>\n",
       "    </tr>\n",
       "    <tr>\n",
       "      <th>6</th>\n",
       "      <td>Costa Rica</td>\n",
       "      <td>NaN</td>\n",
       "    </tr>\n",
       "    <tr>\n",
       "      <th>7</th>\n",
       "      <td>Dominican Republic</td>\n",
       "      <td>NaN</td>\n",
       "    </tr>\n",
       "    <tr>\n",
       "      <th>8</th>\n",
       "      <td>France</td>\n",
       "      <td>0.088000</td>\n",
       "    </tr>\n",
       "    <tr>\n",
       "      <th>9</th>\n",
       "      <td>Germany</td>\n",
       "      <td>0.394159</td>\n",
       "    </tr>\n",
       "    <tr>\n",
       "      <th>10</th>\n",
       "      <td>India</td>\n",
       "      <td>0.092484</td>\n",
       "    </tr>\n",
       "    <tr>\n",
       "      <th>11</th>\n",
       "      <td>Israel</td>\n",
       "      <td>0.168733</td>\n",
       "    </tr>\n",
       "    <tr>\n",
       "      <th>12</th>\n",
       "      <td>Italy</td>\n",
       "      <td>0.999141</td>\n",
       "    </tr>\n",
       "    <tr>\n",
       "      <th>13</th>\n",
       "      <td>Kyrgyzstan</td>\n",
       "      <td>NaN</td>\n",
       "    </tr>\n",
       "    <tr>\n",
       "      <th>14</th>\n",
       "      <td>Mexico</td>\n",
       "      <td>0.374557</td>\n",
       "    </tr>\n",
       "    <tr>\n",
       "      <th>15</th>\n",
       "      <td>Peru</td>\n",
       "      <td>NaN</td>\n",
       "    </tr>\n",
       "    <tr>\n",
       "      <th>16</th>\n",
       "      <td>Portugal</td>\n",
       "      <td>0.351135</td>\n",
       "    </tr>\n",
       "    <tr>\n",
       "      <th>17</th>\n",
       "      <td>Russian Federation</td>\n",
       "      <td>NaN</td>\n",
       "    </tr>\n",
       "    <tr>\n",
       "      <th>18</th>\n",
       "      <td>Spain</td>\n",
       "      <td>0.288571</td>\n",
       "    </tr>\n",
       "    <tr>\n",
       "      <th>19</th>\n",
       "      <td>Switzerland</td>\n",
       "      <td>0.283392</td>\n",
       "    </tr>\n",
       "    <tr>\n",
       "      <th>20</th>\n",
       "      <td>Turkey</td>\n",
       "      <td>0.296924</td>\n",
       "    </tr>\n",
       "    <tr>\n",
       "      <th>21</th>\n",
       "      <td>Ukraine</td>\n",
       "      <td>NaN</td>\n",
       "    </tr>\n",
       "    <tr>\n",
       "      <th>22</th>\n",
       "      <td>United Arab Emirates</td>\n",
       "      <td>0.272996</td>\n",
       "    </tr>\n",
       "    <tr>\n",
       "      <th>23</th>\n",
       "      <td>United Kingdom (Great Britain)</td>\n",
       "      <td>0.971672</td>\n",
       "    </tr>\n",
       "    <tr>\n",
       "      <th>24</th>\n",
       "      <td>United States of America</td>\n",
       "      <td>0.553560</td>\n",
       "    </tr>\n",
       "  </tbody>\n",
       "</table>\n",
       "</div>"
      ],
      "text/plain": [
       "                           country   p_value\n",
       "0                        Argentina  0.577643\n",
       "1                        Australia  0.436571\n",
       "2                          Belgium  0.365646\n",
       "3                           Canada  0.931240\n",
       "4                            Chile  0.600439\n",
       "5                         Colombia       NaN\n",
       "6                       Costa Rica       NaN\n",
       "7               Dominican Republic       NaN\n",
       "8                           France  0.088000\n",
       "9                          Germany  0.394159\n",
       "10                           India  0.092484\n",
       "11                          Israel  0.168733\n",
       "12                           Italy  0.999141\n",
       "13                      Kyrgyzstan       NaN\n",
       "14                          Mexico  0.374557\n",
       "15                            Peru       NaN\n",
       "16                        Portugal  0.351135\n",
       "17              Russian Federation       NaN\n",
       "18                           Spain  0.288571\n",
       "19                     Switzerland  0.283392\n",
       "20                          Turkey  0.296924\n",
       "21                         Ukraine       NaN\n",
       "22            United Arab Emirates  0.272996\n",
       "23  United Kingdom (Great Britain)  0.971672\n",
       "24        United States of America  0.553560"
      ]
     },
     "execution_count": 156,
     "metadata": {},
     "output_type": "execute_result"
    }
   ],
   "source": [
    "a1b_country"
   ]
  },
  {
   "cell_type": "code",
   "execution_count": 142,
   "metadata": {},
   "outputs": [],
   "source": [
    "a_list = []\n",
    "b_list = []\n",
    "for el in country:\n",
    "    compare_bs = get_bootstrap(cr_test.query('country_x == @el').revenue, # числовые значения первой выборки\n",
    "                        cr_control_2.query('country_x == @el').revenue, # числовые значения второй выборки\n",
    "                        boot_it = 100, # количество бутстрэп-подвыборок\n",
    "                        statistic = np.mean, # интересующая нас статистика\n",
    "                        bootstrap_conf_level = 0.95, # уровень значимости\n",
    "                        )\n",
    "    a_list.append(el)\n",
    "    b_list.append(compare_bs['p_value'])\n",
    "a2b_country = pd.DataFrame({'country': a_list, 'p_value': b_list})\n",
    "del a_list, b_list"
   ]
  },
  {
   "cell_type": "code",
   "execution_count": 143,
   "metadata": {},
   "outputs": [
    {
     "data": {
      "text/html": [
       "<div>\n",
       "<style scoped>\n",
       "    .dataframe tbody tr th:only-of-type {\n",
       "        vertical-align: middle;\n",
       "    }\n",
       "\n",
       "    .dataframe tbody tr th {\n",
       "        vertical-align: top;\n",
       "    }\n",
       "\n",
       "    .dataframe thead th {\n",
       "        text-align: right;\n",
       "    }\n",
       "</style>\n",
       "<table border=\"1\" class=\"dataframe\">\n",
       "  <thead>\n",
       "    <tr style=\"text-align: right;\">\n",
       "      <th></th>\n",
       "      <th>country</th>\n",
       "      <th>p_value</th>\n",
       "    </tr>\n",
       "  </thead>\n",
       "  <tbody>\n",
       "    <tr>\n",
       "      <th>0</th>\n",
       "      <td>Argentina</td>\n",
       "      <td>0.936943</td>\n",
       "    </tr>\n",
       "    <tr>\n",
       "      <th>1</th>\n",
       "      <td>Australia</td>\n",
       "      <td>0.646369</td>\n",
       "    </tr>\n",
       "    <tr>\n",
       "      <th>2</th>\n",
       "      <td>Belgium</td>\n",
       "      <td>0.290444</td>\n",
       "    </tr>\n",
       "    <tr>\n",
       "      <th>3</th>\n",
       "      <td>Canada</td>\n",
       "      <td>0.242208</td>\n",
       "    </tr>\n",
       "    <tr>\n",
       "      <th>4</th>\n",
       "      <td>Chile</td>\n",
       "      <td>0.896462</td>\n",
       "    </tr>\n",
       "    <tr>\n",
       "      <th>5</th>\n",
       "      <td>Colombia</td>\n",
       "      <td>NaN</td>\n",
       "    </tr>\n",
       "    <tr>\n",
       "      <th>6</th>\n",
       "      <td>Costa Rica</td>\n",
       "      <td>NaN</td>\n",
       "    </tr>\n",
       "    <tr>\n",
       "      <th>7</th>\n",
       "      <td>Dominican Republic</td>\n",
       "      <td>NaN</td>\n",
       "    </tr>\n",
       "    <tr>\n",
       "      <th>8</th>\n",
       "      <td>France</td>\n",
       "      <td>0.443444</td>\n",
       "    </tr>\n",
       "    <tr>\n",
       "      <th>9</th>\n",
       "      <td>Germany</td>\n",
       "      <td>0.366110</td>\n",
       "    </tr>\n",
       "    <tr>\n",
       "      <th>10</th>\n",
       "      <td>India</td>\n",
       "      <td>NaN</td>\n",
       "    </tr>\n",
       "    <tr>\n",
       "      <th>11</th>\n",
       "      <td>Israel</td>\n",
       "      <td>0.726107</td>\n",
       "    </tr>\n",
       "    <tr>\n",
       "      <th>12</th>\n",
       "      <td>Italy</td>\n",
       "      <td>0.336546</td>\n",
       "    </tr>\n",
       "    <tr>\n",
       "      <th>13</th>\n",
       "      <td>Kyrgyzstan</td>\n",
       "      <td>NaN</td>\n",
       "    </tr>\n",
       "    <tr>\n",
       "      <th>14</th>\n",
       "      <td>Mexico</td>\n",
       "      <td>0.295257</td>\n",
       "    </tr>\n",
       "    <tr>\n",
       "      <th>15</th>\n",
       "      <td>Peru</td>\n",
       "      <td>NaN</td>\n",
       "    </tr>\n",
       "    <tr>\n",
       "      <th>16</th>\n",
       "      <td>Portugal</td>\n",
       "      <td>0.036358</td>\n",
       "    </tr>\n",
       "    <tr>\n",
       "      <th>17</th>\n",
       "      <td>Russian Federation</td>\n",
       "      <td>NaN</td>\n",
       "    </tr>\n",
       "    <tr>\n",
       "      <th>18</th>\n",
       "      <td>Spain</td>\n",
       "      <td>0.812829</td>\n",
       "    </tr>\n",
       "    <tr>\n",
       "      <th>19</th>\n",
       "      <td>Switzerland</td>\n",
       "      <td>0.066991</td>\n",
       "    </tr>\n",
       "    <tr>\n",
       "      <th>20</th>\n",
       "      <td>Turkey</td>\n",
       "      <td>0.276118</td>\n",
       "    </tr>\n",
       "    <tr>\n",
       "      <th>21</th>\n",
       "      <td>Ukraine</td>\n",
       "      <td>0.336475</td>\n",
       "    </tr>\n",
       "    <tr>\n",
       "      <th>22</th>\n",
       "      <td>United Arab Emirates</td>\n",
       "      <td>0.754803</td>\n",
       "    </tr>\n",
       "    <tr>\n",
       "      <th>23</th>\n",
       "      <td>United Kingdom (Great Britain)</td>\n",
       "      <td>0.274916</td>\n",
       "    </tr>\n",
       "    <tr>\n",
       "      <th>24</th>\n",
       "      <td>United States of America</td>\n",
       "      <td>0.924075</td>\n",
       "    </tr>\n",
       "  </tbody>\n",
       "</table>\n",
       "</div>"
      ],
      "text/plain": [
       "                           country   p_value\n",
       "0                        Argentina  0.936943\n",
       "1                        Australia  0.646369\n",
       "2                          Belgium  0.290444\n",
       "3                           Canada  0.242208\n",
       "4                            Chile  0.896462\n",
       "5                         Colombia       NaN\n",
       "6                       Costa Rica       NaN\n",
       "7               Dominican Republic       NaN\n",
       "8                           France  0.443444\n",
       "9                          Germany  0.366110\n",
       "10                           India       NaN\n",
       "11                          Israel  0.726107\n",
       "12                           Italy  0.336546\n",
       "13                      Kyrgyzstan       NaN\n",
       "14                          Mexico  0.295257\n",
       "15                            Peru       NaN\n",
       "16                        Portugal  0.036358\n",
       "17              Russian Federation       NaN\n",
       "18                           Spain  0.812829\n",
       "19                     Switzerland  0.066991\n",
       "20                          Turkey  0.276118\n",
       "21                         Ukraine  0.336475\n",
       "22            United Arab Emirates  0.754803\n",
       "23  United Kingdom (Great Britain)  0.274916\n",
       "24        United States of America  0.924075"
      ]
     },
     "execution_count": 143,
     "metadata": {},
     "output_type": "execute_result"
    }
   ],
   "source": [
    "a2b_country"
   ]
  },
  {
   "cell_type": "markdown",
   "metadata": {},
   "source": [
    "Наблюдаем стат.значимое различие в Португалии между тестовой группой B и контрольной A2.  \n",
    "Проверим данные на репрезентативность, а так же посмотрим, в какую сторону идет изменение."
   ]
  },
  {
   "cell_type": "code",
   "execution_count": 144,
   "metadata": {},
   "outputs": [
    {
     "name": "stdout",
     "output_type": "stream",
     "text": [
      "Количество пользователей из Португалии в тестовой группе B: 91\n",
      "Количество пользователей из Португалии в контрольной группе A2: 100\n"
     ]
    }
   ],
   "source": [
    "print('Количество пользователей из Португалии в тестовой группе B:', cr_test.query('country_x == \"Portugal\"').uid.nunique())\n",
    "print('Количество пользователей из Португалии в контрольной группе A2:', cr_control_2\n",
    "                                                                         .query('country_x == \"Portugal\"').uid.nunique())"
   ]
  },
  {
   "cell_type": "code",
   "execution_count": 145,
   "metadata": {},
   "outputs": [
    {
     "name": "stdout",
     "output_type": "stream",
     "text": [
      "Общая выручка пользователей из Португалии в тестовой группе B: 0.0\n",
      "Общая выручка пользователей из Португалии в контрольной группе A2: 24336.0\n"
     ]
    }
   ],
   "source": [
    "print('Общая выручка пользователей из Португалии в тестовой группе B:', cr_test.query('country_x == \"Portugal\"').revenue.sum())\n",
    "print('Общая выручка пользователей из Португалии в контрольной группе A2:', cr_control_2\n",
    "                                                                           .query('country_x == \"Portugal\"').revenue.sum())"
   ]
  },
  {
   "cell_type": "markdown",
   "metadata": {},
   "source": [
    "**Наблюдаем негативное влияние для пользователей из Португалии. Для остальных стран стат.значимых различий обнаружено не было.**"
   ]
  },
  {
   "cell_type": "markdown",
   "metadata": {},
   "source": [
    "### ARPU  по странам."
   ]
  },
  {
   "cell_type": "code",
   "execution_count": 146,
   "metadata": {},
   "outputs": [],
   "source": [
    "a_list = []\n",
    "b_list = []\n",
    "for el in country:\n",
    "    compare_bs = get_bootstrap(user_test_new.query('country == @el').revenue, # числовые значения первой выборки\n",
    "                        user_control_1_new.query('uid != 892333905 & country == @el').revenue, # числовые значения второй выборки\n",
    "                        boot_it = 100, # количество бутстрэп-подвыборок\n",
    "                        statistic = np.mean, # интересующая нас статистика\n",
    "                        bootstrap_conf_level = 0.95, # уровень значимости\n",
    "                        )\n",
    "    a_list.append(el)\n",
    "    b_list.append(compare_bs['p_value'])\n",
    "a1b_country_full = pd.DataFrame({'country': a_list, 'p_value': b_list})\n",
    "del a_list, b_list"
   ]
  },
  {
   "cell_type": "code",
   "execution_count": 147,
   "metadata": {},
   "outputs": [
    {
     "data": {
      "text/html": [
       "<div>\n",
       "<style scoped>\n",
       "    .dataframe tbody tr th:only-of-type {\n",
       "        vertical-align: middle;\n",
       "    }\n",
       "\n",
       "    .dataframe tbody tr th {\n",
       "        vertical-align: top;\n",
       "    }\n",
       "\n",
       "    .dataframe thead th {\n",
       "        text-align: right;\n",
       "    }\n",
       "</style>\n",
       "<table border=\"1\" class=\"dataframe\">\n",
       "  <thead>\n",
       "    <tr style=\"text-align: right;\">\n",
       "      <th></th>\n",
       "      <th>country</th>\n",
       "      <th>p_value</th>\n",
       "    </tr>\n",
       "  </thead>\n",
       "  <tbody>\n",
       "    <tr>\n",
       "      <th>0</th>\n",
       "      <td>Argentina</td>\n",
       "      <td>0.684338</td>\n",
       "    </tr>\n",
       "    <tr>\n",
       "      <th>1</th>\n",
       "      <td>Australia</td>\n",
       "      <td>0.586343</td>\n",
       "    </tr>\n",
       "    <tr>\n",
       "      <th>2</th>\n",
       "      <td>Belgium</td>\n",
       "      <td>0.473177</td>\n",
       "    </tr>\n",
       "    <tr>\n",
       "      <th>3</th>\n",
       "      <td>Canada</td>\n",
       "      <td>0.715039</td>\n",
       "    </tr>\n",
       "    <tr>\n",
       "      <th>4</th>\n",
       "      <td>Chile</td>\n",
       "      <td>0.672720</td>\n",
       "    </tr>\n",
       "    <tr>\n",
       "      <th>5</th>\n",
       "      <td>Colombia</td>\n",
       "      <td>NaN</td>\n",
       "    </tr>\n",
       "    <tr>\n",
       "      <th>6</th>\n",
       "      <td>Costa Rica</td>\n",
       "      <td>NaN</td>\n",
       "    </tr>\n",
       "    <tr>\n",
       "      <th>7</th>\n",
       "      <td>Dominican Republic</td>\n",
       "      <td>NaN</td>\n",
       "    </tr>\n",
       "    <tr>\n",
       "      <th>8</th>\n",
       "      <td>France</td>\n",
       "      <td>0.268425</td>\n",
       "    </tr>\n",
       "    <tr>\n",
       "      <th>9</th>\n",
       "      <td>Germany</td>\n",
       "      <td>0.136613</td>\n",
       "    </tr>\n",
       "    <tr>\n",
       "      <th>10</th>\n",
       "      <td>India</td>\n",
       "      <td>0.080106</td>\n",
       "    </tr>\n",
       "    <tr>\n",
       "      <th>11</th>\n",
       "      <td>Israel</td>\n",
       "      <td>0.599973</td>\n",
       "    </tr>\n",
       "    <tr>\n",
       "      <th>12</th>\n",
       "      <td>Italy</td>\n",
       "      <td>0.655953</td>\n",
       "    </tr>\n",
       "    <tr>\n",
       "      <th>13</th>\n",
       "      <td>Kyrgyzstan</td>\n",
       "      <td>NaN</td>\n",
       "    </tr>\n",
       "    <tr>\n",
       "      <th>14</th>\n",
       "      <td>Mexico</td>\n",
       "      <td>0.344398</td>\n",
       "    </tr>\n",
       "    <tr>\n",
       "      <th>15</th>\n",
       "      <td>Peru</td>\n",
       "      <td>NaN</td>\n",
       "    </tr>\n",
       "    <tr>\n",
       "      <th>16</th>\n",
       "      <td>Portugal</td>\n",
       "      <td>0.180673</td>\n",
       "    </tr>\n",
       "    <tr>\n",
       "      <th>17</th>\n",
       "      <td>Russian Federation</td>\n",
       "      <td>NaN</td>\n",
       "    </tr>\n",
       "    <tr>\n",
       "      <th>18</th>\n",
       "      <td>Spain</td>\n",
       "      <td>0.132139</td>\n",
       "    </tr>\n",
       "    <tr>\n",
       "      <th>19</th>\n",
       "      <td>Switzerland</td>\n",
       "      <td>0.906406</td>\n",
       "    </tr>\n",
       "    <tr>\n",
       "      <th>20</th>\n",
       "      <td>Turkey</td>\n",
       "      <td>0.260790</td>\n",
       "    </tr>\n",
       "    <tr>\n",
       "      <th>21</th>\n",
       "      <td>Ukraine</td>\n",
       "      <td>NaN</td>\n",
       "    </tr>\n",
       "    <tr>\n",
       "      <th>22</th>\n",
       "      <td>United Arab Emirates</td>\n",
       "      <td>0.304096</td>\n",
       "    </tr>\n",
       "    <tr>\n",
       "      <th>23</th>\n",
       "      <td>United Kingdom (Great Britain)</td>\n",
       "      <td>0.115387</td>\n",
       "    </tr>\n",
       "    <tr>\n",
       "      <th>24</th>\n",
       "      <td>United States of America</td>\n",
       "      <td>0.952684</td>\n",
       "    </tr>\n",
       "  </tbody>\n",
       "</table>\n",
       "</div>"
      ],
      "text/plain": [
       "                           country   p_value\n",
       "0                        Argentina  0.684338\n",
       "1                        Australia  0.586343\n",
       "2                          Belgium  0.473177\n",
       "3                           Canada  0.715039\n",
       "4                            Chile  0.672720\n",
       "5                         Colombia       NaN\n",
       "6                       Costa Rica       NaN\n",
       "7               Dominican Republic       NaN\n",
       "8                           France  0.268425\n",
       "9                          Germany  0.136613\n",
       "10                           India  0.080106\n",
       "11                          Israel  0.599973\n",
       "12                           Italy  0.655953\n",
       "13                      Kyrgyzstan       NaN\n",
       "14                          Mexico  0.344398\n",
       "15                            Peru       NaN\n",
       "16                        Portugal  0.180673\n",
       "17              Russian Federation       NaN\n",
       "18                           Spain  0.132139\n",
       "19                     Switzerland  0.906406\n",
       "20                          Turkey  0.260790\n",
       "21                         Ukraine       NaN\n",
       "22            United Arab Emirates  0.304096\n",
       "23  United Kingdom (Great Britain)  0.115387\n",
       "24        United States of America  0.952684"
      ]
     },
     "execution_count": 147,
     "metadata": {},
     "output_type": "execute_result"
    }
   ],
   "source": [
    "a1b_country_full"
   ]
  },
  {
   "cell_type": "code",
   "execution_count": 148,
   "metadata": {},
   "outputs": [],
   "source": [
    "a_list = []\n",
    "b_list = []\n",
    "for el in country:\n",
    "    compare_bs = get_bootstrap(user_test_new.query('country == @el').revenue, # числовые значения первой выборки\n",
    "                        user_control_2_new.query('country == @el').revenue, # числовые значения второй выборки\n",
    "                        boot_it = 100, # количество бутстрэп-подвыборок\n",
    "                        statistic = np.mean, # интересующая нас статистика\n",
    "                        bootstrap_conf_level = 0.95, # уровень значимости\n",
    "                        )\n",
    "    a_list.append(el)\n",
    "    b_list.append(compare_bs['p_value'])\n",
    "a2b_country_full = pd.DataFrame({'country': a_list, 'p_value': b_list})\n",
    "del a_list, b_list"
   ]
  },
  {
   "cell_type": "code",
   "execution_count": 149,
   "metadata": {},
   "outputs": [
    {
     "data": {
      "text/html": [
       "<div>\n",
       "<style scoped>\n",
       "    .dataframe tbody tr th:only-of-type {\n",
       "        vertical-align: middle;\n",
       "    }\n",
       "\n",
       "    .dataframe tbody tr th {\n",
       "        vertical-align: top;\n",
       "    }\n",
       "\n",
       "    .dataframe thead th {\n",
       "        text-align: right;\n",
       "    }\n",
       "</style>\n",
       "<table border=\"1\" class=\"dataframe\">\n",
       "  <thead>\n",
       "    <tr style=\"text-align: right;\">\n",
       "      <th></th>\n",
       "      <th>country</th>\n",
       "      <th>p_value</th>\n",
       "    </tr>\n",
       "  </thead>\n",
       "  <tbody>\n",
       "    <tr>\n",
       "      <th>0</th>\n",
       "      <td>Argentina</td>\n",
       "      <td>0.577181</td>\n",
       "    </tr>\n",
       "    <tr>\n",
       "      <th>1</th>\n",
       "      <td>Australia</td>\n",
       "      <td>0.508588</td>\n",
       "    </tr>\n",
       "    <tr>\n",
       "      <th>2</th>\n",
       "      <td>Belgium</td>\n",
       "      <td>0.374784</td>\n",
       "    </tr>\n",
       "    <tr>\n",
       "      <th>3</th>\n",
       "      <td>Canada</td>\n",
       "      <td>0.440537</td>\n",
       "    </tr>\n",
       "    <tr>\n",
       "      <th>4</th>\n",
       "      <td>Chile</td>\n",
       "      <td>0.539150</td>\n",
       "    </tr>\n",
       "    <tr>\n",
       "      <th>5</th>\n",
       "      <td>Colombia</td>\n",
       "      <td>NaN</td>\n",
       "    </tr>\n",
       "    <tr>\n",
       "      <th>6</th>\n",
       "      <td>Costa Rica</td>\n",
       "      <td>NaN</td>\n",
       "    </tr>\n",
       "    <tr>\n",
       "      <th>7</th>\n",
       "      <td>Dominican Republic</td>\n",
       "      <td>NaN</td>\n",
       "    </tr>\n",
       "    <tr>\n",
       "      <th>8</th>\n",
       "      <td>France</td>\n",
       "      <td>0.119792</td>\n",
       "    </tr>\n",
       "    <tr>\n",
       "      <th>9</th>\n",
       "      <td>Germany</td>\n",
       "      <td>0.813962</td>\n",
       "    </tr>\n",
       "    <tr>\n",
       "      <th>10</th>\n",
       "      <td>India</td>\n",
       "      <td>NaN</td>\n",
       "    </tr>\n",
       "    <tr>\n",
       "      <th>11</th>\n",
       "      <td>Israel</td>\n",
       "      <td>0.897772</td>\n",
       "    </tr>\n",
       "    <tr>\n",
       "      <th>12</th>\n",
       "      <td>Italy</td>\n",
       "      <td>0.784579</td>\n",
       "    </tr>\n",
       "    <tr>\n",
       "      <th>13</th>\n",
       "      <td>Kyrgyzstan</td>\n",
       "      <td>NaN</td>\n",
       "    </tr>\n",
       "    <tr>\n",
       "      <th>14</th>\n",
       "      <td>Mexico</td>\n",
       "      <td>0.321310</td>\n",
       "    </tr>\n",
       "    <tr>\n",
       "      <th>15</th>\n",
       "      <td>Peru</td>\n",
       "      <td>NaN</td>\n",
       "    </tr>\n",
       "    <tr>\n",
       "      <th>16</th>\n",
       "      <td>Portugal</td>\n",
       "      <td>0.022876</td>\n",
       "    </tr>\n",
       "    <tr>\n",
       "      <th>17</th>\n",
       "      <td>Russian Federation</td>\n",
       "      <td>NaN</td>\n",
       "    </tr>\n",
       "    <tr>\n",
       "      <th>18</th>\n",
       "      <td>Spain</td>\n",
       "      <td>0.540526</td>\n",
       "    </tr>\n",
       "    <tr>\n",
       "      <th>19</th>\n",
       "      <td>Switzerland</td>\n",
       "      <td>0.851976</td>\n",
       "    </tr>\n",
       "    <tr>\n",
       "      <th>20</th>\n",
       "      <td>Turkey</td>\n",
       "      <td>0.837705</td>\n",
       "    </tr>\n",
       "    <tr>\n",
       "      <th>21</th>\n",
       "      <td>Ukraine</td>\n",
       "      <td>0.229597</td>\n",
       "    </tr>\n",
       "    <tr>\n",
       "      <th>22</th>\n",
       "      <td>United Arab Emirates</td>\n",
       "      <td>0.598784</td>\n",
       "    </tr>\n",
       "    <tr>\n",
       "      <th>23</th>\n",
       "      <td>United Kingdom (Great Britain)</td>\n",
       "      <td>0.358860</td>\n",
       "    </tr>\n",
       "    <tr>\n",
       "      <th>24</th>\n",
       "      <td>United States of America</td>\n",
       "      <td>0.365233</td>\n",
       "    </tr>\n",
       "  </tbody>\n",
       "</table>\n",
       "</div>"
      ],
      "text/plain": [
       "                           country   p_value\n",
       "0                        Argentina  0.577181\n",
       "1                        Australia  0.508588\n",
       "2                          Belgium  0.374784\n",
       "3                           Canada  0.440537\n",
       "4                            Chile  0.539150\n",
       "5                         Colombia       NaN\n",
       "6                       Costa Rica       NaN\n",
       "7               Dominican Republic       NaN\n",
       "8                           France  0.119792\n",
       "9                          Germany  0.813962\n",
       "10                           India       NaN\n",
       "11                          Israel  0.897772\n",
       "12                           Italy  0.784579\n",
       "13                      Kyrgyzstan       NaN\n",
       "14                          Mexico  0.321310\n",
       "15                            Peru       NaN\n",
       "16                        Portugal  0.022876\n",
       "17              Russian Federation       NaN\n",
       "18                           Spain  0.540526\n",
       "19                     Switzerland  0.851976\n",
       "20                          Turkey  0.837705\n",
       "21                         Ukraine  0.229597\n",
       "22            United Arab Emirates  0.598784\n",
       "23  United Kingdom (Great Britain)  0.358860\n",
       "24        United States of America  0.365233"
      ]
     },
     "execution_count": 149,
     "metadata": {},
     "output_type": "execute_result"
    }
   ],
   "source": [
    "a2b_country_full"
   ]
  },
  {
   "cell_type": "markdown",
   "metadata": {},
   "source": [
    "Наблюдаем стат.значимое различие в Португалии между тестовой группой B и контрольной A2.  \n",
    "Проверим данные на репрезентативность, а так же посмотрим, в какую сторону идет изменение."
   ]
  },
  {
   "cell_type": "code",
   "execution_count": 150,
   "metadata": {},
   "outputs": [
    {
     "name": "stdout",
     "output_type": "stream",
     "text": [
      "Количество пользователей из Португалии в тестовой группе B: 91\n",
      "Количество пользователей из Португалии в контрольной группе A2: 100\n"
     ]
    }
   ],
   "source": [
    "print('Количество пользователей из Португалии в тестовой группе B:', user_test_new\n",
    "                                                                     .query('country == \"Portugal\"').uid.nunique())\n",
    "print('Количество пользователей из Португалии в контрольной группе A2:', user_control_2_new\n",
    "                                                                         .query('country == \"Portugal\"').uid.nunique())"
   ]
  },
  {
   "cell_type": "code",
   "execution_count": 151,
   "metadata": {},
   "outputs": [
    {
     "name": "stdout",
     "output_type": "stream",
     "text": [
      "Общая выручка пользователей из Португалии в тестовой группе B: 0.0\n",
      "Общая выручка пользователей из Португалии в контрольной группе A2: 53807.0\n"
     ]
    }
   ],
   "source": [
    "print('Общая выручка пользователей из Португалии в тестовой группе B:', user_test_new\n",
    "                                                                        .query('country == \"Portugal\"').revenue.sum())\n",
    "print('Общая выручка пользователей из Португалии в контрольной группе A2:', user_control_2_new\n",
    "                                                                           .query('country == \"Portugal\"').revenue.sum())"
   ]
  },
  {
   "cell_type": "markdown",
   "metadata": {},
   "source": [
    "**Наблюдаем негативное влияние для пользователей из Португалии. Для остальных стран стат.значимых различий обнаружено не было.**"
   ]
  },
  {
   "cell_type": "markdown",
   "metadata": {},
   "source": [
    "## Вывод:\n",
    "**Для ARPU в результате A/B теста положительного эффекта обнаружено не было как для подписки premium_no_trial, так и в целом.  \n",
    "Для ARPPU в результате A/B теста положительный эффект наблюдается как для подписки premium_no_trial, так и в целом.  \n",
    "В разрезе по странам положительного эффекта для ARPU обнаружено не было как для подписки premium_no_trial, так и в целом.  \n",
    "В разрезе по взрастам положительного эффекта для ARPU обнаружено не было как для подписки premium_no_trial, так и в целом.  \n",
    "В итоге хоть ARPPU вырос, из-за увеличения цен CR снизился и ARPU не получил стат.значимых изменений.**    \n",
    "\n",
    "**После проведения тестов статистически было даказано, что ARPU не возрос. Хоть ARPPU и стал выше, больше денег это приносить не стало, следовательно расскатывать фичу не имеет смысла.**"
   ]
  },
  {
   "cell_type": "code",
   "execution_count": null,
   "metadata": {},
   "outputs": [],
   "source": []
  }
 ],
 "metadata": {
  "kernelspec": {
   "display_name": "Python 3",
   "language": "python",
   "name": "python3"
  },
  "language_info": {
   "codemirror_mode": {
    "name": "ipython",
    "version": 3
   },
   "file_extension": ".py",
   "mimetype": "text/x-python",
   "name": "python",
   "nbconvert_exporter": "python",
   "pygments_lexer": "ipython3",
   "version": "3.7.3"
  }
 },
 "nbformat": 4,
 "nbformat_minor": 4
}
